{
 "cells": [
  {
   "cell_type": "markdown",
   "id": "fd5b3fb1-278f-442d-8468-9b8b1153b67a",
   "metadata": {},
   "source": [
    "Q1 : what is an exception in python ? write the difference between exceptiona and syntax error ?"
   ]
  },
  {
   "cell_type": "markdown",
   "id": "034576f7-66e1-4b93-9faa-565d58644e01",
   "metadata": {},
   "source": [
    "In Python, an exception is an event that occurs during the execution of a program that disrupts the normal flow of instructions. It is a way of handling errors or exceptional conditions that may arise during program execution. When an exception occurs, it raises a signal that can be caught and handled by the program to prevent it from crashing or terminating abruptly.\n",
    "\n",
    "\n",
    "\n",
    "\n",
    "The main differences between exceptions and syntax errors are as follows:\n",
    "\n",
    "Occurrence: Exceptions occur during the execution of a program, while syntax errors are detected during the parsing phase before execution.\n",
    "\n",
    "Error Type: Exceptions represent runtime errors or exceptional conditions, such as division by zero, accessing an invalid index, or opening a non-existent file. Syntax errors, on the other hand, indicate mistakes in the code's structure, grammar, or syntax, such as misspelled keywords, missing colons, or incorrect indentation.\n",
    "\n",
    "Handling: Exceptions can be caught and handled using the try-except block to prevent program termination and allow for alternative actions. Syntax errors must be fixed by correcting the code before the program can be executed."
   ]
  },
  {
   "cell_type": "markdown",
   "id": "3ba8b321-8e02-4661-8417-22c154d84bce",
   "metadata": {},
   "source": [
    "Q2 :What happen when an exception is not handled? Explain with an example ?"
   ]
  },
  {
   "cell_type": "markdown",
   "id": "fa06142f-cc66-40ed-a35e-ea0da44d8c25",
   "metadata": {},
   "source": [
    "When an exception is not handled in Python, it leads to the termination of the program and an error message is displayed indicating the unhandled exception. This behavior is known as an \"unhandled exception\" or an \"uncaught exception.\""
   ]
  },
  {
   "cell_type": "code",
   "execution_count": 1,
   "id": "2bc184b1-b2a9-4d55-8993-0535a58cae87",
   "metadata": {},
   "outputs": [
    {
     "ename": "ZeroDivisionError",
     "evalue": "division by zero",
     "output_type": "error",
     "traceback": [
      "\u001b[0;31m---------------------------------------------------------------------------\u001b[0m",
      "\u001b[0;31mZeroDivisionError\u001b[0m                         Traceback (most recent call last)",
      "Cell \u001b[0;32mIn[1], line 4\u001b[0m\n\u001b[1;32m      1\u001b[0m \u001b[38;5;28;01mdef\u001b[39;00m \u001b[38;5;21mdivide_numbers\u001b[39m(a, b):\n\u001b[1;32m      2\u001b[0m     \u001b[38;5;28;01mreturn\u001b[39;00m a \u001b[38;5;241m/\u001b[39m b\n\u001b[0;32m----> 4\u001b[0m result \u001b[38;5;241m=\u001b[39m \u001b[43mdivide_numbers\u001b[49m\u001b[43m(\u001b[49m\u001b[38;5;241;43m10\u001b[39;49m\u001b[43m,\u001b[49m\u001b[43m \u001b[49m\u001b[38;5;241;43m0\u001b[39;49m\u001b[43m)\u001b[49m\n\u001b[1;32m      5\u001b[0m \u001b[38;5;28mprint\u001b[39m(\u001b[38;5;124m\"\u001b[39m\u001b[38;5;124mResult:\u001b[39m\u001b[38;5;124m\"\u001b[39m, result)\n",
      "Cell \u001b[0;32mIn[1], line 2\u001b[0m, in \u001b[0;36mdivide_numbers\u001b[0;34m(a, b)\u001b[0m\n\u001b[1;32m      1\u001b[0m \u001b[38;5;28;01mdef\u001b[39;00m \u001b[38;5;21mdivide_numbers\u001b[39m(a, b):\n\u001b[0;32m----> 2\u001b[0m     \u001b[38;5;28;01mreturn\u001b[39;00m \u001b[43ma\u001b[49m\u001b[43m \u001b[49m\u001b[38;5;241;43m/\u001b[39;49m\u001b[43m \u001b[49m\u001b[43mb\u001b[49m\n",
      "\u001b[0;31mZeroDivisionError\u001b[0m: division by zero"
     ]
    }
   ],
   "source": [
    "def divide_numbers(a, b):\n",
    "    return a / b\n",
    "\n",
    "result = divide_numbers(10, 0)\n",
    "print(\"Result:\", result)\n"
   ]
  },
  {
   "cell_type": "markdown",
   "id": "0076fa98-d845-46e2-94b5-d9467c249fbb",
   "metadata": {},
   "source": [
    "Q3 : Which python statements are used to catch and handle exceptions? explain with and example?"
   ]
  },
  {
   "cell_type": "markdown",
   "id": "238136e7-94fd-4fbe-a69c-4378a32a5bd2",
   "metadata": {},
   "source": [
    "In Python, the try-except statements are used to catch and handle exceptions."
   ]
  },
  {
   "cell_type": "code",
   "execution_count": 3,
   "id": "e474090b-3a33-4b41-8c2b-08be22bb8ed3",
   "metadata": {},
   "outputs": [
    {
     "name": "stdout",
     "output_type": "stream",
     "text": [
      "Error: Cannot divide by zero!\n"
     ]
    }
   ],
   "source": [
    "def divide_numbers(a, b):\n",
    "    try:\n",
    "        result = a / b\n",
    "        print(\"Result:\", result)\n",
    "    except ZeroDivisionError:\n",
    "        print(\"Error: Cannot divide by zero!\")\n",
    "\n",
    "divide_numbers(10, 0)\n"
   ]
  },
  {
   "cell_type": "markdown",
   "id": "4326a66f-ad63-48d2-b198-b3a566904a89",
   "metadata": {},
   "source": [
    "Q4 : Explain with an example a) try and else b)finally c)raise "
   ]
  },
  {
   "cell_type": "markdown",
   "id": "8dc67cbe-685f-4234-aeac-b47be1e7316e",
   "metadata": {},
   "source": [
    "a) try and else:\n",
    "\n",
    "The try statement in Python can be followed by an optional else block. The code inside the else block will be executed if no exception occurs in the preceding try block. "
   ]
  },
  {
   "cell_type": "code",
   "execution_count": 4,
   "id": "adec36b4-02f8-4a22-a348-f3dedfd7182b",
   "metadata": {},
   "outputs": [
    {
     "name": "stdout",
     "output_type": "stream",
     "text": [
      "Division result: 5.0\n"
     ]
    }
   ],
   "source": [
    "def divide_numbers(a, b):\n",
    "    try:\n",
    "        result = a / b\n",
    "    except ZeroDivisionError:\n",
    "        print(\"Error: Cannot divide by zero!\")\n",
    "    else:\n",
    "        print(\"Division result:\", result)\n",
    "\n",
    "divide_numbers(10, 2)\n"
   ]
  },
  {
   "cell_type": "markdown",
   "id": "e3abe5e0-b33a-4f76-b291-c8c3936022f4",
   "metadata": {},
   "source": [
    "b) The finally block is used to define a piece of code that will always execute, regardless of whether an exception occurred or not. It is often used to perform cleanup actions or release resources that need to be done regardless of the outcome of the code block"
   ]
  },
  {
   "cell_type": "code",
   "execution_count": 5,
   "id": "19379b24-c24e-4961-b2d5-4b6bb20aa608",
   "metadata": {},
   "outputs": [
    {
     "name": "stdout",
     "output_type": "stream",
     "text": [
      "Error: File not found!\n",
      "File handling complete.\n"
     ]
    }
   ],
   "source": [
    "def open_file(filename):\n",
    "    try:\n",
    "        file = open(filename, \"r\")\n",
    "        content = file.read()\n",
    "        print(\"File content:\", content)\n",
    "    except FileNotFoundError:\n",
    "        print(\"Error: File not found!\")\n",
    "    finally:\n",
    "        if 'file' in locals():\n",
    "            file.close()\n",
    "        print(\"File handling complete.\")\n",
    "\n",
    "open_file(\"example.txt\")\n"
   ]
  },
  {
   "cell_type": "markdown",
   "id": "5f8d96cc-e3ac-4765-8e15-d13538980a41",
   "metadata": {},
   "source": [
    "c) The raise statement is used to manually raise an exception in Python. It allows you to specify a particular exception type and optionally provide additional information about the exception."
   ]
  },
  {
   "cell_type": "code",
   "execution_count": 6,
   "id": "c4a7c2b5-63a7-4c97-be86-3923f791214b",
   "metadata": {},
   "outputs": [
    {
     "name": "stdout",
     "output_type": "stream",
     "text": [
      "Age is valid.\n"
     ]
    }
   ],
   "source": [
    "def validate_age(age):\n",
    "    if age < 0:\n",
    "        raise ValueError(\"Age cannot be negative.\")\n",
    "    elif age < 18:\n",
    "        raise ValueError(\"Age must be at least 18.\")\n",
    "    else:\n",
    "        print(\"Age is valid.\")\n",
    "\n",
    "try:\n",
    "    validate_age(25)\n",
    "except ValueError as e:\n",
    "    print(\"Error:\", str(e))\n"
   ]
  },
  {
   "cell_type": "markdown",
   "id": "22f90468-6c1f-41de-83bf-6fc1967dd7a2",
   "metadata": {},
   "source": [
    "Q5 : What are custom exceptions in python ? why do we need custom exceptions? explain with an example."
   ]
  },
  {
   "cell_type": "markdown",
   "id": "954a14a7-8ecf-44a6-9f39-c82ac4b09d4b",
   "metadata": {},
   "source": [
    "In Python, custom exceptions are user-defined exceptions that extend the built-in exception classes or the Exception base class. They are created to handle specific error conditions or exceptional cases that are not covered by the standard exception classes."
   ]
  },
  {
   "cell_type": "code",
   "execution_count": 7,
   "id": "a0163f21-2876-4a1f-b801-c950766b5b21",
   "metadata": {},
   "outputs": [
    {
     "name": "stdout",
     "output_type": "stream",
     "text": [
      "Error: Insufficient funds in the account.\n"
     ]
    }
   ],
   "source": [
    "class InsufficientFundsError(Exception):\n",
    "    pass\n",
    "\n",
    "class BankAccount:\n",
    "    def __init__(self, balance):\n",
    "        self.balance = balance\n",
    "\n",
    "    def withdraw(self, amount):\n",
    "        if amount > self.balance:\n",
    "            raise InsufficientFundsError(\"Insufficient funds in the account.\")\n",
    "        self.balance -= amount\n",
    "        print(\"Withdrawal successful. New balance:\", self.balance)\n",
    "\n",
    "account = BankAccount(1000)\n",
    "\n",
    "try:\n",
    "    account.withdraw(1500)\n",
    "except InsufficientFundsError as e:\n",
    "    print(\"Error:\", str(e))\n"
   ]
  },
  {
   "cell_type": "markdown",
   "id": "9a5dc155-b7cb-4956-aeeb-59d9c394e83a",
   "metadata": {},
   "source": [
    "Q6 : Create a custom exception class . use this class to handle an exception . "
   ]
  },
  {
   "cell_type": "code",
   "execution_count": 8,
   "id": "2aec2b5e-3997-4f0c-b743-d4a1131dd1a6",
   "metadata": {},
   "outputs": [
    {
     "name": "stdout",
     "output_type": "stream",
     "text": [
      "Error: CustomException: Invalid data detected.\n"
     ]
    }
   ],
   "source": [
    "class CustomException(Exception):\n",
    "    def __init__(self, message):\n",
    "        self.message = message\n",
    "\n",
    "    def __str__(self):\n",
    "        return f\"CustomException: {self.message}\"\n",
    "\n",
    "def process_data(data):\n",
    "    if data < 0:\n",
    "        raise CustomException(\"Invalid data detected.\")\n",
    "\n",
    "try:\n",
    "    process_data(-5)\n",
    "except CustomException as e:\n",
    "    print(\"Error:\", str(e))\n"
   ]
  },
  {
   "cell_type": "code",
   "execution_count": null,
   "id": "88bbb9e5-2516-4eb6-88e3-e4d483ffd3ce",
   "metadata": {},
   "outputs": [],
   "source": []
  }
 ],
 "metadata": {
  "kernelspec": {
   "display_name": "Python 3 (ipykernel)",
   "language": "python",
   "name": "python3"
  },
  "language_info": {
   "codemirror_mode": {
    "name": "ipython",
    "version": 3
   },
   "file_extension": ".py",
   "mimetype": "text/x-python",
   "name": "python",
   "nbconvert_exporter": "python",
   "pygments_lexer": "ipython3",
   "version": "3.10.8"
  }
 },
 "nbformat": 4,
 "nbformat_minor": 5
}
