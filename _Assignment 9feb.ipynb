{
 "cells": [
  {
   "cell_type": "markdown",
   "id": "a052449c-9f89-4899-bdd0-2f560f9b3cbf",
   "metadata": {},
   "source": [
    "Q1, Create a vehicle class with an init method having instance variables as name_of_vehicle, max_speed\n",
    "and average_of_vehicle."
   ]
  },
  {
   "cell_type": "code",
   "execution_count": 1,
   "id": "5eb02de5-af13-4783-9d98-10702b330d49",
   "metadata": {},
   "outputs": [],
   "source": [
    "class Vehicle:\n",
    "    def __init__(self, name_of_vehicle, max_speed, average_of_vehicle):\n",
    "        self.name_of_vehicle = name_of_vehicle\n",
    "        self.max_speed = max_speed\n",
    "        self.average_of_vehicle = average_of_vehicle\n"
   ]
  },
  {
   "cell_type": "code",
   "execution_count": 7,
   "id": "b69d7004-35c6-46a7-8cc4-f60d1d5caa2a",
   "metadata": {},
   "outputs": [],
   "source": [
    "car = Vehicle('buggati' , 70 , 130)"
   ]
  },
  {
   "cell_type": "code",
   "execution_count": 11,
   "id": "e27c2062-6eeb-4c51-a19a-df0e10567247",
   "metadata": {},
   "outputs": [
    {
     "name": "stdout",
     "output_type": "stream",
     "text": [
      "buggati\n"
     ]
    }
   ],
   "source": [
    "print(car.name_of_vehicle)"
   ]
  },
  {
   "cell_type": "code",
   "execution_count": 12,
   "id": "4f314b10-5e5f-4928-a2e2-a3e005de1d83",
   "metadata": {},
   "outputs": [
    {
     "data": {
      "text/plain": [
       "70"
      ]
     },
     "execution_count": 12,
     "metadata": {},
     "output_type": "execute_result"
    }
   ],
   "source": [
    "car.max_speed"
   ]
  },
  {
   "cell_type": "code",
   "execution_count": 13,
   "id": "5a18e027-90fe-4b98-a70b-40ec15af90b3",
   "metadata": {},
   "outputs": [
    {
     "data": {
      "text/plain": [
       "130"
      ]
     },
     "execution_count": 13,
     "metadata": {},
     "output_type": "execute_result"
    }
   ],
   "source": [
    "car.average_of_vehicle"
   ]
  },
  {
   "cell_type": "markdown",
   "id": "5f591e1b-4f83-4d52-a71d-5f80f77ba43d",
   "metadata": {},
   "source": [
    "Q2. Create a child class car from the vehicle class created in Que 1, which will inherit the vehicle class.\n",
    "Create a method named seating_capacity which takes capacity as an argument and returns the name of\n",
    "the vehicle and its seating capacity."
   ]
  },
  {
   "cell_type": "code",
   "execution_count": 14,
   "id": "34dd9132-6df1-408e-b339-51bfffc968cf",
   "metadata": {},
   "outputs": [],
   "source": [
    "class Car(Vehicle):\n",
    "    def seating_capacity(self, capacity):\n",
    "        return f\"The {self.name_of_vehicle} has a seating capacity of {capacity}.\"\n",
    "\n"
   ]
  },
  {
   "cell_type": "markdown",
   "id": "87322f05-38f2-472d-b99d-3cc0c6b26d3e",
   "metadata": {},
   "source": [
    "Q3. What is multiple inheritance? Write a python code to demonstrate multiple inheritance."
   ]
  },
  {
   "cell_type": "markdown",
   "id": "222696a2-87b2-42a8-8bdd-6903782295cb",
   "metadata": {},
   "source": [
    "Multiple inheritance is a feature in object-oriented programming where a class can inherit attributes and methods from more than one parent class. This means that a child class can inherit from multiple parent classes, allowing it to access and use the features of all the parent classes."
   ]
  },
  {
   "cell_type": "code",
   "execution_count": 16,
   "id": "c33dffeb-21bb-492e-9002-52d68b3ff235",
   "metadata": {},
   "outputs": [
    {
     "name": "stdout",
     "output_type": "stream",
     "text": [
      "This is method 1 from Parent1\n",
      "This is method 2 from Parent2\n",
      "This is method 3 from Child\n"
     ]
    }
   ],
   "source": [
    "class Parent1:\n",
    "    def method1(self):\n",
    "        print(\"This is method 1 from Parent1\")\n",
    "\n",
    "class Parent2:\n",
    "    def method2(self):\n",
    "        print(\"This is method 2 from Parent2\")\n",
    "\n",
    "class Child(Parent1, Parent2):\n",
    "    def method3(self):\n",
    "        print(\"This is method 3 from Child\")\n",
    "\n",
    "\n",
    "# Creating an instance of the Child class\n",
    "child = Child()\n",
    "\n",
    "# Accessing methods from Parent1\n",
    "child.method1()   # Output: This is method 1 from Parent1\n",
    "\n",
    "# Accessing methods from Parent2\n",
    "child.method2()   # Output: This is method 2 from Parent2\n",
    "\n",
    "# Accessing method from Child class\n",
    "child.method3()   # Output: This is method 3 from Child\n"
   ]
  },
  {
   "cell_type": "markdown",
   "id": "eb12043a-a8bb-427c-a09e-a80e29a59462",
   "metadata": {},
   "source": [
    "Q4. What are getter and setter in python? Create a class and create a getter and a setter method in this\n",
    "class."
   ]
  },
  {
   "cell_type": "markdown",
   "id": "d4a2148d-6e55-4009-a28f-2f2ad24378a7",
   "metadata": {},
   "source": [
    "Getters and setters are methods used to access and modify the values of class attributes (instance variables). They provide a way to encapsulate the access to attributes and allow for controlled modification and retrieval of attribute values."
   ]
  },
  {
   "cell_type": "code",
   "execution_count": 17,
   "id": "276b628c-11ca-4cd5-abe5-437622a1845c",
   "metadata": {},
   "outputs": [
    {
     "name": "stdout",
     "output_type": "stream",
     "text": [
      "John\n",
      "Jane\n"
     ]
    }
   ],
   "source": [
    "class Person:\n",
    "    def __init__(self, name):\n",
    "        self._name = name  # Note the use of an underscore to indicate it as a protected attribute\n",
    "\n",
    "    def get_name(self):\n",
    "        return self._name\n",
    "\n",
    "    def set_name(self, name):\n",
    "        self._name = name\n",
    "\n",
    "# Create an instance of the Person class\n",
    "person = Person(\"John\")\n",
    "\n",
    "# Get the name using the getter\n",
    "print(person.get_name())  # Output: John\n",
    "\n",
    "# Set a new name using the setter\n",
    "person.set_name(\"Jane\")\n",
    "\n",
    "# Get the updated name using the getter\n",
    "print(person.get_name())  # Output: Jane\n"
   ]
  },
  {
   "cell_type": "markdown",
   "id": "997a19f5-d029-4070-b060-b739ec659125",
   "metadata": {},
   "source": [
    "Q5.What is method overriding in python? Write a python code to demonstrate method overriding."
   ]
  },
  {
   "cell_type": "markdown",
   "id": "d69c2910-ba09-48d3-8daa-ee7db7c81c72",
   "metadata": {},
   "source": [
    "Method overriding is a concept in object-oriented programming where a subclass provides its own implementation of a method that is already defined in its parent class. The overriding method in the subclass has the same name, return type, and parameters as the method in the parent class."
   ]
  },
  {
   "cell_type": "code",
   "execution_count": 18,
   "id": "ce13095d-5248-4066-9173-f08f67bed07d",
   "metadata": {},
   "outputs": [
    {
     "name": "stdout",
     "output_type": "stream",
     "text": [
      "Vehicle makes generic sound.\n",
      "Car makes vroom sound.\n",
      "Bike makes ring-ring sound.\n"
     ]
    }
   ],
   "source": [
    "class Vehicle:\n",
    "    def make_sound(self):\n",
    "        print(\"Vehicle makes generic sound.\")\n",
    "\n",
    "class Car(Vehicle):\n",
    "    def make_sound(self):\n",
    "        print(\"Car makes vroom sound.\")\n",
    "\n",
    "class Bike(Vehicle):\n",
    "    def make_sound(self):\n",
    "        print(\"Bike makes ring-ring sound.\")\n",
    "\n",
    "# Creating instances of the classes\n",
    "vehicle = Vehicle()\n",
    "car = Car()\n",
    "bike = Bike()\n",
    "\n",
    "# Calling the overridden method\n",
    "vehicle.make_sound()  # Output: Vehicle makes generic sound.\n",
    "car.make_sound()     # Output: Car makes vroom sound.\n",
    "bike.make_sound()    # Output: Bike makes ring-ring sound.\n"
   ]
  },
  {
   "cell_type": "code",
   "execution_count": null,
   "id": "7367ce12-ea5b-4f5d-8d26-ae7b3c325b68",
   "metadata": {},
   "outputs": [],
   "source": []
  }
 ],
 "metadata": {
  "kernelspec": {
   "display_name": "Python 3 (ipykernel)",
   "language": "python",
   "name": "python3"
  },
  "language_info": {
   "codemirror_mode": {
    "name": "ipython",
    "version": 3
   },
   "file_extension": ".py",
   "mimetype": "text/x-python",
   "name": "python",
   "nbconvert_exporter": "python",
   "pygments_lexer": "ipython3",
   "version": "3.10.8"
  }
 },
 "nbformat": 4,
 "nbformat_minor": 5
}
