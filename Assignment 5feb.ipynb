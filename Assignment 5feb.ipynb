{
 "cells": [
  {
   "cell_type": "markdown",
   "id": "00ff3619-f8fa-49bb-bfb1-fb1a6aab8765",
   "metadata": {},
   "source": [
    "Q1. Explain Class and Object with respect to Object-Oriented Programming. Give a suitable example."
   ]
  },
  {
   "cell_type": "markdown",
   "id": "6edb4a98-e173-402c-a8b9-6959da6cf9a6",
   "metadata": {},
   "source": [
    "In object-oriented programming (OOP), a class is a blueprint or a template for creating objects. It defines the structure and behavior that objects of the class will possess. A class encapsulates data (attributes) and functions (methods) that operate on that data.\n",
    "\n",
    "An object, on the other hand, is an instance of a class. It represents a specific entity or concept that can be manipulated using the defined behavior and data defined by its class. An object is created based on the class definition, and multiple objects can be created from the same class, each with its own unique data.\n",
    "\n",
    "Let's take an example of a class called \"Car\" to understand the concept of class and object:"
   ]
  },
  {
   "cell_type": "code",
   "execution_count": 7,
   "id": "86967583-1950-47a3-b96a-b317b4ce8cc2",
   "metadata": {},
   "outputs": [],
   "source": [
    "class Car:\n",
    "    def __init__(self, brand, color):\n",
    "        self.brand = brand\n",
    "        self.color = color\n",
    "        \n",
    "    def start_engine(self):\n",
    "        print(\"The\", self.color, self.brand, \"car's engine has started.\")\n",
    "        \n",
    "    def stop_engine(self):\n",
    "        print(\"The\", self.color, self.brand, \"car's engine has stopped.\")\n"
   ]
  },
  {
   "cell_type": "markdown",
   "id": "d898ad16-adbf-4876-8217-50148deeaf30",
   "metadata": {},
   "source": [
    "In the example above, we have defined a class called \"Car.\" The __init__ method is a special method known as a constructor, which is called when an object of the class is created. It initializes the attributes of the object, such as the brand and color of the car.\n",
    "\n",
    "The class also has two methods: start_engine and stop_engine. These methods define the behavior of the car objects. When the start_engine method is called on a car object, it prints a message indicating that the car's engine has started. Similarly, the stop_engine method prints a message indicating that the car's engine has stopped.\n",
    "\n",
    "Now, let's create two car objects using the \"Car\" class:"
   ]
  },
  {
   "cell_type": "code",
   "execution_count": 8,
   "id": "b71967c5-8b55-4b25-a909-8be3479719d8",
   "metadata": {},
   "outputs": [],
   "source": [
    "my_car = Car(\"Toyota\", \"red\")\n",
    "your_car = Car(\"BMW\", \"blue\")\n"
   ]
  },
  {
   "cell_type": "markdown",
   "id": "8826c3d4-9417-4a4e-84bf-f85687dc416d",
   "metadata": {},
   "source": [
    "In the above code, we create two car objects: my_car and your_car. Each object is created based on the \"Car\" class. The my_car object will have the brand set to \"Toyota\" and the color set to \"red,\" while the your_car object will have the brand set to \"BMW\" and the color set to \"blue.\""
   ]
  },
  {
   "cell_type": "markdown",
   "id": "d05e828e-e25e-44a2-b2cf-1b70a4ebbad7",
   "metadata": {},
   "source": [
    "Q2. Name the four pillars of OOPs."
   ]
  },
  {
   "cell_type": "markdown",
   "id": "2d596d49-409d-4482-a705-1ff4b4e59d00",
   "metadata": {},
   "source": [
    "The four pillars of object-oriented programming (OOP) are:\n",
    "\n",
    "1)Encapsulation: Encapsulation refers to the bundling of data (attributes) and methods (functions) together within a class. It allows the class to control the access and manipulation of its own data. By encapsulating data, we can hide the internal implementation details and provide a clean and organized interface for interacting with objects. Encapsulation also helps in achieving data abstraction and data hiding.\n",
    "\n",
    "2)Inheritance: Inheritance enables the creation of new classes (derived classes) based on existing classes (base or parent classes). The derived classes inherit the attributes and methods of the base class, allowing for code reuse and the extension of existing functionality. Inheritance promotes code organization, modularity, and hierarchical relationships among classes. It allows for the creation of specialized classes that inherit and override behaviors from more general classes.\n",
    "\n",
    "3)Polymorphism: Polymorphism allows objects of different classes to be treated as objects of a common base class. It refers to the ability of objects to take on different forms and respond differently to the same method call. Polymorphism enables code flexibility, extensibility, and dynamic behavior. It allows for the use of generic code that can operate on objects of different types, as long as they adhere to a common interface.\n",
    "\n",
    "4)Abstraction: Abstraction involves the representation of essential features and behaviors of real-world objects in a simplified manner. It focuses on capturing the relevant characteristics of an object while hiding unnecessary details. Abstraction allows us to create abstract classes or interfaces that define the common structure and behavior of a group of related objects. It helps in managing complexity, promoting code reusability, and providing a clear separation between the interface and implementation"
   ]
  },
  {
   "cell_type": "markdown",
   "id": "a4f24ce3-de8a-4017-97c6-d2ae4b1e1599",
   "metadata": {},
   "source": [
    "Q3. Explain why the __init__() function is used. Give a suitable example."
   ]
  },
  {
   "cell_type": "markdown",
   "id": "d0da2477-f904-4c09-992b-f35e0194d5bb",
   "metadata": {},
   "source": [
    "The __init__() function is a special method in Python classes that is automatically called when an object is created from the class. It is also known as a constructor method. The primary purpose of the __init__() method is to initialize the attributes (data) of the object."
   ]
  },
  {
   "cell_type": "code",
   "execution_count": 9,
   "id": "f8d254c9-99d1-4400-9b3c-b2c4720c6663",
   "metadata": {},
   "outputs": [],
   "source": [
    "class Person:\n",
    "    def __init__(self, name, age):\n",
    "        self.name = name\n",
    "        self.age = age\n",
    "        \n",
    "    def introduce(self):\n",
    "        print(\"Hi, my name is\", self.name, \"and I am\", self.age, \"years old.\")\n"
   ]
  },
  {
   "cell_type": "markdown",
   "id": "dc759cba-0a2e-42dd-87d5-200522575511",
   "metadata": {},
   "source": [
    "Q4. Why self is used in OOPs?"
   ]
  },
  {
   "cell_type": "markdown",
   "id": "7871525d-3260-4bbf-b329-911f496e51cd",
   "metadata": {},
   "source": [
    "The self parameter allows you to access the attributes and methods of the current object within the class. When a method is called on an object, the self parameter automatically refers to that specific instance of the class.\n",
    "\n",
    "In OOP, multiple objects can be created from the same class, each with its own unique set of attributes and data. The self parameter helps differentiate between these objects and allows methods to operate on the specific instance of the class to which they belong. It provides the context for accessing and modifying the attributes and methods of the current object."
   ]
  },
  {
   "cell_type": "markdown",
   "id": "5383fd51-9072-49b6-948b-e1b6a171b27c",
   "metadata": {},
   "source": [
    "Q5. What is inheritance? Give an example for each type of inheritance."
   ]
  },
  {
   "cell_type": "code",
   "execution_count": null,
   "id": "796d1c53-b110-4967-b0d8-a7e873e244e3",
   "metadata": {},
   "outputs": [],
   "source": []
  }
 ],
 "metadata": {
  "kernelspec": {
   "display_name": "Python 3 (ipykernel)",
   "language": "python",
   "name": "python3"
  },
  "language_info": {
   "codemirror_mode": {
    "name": "ipython",
    "version": 3
   },
   "file_extension": ".py",
   "mimetype": "text/x-python",
   "name": "python",
   "nbconvert_exporter": "python",
   "pygments_lexer": "ipython3",
   "version": "3.10.8"
  }
 },
 "nbformat": 4,
 "nbformat_minor": 5
}
