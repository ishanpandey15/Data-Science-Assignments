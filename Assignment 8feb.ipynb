{
 "cells": [
  {
   "cell_type": "markdown",
   "id": "99409390-46a2-4b6f-891c-8f70a7ba91c5",
   "metadata": {},
   "source": [
    "Q1. What is Abstraction in OOps? Explain with an example."
   ]
  },
  {
   "cell_type": "markdown",
   "id": "25b3e81e-a9d2-4e64-b769-9150f42e2618",
   "metadata": {},
   "source": [
    "Abstraction is a fundamental concept in object-oriented programming (OOP) that focuses on representing the essential features and behavior of an object while hiding unnecessary details. It involves simplifying complex systems by breaking them down into manageable and understandable components.\n",
    "\n",
    "In OOP, abstraction is achieved through the use of abstract classes and interfaces. An abstract class is a class that cannot be instantiated and serves as a blueprint for other classes. It may contain both abstract and concrete methods. An abstract method is a method declared in an abstract class but does not have an implementation. It is meant to be overridden by the derived classes."
   ]
  },
  {
   "cell_type": "code",
   "execution_count": 2,
   "id": "46cc30b4-ad7a-4ab3-9d3d-c9ace461c4b8",
   "metadata": {},
   "outputs": [
    {
     "name": "stdout",
     "output_type": "stream",
     "text": [
      "15\n",
      "19.625\n"
     ]
    }
   ],
   "source": [
    "from abc import ABC, abstractmethod\n",
    "\n",
    "class Shape(ABC):\n",
    "    @abstractmethod\n",
    "    def calculate_area(self):\n",
    "        pass\n",
    "\n",
    "class Rectangle(Shape):\n",
    "    def __init__(self, length, width):\n",
    "        self.length = length\n",
    "        self.width = width\n",
    "    \n",
    "    def calculate_area(self):\n",
    "        return self.length * self.width\n",
    "\n",
    "class Circle(Shape):\n",
    "    def __init__(self, radius):\n",
    "        self.radius = radius\n",
    "    \n",
    "    def calculate_area(self):\n",
    "        return 3.14 * (self.radius ** 2)\n",
    "\n",
    "rectangle = Rectangle(5, 3)\n",
    "circle = Circle(2.5)\n",
    "\n",
    "print(rectangle.calculate_area())\n",
    "print(circle.calculate_area())  \n"
   ]
  },
  {
   "cell_type": "markdown",
   "id": "643ba400-8581-4259-b450-fab411a76cae",
   "metadata": {},
   "source": [
    "Q2. Differentiate between Abstraction and Encapsulation. Explain with an example."
   ]
  },
  {
   "cell_type": "markdown",
   "id": "23d386a6-7f5e-4bcb-91ba-0389540d39c3",
   "metadata": {},
   "source": [
    "Abstraction focuses on representing the essential features and behavior of an object while hiding unnecessary details. It simplifies complex systems by breaking them down into manageable and understandable components. Abstraction allows us to create abstract classes or interfaces that define the common structure and behavior of a group of related objects.\n",
    "\n",
    "Encapsulation, on the other hand, is about bundling data (attributes) and methods (functions) together within a class. It allows the class to control the access and manipulation of its own data. Encapsulation helps in achieving data abstraction and data hiding by hiding the internal implementation details and providing a clean and organized interface for interacting with objects."
   ]
  },
  {
   "cell_type": "code",
   "execution_count": 3,
   "id": "0a884493-a313-4843-b2aa-09c2669dabeb",
   "metadata": {},
   "outputs": [
    {
     "name": "stdout",
     "output_type": "stream",
     "text": [
      "Dog barks: Woof!\n",
      "Buddy\n"
     ]
    }
   ],
   "source": [
    "from abc import ABC, abstractmethod\n",
    "\n",
    "class Animal(ABC):\n",
    "    def __init__(self, name):\n",
    "        self.name = name\n",
    "\n",
    "    @abstractmethod\n",
    "    def make_sound(self):\n",
    "        pass\n",
    "\n",
    "class Dog(Animal):\n",
    "    def make_sound(self):\n",
    "        print(\"Dog barks: Woof!\")\n",
    "\n",
    "dog = Dog(\"Buddy\")\n",
    "dog.make_sound()  \n",
    "print(dog.name) \n"
   ]
  },
  {
   "cell_type": "markdown",
   "id": "0c229b6a-9f13-4165-8466-df29cc149d8d",
   "metadata": {},
   "source": [
    "Q3. What is abc module in python? Why is it used?"
   ]
  },
  {
   "cell_type": "markdown",
   "id": "6b6e70d4-1be4-4506-b2bc-b7e11abc90f4",
   "metadata": {},
   "source": [
    "In Python, the abc module stands for \"Abstract Base Classes.\" It provides mechanisms for defining abstract base classes in Python. An abstract base class is a class that cannot be instantiated and is meant to serve as a blueprint for other classes.\n",
    "\n",
    "The abc module is used to define abstract base classes and abstract methods. It allows you to define a common interface or structure for a group of related classes, without providing a specific implementation for all the methods. The derived classes are then responsible for implementing the abstract methods defined in the abstract base class.\n",
    "\n",
    "\n",
    "\n",
    "\n",
    "The abc module is used for the following purposes:\n",
    "\n",
    "Defining Abstract Base Classes (ABCs): The abc module provides the ABC class, which can be used as a base class for creating abstract base classes. By inheriting from ABC, a class becomes an abstract base class, and any class that inherits from it must either implement all the abstract methods or be marked as abstract itself.\n",
    "\n",
    "Defining Abstract Methods: The abc module provides the abstractmethod decorator, which is used to define abstract methods within an abstract base class. An abstract method is a method that is declared in an abstract class but does not have an implementation. It serves as a placeholder and must be overridden by the derived classes."
   ]
  },
  {
   "cell_type": "markdown",
   "id": "0e0f6e30-cf5c-4ec4-b7a0-9a01f367e482",
   "metadata": {},
   "source": [
    "Q4. How can we achieve data abstraction?"
   ]
  },
  {
   "cell_type": "markdown",
   "id": "6d38061c-8e9a-4a3b-8a0e-cdec61744e3d",
   "metadata": {},
   "source": [
    "In Python, data abstraction can be achieved using classes, specifically by defining class attributes and methods. By encapsulating data within class attributes and providing methods to interact with that data, we can achieve data abstraction. Data abstraction allows us to hide the internal implementation details of the data and provide a clean and organized interface for accessing and manipulating it.\n",
    "\n",
    "Here are some ways to achieve data abstraction in Python:\n",
    "\n",
    "Define Private Attributes: Use naming conventions to indicate that certain attributes are intended to be private. Although Python does not enforce strict access control like some other languages, developers conventionally use a single underscore prefix (e.g., _attribute_name) to indicate that an attribute should be considered private and not accessed directly from outside the class.\n",
    "\n",
    "Use Getter and Setter Methods: Instead of directly accessing or modifying the attributes, provide getter and setter methods to retrieve and modify the attribute values. This way, the internal representation of the data can be hidden, and the class can perform any necessary validations or computations.\n",
    "\n",
    "Property Decorators: Python's property decorators allow you to define getter and setter methods as if they were attributes. By using the @property decorator for the getter and @attribute_name.setter decorator for the setter, you can achieve a more elegant syntax for accessing and modifying attributes while still retaining control over the implementation."
   ]
  },
  {
   "cell_type": "markdown",
   "id": "eb040441-f697-46c1-b421-729190b020ab",
   "metadata": {},
   "source": [
    "Q5. Can we create an instance of an abstract class? Explain your answer."
   ]
  },
  {
   "cell_type": "markdown",
   "id": "f64ce16b-fa22-4433-a33c-e670777c0785",
   "metadata": {},
   "source": [
    "No, we cannot create an instance of an abstract class in Python. An abstract class is a class that is meant to be used as a blueprint for other classes. It is designed to be subclassed, and its primary purpose is to define a common interface or structure for a group of related classes.\n",
    "\n",
    "The abc module in Python provides the ABC class, which can be used as a base class for creating abstract base classes. When a class inherits from ABC and contains at least one abstract method, it becomes an abstract class."
   ]
  },
  {
   "cell_type": "code",
   "execution_count": null,
   "id": "196b41d4-8b7f-43bb-9f0a-8032e26e6725",
   "metadata": {},
   "outputs": [],
   "source": []
  }
 ],
 "metadata": {
  "kernelspec": {
   "display_name": "Python 3 (ipykernel)",
   "language": "python",
   "name": "python3"
  },
  "language_info": {
   "codemirror_mode": {
    "name": "ipython",
    "version": 3
   },
   "file_extension": ".py",
   "mimetype": "text/x-python",
   "name": "python",
   "nbconvert_exporter": "python",
   "pygments_lexer": "ipython3",
   "version": "3.10.8"
  }
 },
 "nbformat": 4,
 "nbformat_minor": 5
}
