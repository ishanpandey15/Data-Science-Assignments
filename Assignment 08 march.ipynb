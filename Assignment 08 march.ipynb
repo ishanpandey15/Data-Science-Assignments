{
 "cells": [
  {
   "cell_type": "raw",
   "id": "89333721-8d0b-4326-af30-f7296a8ba96d",
   "metadata": {},
   "source": [
    "Q1. What is the Probability density function?"
   ]
  },
  {
   "cell_type": "raw",
   "id": "9166ba5f-3a7d-41b3-a155-97e4b5857e8b",
   "metadata": {},
   "source": [
    "The Probability Density Function (PDF) is a concept in probability theory and statistics used to describe the likelihood of a continuous random variable taking on a particular value within a given range. In other words, the PDF provides the probability distribution of a continuous random variable over its entire range of possible values.\n",
    "The PDF is denoted by the function f(x), where 'x' represents the possible values of the continuous random variable. The PDF has the following properties:\n",
    "\n",
    "Non-Negativity: The PDF values are non-negative for all 'x': f(x) ≥ 0.\n",
    "\n",
    "Area under the Curve: The total area under the PDF curve over the entire range of 'x' is equal to 1, indicating that the probability of the random variable falling within the entire range is 1.\n",
    "\n",
    "Mathematically, the probability of a continuous random variable 'X' falling within an interval [a, b] is calculated as the area under the PDF curve between 'a' and 'b':\n",
    "\n",
    "P(a ≤ X ≤ b) = ∫[a to b] f(x) dx\n",
    "\n",
    "The integral ∫ represents the mathematical notation for integration."
   ]
  },
  {
   "cell_type": "raw",
   "id": "4296353c-4924-4e0c-b1fb-90658822aef7",
   "metadata": {},
   "source": [
    "Q2. What are the types of Probability distribution?"
   ]
  },
  {
   "cell_type": "raw",
   "id": "2267e1e0-84ee-4838-bed4-17b548ddff67",
   "metadata": {},
   "source": [
    "There are several types of probability distributions, each serving different purposes and applicable to various scenarios. Probability distributions are used in statistics and probability theory to describe the likelihood of different outcomes of a random variable. Some of the common types of probability distributions include:\n",
    "\n",
    "Discrete Probability Distributions:\n",
    "a. Bernoulli Distribution: Models a binary outcome (success/failure) with a single parameter p, representing the probability of success.\n",
    "b. Binomial Distribution: Represents the number of successes in a fixed number of independent Bernoulli trials, with parameters n (number of trials) and p (probability of success in each trial).\n",
    "c. Poisson Distribution: Models the number of events that occur in a fixed interval of time or space, with a parameter λ (rate of occurrence).\n",
    "\n",
    "Continuous Probability Distributions:\n",
    "a. Normal Distribution (Gaussian Distribution): A symmetrical bell-shaped distribution with two parameters, mean (μ) and standard deviation (σ).\n",
    "b. Uniform Distribution: Represents a constant probability for all values within a specified range, characterized by parameters a (minimum value) and b (maximum value).\n",
    "c. Exponential Distribution: Models the time between successive events in a Poisson process, with a parameter λ (rate of occurrence).\n",
    "d. Gamma Distribution: Generalizes the exponential distribution and includes an additional shape parameter, α.\n",
    "e. Weibull Distribution: Commonly used to model survival data, reliability analysis, and failure rates.\n",
    "f. Beta Distribution: Used to model probabilities or proportions within the range [0, 1], with two shape parameters α and β.\n",
    "g. Log-Normal Distribution: The natural logarithm of the random variable follows a normal distribution, used for modeling positive variables.\n",
    "\n",
    "Multinomial Distribution:\n",
    "Represents the probability of observing a particular combination of outcomes in multiple categorical trials, each with its own probability.\n",
    "\n",
    "Hypergeometric Distribution:\n",
    "Models the probability of successes in a fixed-size sample drawn from a finite population without replacement.\n",
    "\n",
    "Negative Binomial Distribution:\n",
    "Similar to the binomial distribution but represents the number of trials needed to achieve a fixed number of successes."
   ]
  },
  {
   "cell_type": "raw",
   "id": "595e4ae5-858c-48b9-af3c-c4c31e66cb82",
   "metadata": {},
   "source": [
    "Q3. Write a Python function to calculate the probability density function of a normal distribution with\n",
    "given mean and standard deviation at a given point."
   ]
  },
  {
   "cell_type": "code",
   "execution_count": 1,
   "id": "a7899ea0-f59e-4129-af32-50e40d8ad10b",
   "metadata": {},
   "outputs": [],
   "source": [
    "from scipy.stats import norm\n",
    "\n",
    "def normal_pdf(x, mu, sigma):\n",
    "    \"\"\"\n",
    "    Calculate the Probability Density Function (PDF) of a normal distribution.\n",
    "\n",
    "    Parameters:\n",
    "        x (float): The point at which to calculate the PDF.\n",
    "        mu (float): The mean of the normal distribution.\n",
    "        sigma (float): The standard deviation of the normal distribution.\n",
    "\n",
    "    Returns:\n",
    "        float: The value of the PDF at the given point.\n",
    "    \"\"\"\n",
    "    return norm.pdf(x, loc=mu, scale=sigma)\n"
   ]
  },
  {
   "cell_type": "raw",
   "id": "3a623786-7e21-4135-a1ee-2bcafb730b1e",
   "metadata": {},
   "source": [
    "Q4. What are the properties of Binomial distribution? Give two examples of events where binomial\n",
    "distribution can be applied."
   ]
  },
  {
   "cell_type": "raw",
   "id": "40f53512-21dd-4856-bd69-9274334e84cf",
   "metadata": {},
   "source": [
    "The Binomial distribution is a discrete probability distribution that models the number of successes in a fixed number of independent Bernoulli trials, where each trial has only two possible outcomes: success or failure. The properties of the Binomial distribution are as follows:\n",
    "\n",
    "Fixed Number of Trials (n): The Binomial distribution is based on a fixed number of independent trials denoted by 'n'. Each trial can be either a success or a failure.\n",
    "\n",
    "Independent Trials: Each trial in the Binomial distribution is independent, meaning that the outcome of one trial does not affect the outcome of other trials.\n",
    "\n",
    "Two Possible Outcomes: Each trial has only two possible outcomes, usually denoted as \"success\" and \"failure.\"\n",
    "\n",
    "Constant Probability of Success (p): The probability of success in each trial is denoted by 'p' and remains constant throughout all the trials.\n",
    "\n",
    "Discrete Distribution: The Binomial distribution deals with discrete data, as it counts the number of successes in a fixed number of trials.\n",
    "\n",
    "Probability Mass Function (PMF): The probability mass function of the Binomial distribution is given by the formula: P(X = k) = C(n, k) * p^k * (1 - p)^(n - k), where 'X' is the random variable representing the number of successes, 'k' is the number of successes, 'n' is the number of trials, 'p' is the probability of success in a single trial, and C(n, k) is the binomial coefficient, also known as \"n choose k.\"\n",
    "\n",
    "Two examples of events where the Binomial distribution can be applied are:\n",
    "\n",
    "Coin Flips: Suppose you are flipping a fair coin (probability of getting a head, p = 0.5) ten times (n = 10). You are interested in knowing the probability of getting a specific number of heads, say exactly 5 heads (k = 5). The Binomial distribution can be used to calculate this probability.\n",
    "\n",
    "Quality Control: In a manufacturing process, you have a defective rate of 5% (probability of a defective item, p = 0.05). You inspect a batch of 100 items (n = 100). You want to determine the probability of having exactly 3 defective items (k = 3) in the batch. The Binomial distribution can be used to find this probability."
   ]
  },
  {
   "cell_type": "raw",
   "id": "b82cc6d9-800b-4a7d-bb47-5df5e207eb39",
   "metadata": {},
   "source": [
    "Q5. Generate a random sample of size 1000 from a binomial distribution with probability of success 0.4\n",
    "and plot a histogram of the results using matplotlib."
   ]
  },
  {
   "cell_type": "code",
   "execution_count": 3,
   "id": "381d7aa7-8ff9-40d5-b81e-ae095533806c",
   "metadata": {},
   "outputs": [
    {
     "data": {
      "image/png": "[encoded data removed]",
      "text/plain": [
       "<Figure size 640x480 with 1 Axes>"
      ]
     },
     "metadata": {},
     "output_type": "display_data"
    }
   ],
   "source": [
    "import numpy as np\n",
    "import matplotlib.pyplot as plt\n",
    "\n",
    "# Set the parameters for the binomial distribution\n",
    "n = 1000  # Number of trials\n",
    "p = 0.4   # Probability of success\n",
    "\n",
    "# Generate the random sample from the binomial distribution\n",
    "random_sample = np.random.binomial(n, p, 1000)\n",
    "\n",
    "# Plot the histogram of the random sample\n",
    "plt.hist(random_sample, bins=20, edgecolor='black')\n",
    "plt.xlabel('Number of Successes')\n",
    "plt.ylabel('Frequency')\n",
    "plt.title('Histogram of Random Sample from Binomial Distribution')\n",
    "plt.show()\n"
   ]
  },
  {
   "cell_type": "raw",
   "id": "df5c7019-37b2-4e27-8ded-19079366064a",
   "metadata": {},
   "source": [
    "Q6. Write a Python function to calculate the cumulative distribution function of a Poisson distribution\n",
    "with given mean at a given point."
   ]
  },
  {
   "cell_type": "code",
   "execution_count": 4,
   "id": "a4ce7f6c-e0d8-4e2c-8e0b-e3dd53546c26",
   "metadata": {},
   "outputs": [],
   "source": [
    "from scipy.stats import poisson\n",
    "\n",
    "def poisson_cdf(k, mu):\n",
    "    \"\"\"\n",
    "    Calculate the Cumulative Distribution Function (CDF) of a Poisson distribution.\n",
    "\n",
    "    Parameters:\n",
    "        k (int): The point at which to calculate the CDF.\n",
    "        mu (float): The mean of the Poisson distribution.\n",
    "\n",
    "    Returns:\n",
    "        float: The value of the CDF at the given point.\n",
    "    \"\"\"\n",
    "    return poisson.cdf(k, mu)\n"
   ]
  },
  {
   "cell_type": "raw",
   "id": "352e43a0-4930-43e2-8fc0-f56b805a3e58",
   "metadata": {},
   "source": [
    "Q7. How Binomial distribution different from Poisson distribution?"
   ]
  },
  {
   "cell_type": "raw",
   "id": "7dabb4f4-5341-44ae-864f-1de6a10bc7ec",
   "metadata": {},
   "source": [
    "Definition and Assumptions:\n",
    "Binomial Distribution: The Binomial distribution models the number of successes in a fixed number of independent trials, where each trial has only two possible outcomes (success or failure) and the probability of success (p) remains constant for all trials. The trials are assumed to be independent and identically distributed.\n",
    "Poisson Distribution: The Poisson distribution models the number of events that occur in a fixed interval of time or space. It is used when the events are rare and random, and the average rate of occurrence (λ) is constant over time or space.\n",
    "Number of Possible Outcomes:\n",
    "Binomial Distribution: The Binomial distribution deals with discrete data and has two possible outcomes (success or failure) for each trial.\n",
    "Poisson Distribution: The Poisson distribution also deals with discrete data, but the number of possible outcomes is theoretically infinite, as it represents the count of events in a continuous range (e.g., number of arrivals in a time interval).\n",
    "Parameters:\n",
    "Binomial Distribution: The Binomial distribution is characterized by two parameters: the number of trials (n) and the probability of success in each trial (p).\n",
    "Poisson Distribution: The Poisson distribution is characterized by a single parameter (λ), representing the average rate of occurrence of events in the fixed interval.\n",
    "Nature of Events:\n",
    "Binomial Distribution: The Binomial distribution is used when the trials are independent and each has only two possible outcomes (success or failure). It is appropriate for scenarios like coin flips, where each flip is independent and has two outcomes.\n",
    "Poisson Distribution: The Poisson distribution is used when the events occur randomly and independently in time or space. It is applied to scenarios like the number of customer arrivals at a service center, the number of defects in a manufacturing process, or the number of traffic accidents in a city within a fixed time period.\n",
    "Limiting Cases:\n",
    "Binomial Distribution: The Binomial distribution approximates the Poisson distribution when the number of trials (n) is large, and the probability of success (p) is small, with the product np being constant.\n",
    "Poisson Distribution: The Poisson distribution can be seen as a limiting case of the Binomial distribution when the number of trials (n) approaches infinity and the probability of success (p) approaches zero, such that np remains constant."
   ]
  },
  {
   "cell_type": "raw",
   "id": "cac36546-2b77-41c5-8516-39676f2db116",
   "metadata": {},
   "source": [
    "Q8. Generate a random sample of size 1000 from a Poisson distribution with mean 5 and calculate the\n",
    "sample mean and variance."
   ]
  },
  {
   "cell_type": "code",
   "execution_count": 5,
   "id": "1aee3297-7147-4798-a4d3-1bd060f68912",
   "metadata": {},
   "outputs": [
    {
     "name": "stdout",
     "output_type": "stream",
     "text": [
      "Sample Mean: 5.004\n",
      "Sample Variance: 5.641984\n"
     ]
    }
   ],
   "source": [
    "import numpy as np\n",
    "\n",
    "# Set the parameters for the Poisson distribution\n",
    "mean = 5\n",
    "sample_size = 1000\n",
    "\n",
    "# Generate the random sample from the Poisson distribution\n",
    "random_sample = np.random.poisson(mean, sample_size)\n",
    "\n",
    "# Calculate the sample mean and variance\n",
    "sample_mean = np.mean(random_sample)\n",
    "sample_variance = np.var(random_sample)\n",
    "\n",
    "print(f\"Sample Mean: {sample_mean}\")\n",
    "print(f\"Sample Variance: {sample_variance}\")\n"
   ]
  },
  {
   "cell_type": "raw",
   "id": "31ee9d89-dc0b-4e4e-a3ce-573795f2db56",
   "metadata": {},
   "source": [
    "Q9. How mean and variance are related in Binomial distribution and Poisson distribution?"
   ]
  },
  {
   "cell_type": "raw",
   "id": "47beae99-f106-42f3-9f4d-9c210e5ba922",
   "metadata": {},
   "source": [
    "In both the Binomial distribution and the Poisson distribution, the mean and variance are related, but the nature of their relationship is different for each distribution.\n",
    "\n",
    "Binomial Distribution:\n",
    "For a Binomial distribution with parameters 'n' (number of trials) and 'p' (probability of success in each trial), the mean (μ) and variance (σ^2) are related as follows:\n",
    "\n",
    "Mean (μ) = n * p\n",
    "Variance (σ^2) = n * p * (1 - p)\n",
    "\n",
    "In a Binomial distribution, the mean represents the average number of successes expected in 'n' independent trials, where the probability of success in each trial is 'p'. The variance measures the spread or variability of the distribution around the mean. As the probability of success 'p' increases, the variance decreases, indicating that the distribution becomes more concentrated around the mean. When 'p' is close to 0 or 1, the distribution becomes more skewed, and the variance approaches its maximum value of n * p * (1 - p) / n.\n",
    "\n",
    "Poisson Distribution:\n",
    "For a Poisson distribution with parameter 'λ' (average rate of occurrence), the mean (μ) and variance (σ^2) are related as follows:\n",
    "\n",
    "Mean (μ) = λ\n",
    "Variance (σ^2) = λ\n",
    "\n",
    "In a Poisson distribution, the mean represents the average rate of occurrence of events in a fixed interval of time or space. The variance in a Poisson distribution is equal to its mean, indicating that the spread or variability of the distribution is the same as its average rate of occurrence. In other words, the Poisson distribution is a special case where the mean and variance are equal."
   ]
  },
  {
   "cell_type": "raw",
   "id": "cf244e3d-e933-45e5-aa4e-ef9ae2e3ed8b",
   "metadata": {},
   "source": [
    "Q10. In normal distribution with respect to mean position, where does the least frequent data appear?"
   ]
  },
  {
   "cell_type": "raw",
   "id": "225321de-edc0-411f-b001-2bebbfd0f043",
   "metadata": {},
   "source": [
    "In a normal distribution, the least frequent data appears in the tails of the distribution, farthest away from the mean. The normal distribution is a symmetrical bell-shaped curve, and the frequencies of data decrease as we move away from the mean towards the tails.\n",
    "\n",
    "In a standard normal distribution (a normal distribution with mean 0 and standard deviation 1), about 68% of the data falls within one standard deviation of the mean, about 95% falls within two standard deviations, and about 99.7% falls within three standard deviations. This means that only a small percentage of data (about 0.3%) lies beyond three standard deviations from the mean in each tail.\n",
    "\n",
    "As we move away from the mean towards the tails, the frequencies of data points decrease, and the curve becomes less dense. This is why the least frequent data appears in the tails, which represent the extreme values of the distribution."
   ]
  },
  {
   "cell_type": "code",
   "execution_count": null,
   "id": "40a1cb2f-4fb5-4533-af66-49511dbbe63a",
   "metadata": {},
   "outputs": [],
   "source": []
  }
 ],
 "metadata": {
  "kernelspec": {
   "display_name": "Python 3 (ipykernel)",
   "language": "python",
   "name": "python3"
  },
  "language_info": {
   "codemirror_mode": {
    "name": "ipython",
    "version": 3
   },
   "file_extension": ".py",
   "mimetype": "text/x-python",
   "name": "python",
   "nbconvert_exporter": "python",
   "pygments_lexer": "ipython3",
   "version": "3.10.8"
  }
 },
 "nbformat": 4,
 "nbformat_minor": 5
}
