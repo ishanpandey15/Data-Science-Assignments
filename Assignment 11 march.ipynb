{
 "cells": [
  {
   "cell_type": "markdown",
   "id": "2bd71c5b-26dd-42be-a7f2-d78d95ca1507",
   "metadata": {},
   "source": [
    "Q1: What is the difference between a t-test and a z-test? Provide an example scenario where you would\n",
    "use each type of test."
   ]
  },
  {
   "cell_type": "markdown",
   "id": "4c585fac-94f3-4d79-ace2-d7648967fa57",
   "metadata": {},
   "source": [
    "The main difference between a t-test and a z-test lies in the population information available and the sample size.\n",
    "\n",
    "Z-Test:\n",
    "A z-test is used when we know the population standard deviation (σ) and the sample size (n) is relatively large (typically n > 30). It assumes that the population follows a normal distribution. The z-test is appropriate for situations where we have access to a large amount of data or when the sample size is large enough to approximate the population standard deviation accurately.\n",
    "Example Scenario: Suppose a company wants to test if the average weight of a specific product produced in their factory is 10 pounds. They have a large sample size (n > 30) and have collected the weight of 1000 randomly selected products. In this case, they can use a z-test since they know the population standard deviation (σ) and have a large enough sample size.\n",
    "\n",
    "T-Test:\n",
    "A t-test is used when we do not know the population standard deviation (σ) and the sample size is relatively small (typically n < 30). It is designed to handle situations with limited data and is more robust in cases where the population standard deviation is unknown. The t-test assumes that the population follows a normal distribution.\n",
    "Example Scenario: Suppose a researcher wants to compare the test scores of two groups of students who were given different study materials to prepare for an exam. One group has 20 students, and the other group has 18 students. Since the sample sizes are relatively small, and the population standard deviation is unknown, the researcher should use a t-test to compare the means of the two groups.\n",
    "\n",
    "In summary, use a z-test when you have a large sample size and know the population standard deviation, and use a t-test when the sample size is small, or the population standard deviation is unknown. The choice between the two tests depends on the specific characteristics of the data and the research question at hand."
   ]
  },
  {
   "cell_type": "markdown",
   "id": "b65e1faa-8ec1-432e-a338-9b60887c0caa",
   "metadata": {},
   "source": [
    "Q2: Differentiate between one-tailed and two-tailed tests."
   ]
  },
  {
   "cell_type": "markdown",
   "id": "bfc93f3f-7726-41ee-9d5b-88706ec70b93",
   "metadata": {},
   "source": [
    "One-tailed and two-tailed tests are two types of hypothesis tests used to make inferences about population parameters based on sample data.\n",
    "\n",
    "One-Tailed Test (or One-Sided Test):\n",
    "In a one-tailed test, the alternative hypothesis specifies the direction of the effect or difference we expect to observe in the sample data. The test is designed to determine if the sample data significantly supports the hypothesis in one specific direction.\n",
    "For example, if we are interested in testing whether a new drug increases the average test scores of students, the one-tailed test would have the following hypotheses:\n",
    "\n",
    "Null Hypothesis (H0): The new drug has no effect on the average test scores (μ = μ0).\n",
    "Alternative Hypothesis (Ha): The new drug increases the average test scores (μ > μ0).\n",
    "\n",
    "The one-tailed test is used when we are specifically interested in whether the effect is in one direction (e.g., greater than, less than) and we do not care about the opposite direction.\n",
    "\n",
    "Two-Tailed Test (or Two-Sided Test):\n",
    "In a two-tailed test, the alternative hypothesis does not specify a direction for the effect or difference; it only states that there is a difference or effect between the sample groups or conditions. The test is designed to determine if the sample data significantly supports the hypothesis, regardless of the direction of the effect.\n",
    "For example, if we are interested in testing whether a new teaching method affects the average test scores of students, the two-tailed test would have the following hypotheses:\n",
    "\n",
    "Null Hypothesis (H0): The new teaching method has no effect on the average test scores (μ = μ0).\n",
    "Alternative Hypothesis (Ha): The new teaching method affects the average test scores (μ ≠ μ0).\n",
    "\n",
    "The two-tailed test is used when we want to test for the presence of an effect or difference, but we do not have specific expectations about the direction of the effect."
   ]
  },
  {
   "cell_type": "markdown",
   "id": "044c140e-483f-403b-9106-26be65b37059",
   "metadata": {},
   "source": [
    "Q3: Explain the concept of Type 1 and Type 2 errors in hypothesis testing. Provide an example scenario for\n",
    "each type of error."
   ]
  },
  {
   "cell_type": "markdown",
   "id": "1920f563-2081-4c39-b7c7-51a27b8b4bf8",
   "metadata": {},
   "source": [
    "In hypothesis testing, Type 1 and Type 2 errors are errors that can occur when making a decision about the null hypothesis based on sample data. These errors are related to the outcome of the hypothesis test compared to the true state of the population.\n",
    "\n",
    "Type 1 Error (False Positive):\n",
    "A Type 1 error occurs when we reject the null hypothesis when it is actually true. In other words, we mistakenly conclude that there is a significant effect or difference in the data when there is no real effect or difference in the population.\n",
    "Example Scenario:\n",
    "Suppose a medical researcher is conducting a clinical trial to test the effectiveness of a new drug in treating a disease. The null hypothesis (H0) states that the drug has no effect on the disease. The researcher conducts a hypothesis test and, based on the sample data, erroneously rejects the null hypothesis, concluding that the drug is effective, when in reality, the drug has no effect on the disease. This is a Type 1 error.\n",
    "\n",
    "Type 2 Error (False Negative):\n",
    "A Type 2 error occurs when we fail to reject the null hypothesis when it is actually false. In this case, we miss detecting a real effect or difference in the population, even though it exists.\n",
    "Example Scenario:\n",
    "Continuing from the previous example, suppose the new drug in the clinical trial is indeed effective in treating the disease (the null hypothesis is false). However, the sample data collected in the study is not large enough or sensitive enough to detect the true effect. As a result, the researcher fails to reject the null hypothesis, concluding that the drug is not effective, when in reality, it is. This is a Type 2 error."
   ]
  },
  {
   "cell_type": "markdown",
   "id": "6f405ba8-33c3-4d53-a8b3-a334559cc0bd",
   "metadata": {},
   "source": [
    "Q4: Explain Bayes's theorem with an example."
   ]
  },
  {
   "cell_type": "markdown",
   "id": "df8a357b-61d5-4233-8a62-b8648e4870e7",
   "metadata": {},
   "source": [
    "Bayes's theorem, named after the Reverend Thomas Bayes, is a fundamental concept in probability theory that describes how to update the probability of an event based on new evidence or information. It allows us to revise our beliefs about the likelihood of an event occurring after observing new data\n",
    "\n",
    "The theorem can be expressed as follows:\n",
    "P(A/B) = P(A).P(B/A)/P(B)"
   ]
  },
  {
   "cell_type": "markdown",
   "id": "f232ee4f-a87b-4807-8627-974b6753ceec",
   "metadata": {},
   "source": [
    "Q5: What is a confidence interval? How to calculate the confidence interval, explain with an example."
   ]
  },
  {
   "cell_type": "markdown",
   "id": "c1ee0858-caa2-436c-854d-8b00773450fc",
   "metadata": {},
   "source": [
    "A confidence interval is a range of values that provides a level of certainty or confidence that a population parameter (such as the population mean or population proportion) lies within that range based on sample data. It is a common way to estimate an unknown population parameter using sample statistics.\n",
    "\n",
    "The confidence interval is expressed as an interval estimate, typically with a specified level of confidence, such as 95% or 99%. The confidence level represents the proportion of times the calculated confidence interval would include the true population parameter if we were to repeat the sampling process many times.\n",
    "\n",
    "The formula to calculate a confidence interval depends on the type of parameter being estimated (e.g., mean, proportion) and the distribution of the sample statistic (e.g., normal distribution for large samples, t-distribution for small samples). The most common type of confidence interval is for the population mean.\n",
    "\n",
    "Let's go through an example of calculating a confidence interval for the population mean:\n",
    "\n",
    "Example:\n",
    "Suppose a company wants to estimate the average height of adult males in a certain city. They take a random sample of 100 adult males and measure their heights. The sample mean height is 175 cm, and the sample standard deviation is 7 cm.\n",
    "\n",
    "To calculate the 95% confidence interval for the population mean height, we can use the following formula for a large sample with known standard deviation (z-score):\n",
    "\n",
    "Confidence Interval = sample_mean ± (z_critical * standard_error)\n",
    "\n",
    "Where:\n",
    "\n",
    "sample_mean = 175 cm (the sample mean height)\n",
    "z_critical = the critical value from the standard normal distribution corresponding to the desired confidence level. For a 95% confidence level, the critical value is approximately 1.96.\n",
    "standard_error = population standard deviation / sqrt(sample_size)\n",
    "Since the population standard deviation is not known, we can use the sample standard deviation as an estimate:\n",
    "\n",
    "standard_error = 7 cm / sqrt(100) = 7 cm / 10 = 0.7 cm\n",
    "\n",
    "Now, calculate the confidence interval:\n",
    "\n",
    "Confidence Interval = 175 cm ± (1.96 * 0.7 cm)\n",
    "\n",
    "Lower bound = 175 cm - 1.372 cm ≈ 173.628 cm\n",
    "Upper bound = 175 cm + 1.372 cm ≈ 176.372 cm\n",
    "\n",
    "The 95% confidence interval for the average height of adult males in the city is approximately 173.63 cm to 176.37 cm. This means that we can be 95% confident that the true population mean height falls within this range based on the sample data.\n",
    "\n",
    "Keep in mind that the width of the confidence interval depends on the sample size and the chosen confidence level. A larger sample size or a higher confidence level will result in a narrower confidence interval, providing more precise estimates."
   ]
  },
  {
   "cell_type": "markdown",
   "id": "4f2c3534-4564-416b-8e17-52d6a5fc3ca5",
   "metadata": {},
   "source": [
    "Q6. Use Bayes' Theorem to calculate the probability of an event occurring given prior knowledge of the\n",
    "event's probability and new evidence. Provide a sample problem and solution."
   ]
  },
  {
   "cell_type": "markdown",
   "id": "2c7adc66-74cd-43ca-b63f-39c90707787a",
   "metadata": {},
   "source": [
    "Sample Problem:\n",
    "Suppose there is a rare disease that affects 1 in 1000 people in a population (0.1% prevalence). A diagnostic test is available to detect the disease, but the test is not perfect. It has a false positive rate of 5% (0.05) and a false negative rate of 1% (0.01).\n",
    "\n",
    "Now, let's say a person tests pOsitive for the disease. We want to calculate the probability that this person actually has the disease (the probability of having the disease given a positive test result).\n",
    "\n",
    "Let's define the events:\n",
    "\n",
    "A: The person has the disease.\n",
    "B: The test result is positive.\n",
    "We are given the following probabilities:\n",
    "\n",
    "P\n",
    "(\n",
    "A\n",
    ")\n",
    "=\n",
    "0.001\n",
    "P(A)=0.001 (prevalence of the disease in the population)\n",
    "P\n",
    "(\n",
    "B\n",
    "∣\n",
    "A\n",
    ")\n",
    "=\n",
    "1\n",
    "−\n",
    "0.01\n",
    "=\n",
    "0.99\n",
    "P(B∣A)=1−0.01=0.99 (probability of a positive test result given the person has the disease)\n",
    "P\n",
    "(\n",
    "B\n",
    "∣\n",
    "¬\n",
    "A\n",
    ")\n",
    "=\n",
    "0.05\n",
    "P(B∣¬A)=0.05 (probability of a positive test result given the person does not have the disease)\n",
    "Using Bayes' Theorem, we can calculate the probability of having the disease given a positive test result (\n",
    "P\n",
    "(\n",
    "A\n",
    "∣\n",
    "B\n",
    ")\n",
    "P(A∣B)) as follows:\n",
    "\n",
    "\n",
    "P(A∣B)= \n",
    "P(B∣A)⋅P(A)+P(B∣¬A)⋅P(¬A)\n",
    "P(B∣A)⋅P(A)\n",
    "​\n",
    " \n",
    "\n",
    "Where \n",
    "P\n",
    "(\n",
    "¬\n",
    "A\n",
    ")\n",
    "=\n",
    "1\n",
    "−\n",
    "P\n",
    "(\n",
    "A\n",
    ")\n",
    "=\n",
    "1\n",
    "−\n",
    "0.001\n",
    "=\n",
    "0.999\n",
    "P(¬A)=1−P(A)=1−0.001=0.999 (probability of not having the disease).\n",
    "\n",
    "Now, substitute the values:\n",
    "\n",
    "P\n",
    "(\n",
    "A\n",
    "∣\n",
    "B\n",
    ")\n",
    "=\n",
    "0.99\n",
    "⋅\n",
    "0.001\n",
    "0.99\n",
    "⋅\n",
    "0.001\n",
    "+\n",
    "0.05\n",
    "⋅\n",
    "0.999\n",
    "P(A∣B)= \n",
    "0.99⋅0.001+0.05⋅0.999\n",
    "0.99⋅0.001\n",
    "​\n",
    " \n",
    "\n",
    "Calculating the expression, we find:\n",
    "\n",
    "P\n",
    "(\n",
    "B\n",
    "∣\n",
    "A\n",
    ")\n",
    "≈\n",
    "0.019\n",
    "P(A∣B)≈0.019\n",
    "\n",
    "So, the probability that a person actually has the disease given a positive test result is approximately 1.9%. Despite the positive test result, there is still a relatively low chance of having the disease, mainly due to the low prevalence of the disease in the population and the imperfect nature of the test.\n",
    "\n",
    "This example demonstrates how Bayes' Theorem allows us to update our beliefs about the probability of an event (having the disease) based on new evidence (positive test result) and prior knowledge (prevalence and test performance). It is a powerful tool for making probabilistic inferences and updating our understanding of events as new information becomes available."
   ]
  },
  {
   "cell_type": "markdown",
   "id": "1d84b66a-1c83-4026-b07d-7314fd98c96c",
   "metadata": {},
   "source": [
    "Q7. Calculate the 95% confidence interval for a sample of data with a mean of 50 and a standard deviation\n",
    "of 5. Interpret the results."
   ]
  },
  {
   "cell_type": "code",
   "execution_count": 2,
   "id": "e4303141-4ebb-499b-8bf7-fa52a349d5a9",
   "metadata": {},
   "outputs": [
    {
     "name": "stdout",
     "output_type": "stream",
     "text": [
      "95% Confidence Interval: 48.61 to 51.39\n"
     ]
    }
   ],
   "source": [
    "import numpy as np\n",
    "\n",
    "# Given data\n",
    "sample_mean = 50\n",
    "sample_std_dev = 5\n",
    "confidence_level = 0.95\n",
    "sample_size = 50\n",
    "\n",
    "# Calculate the critical value (z_critical)\n",
    "z_critical = 1.96  # For a 95% confidence level\n",
    "\n",
    "# Calculate the standard error\n",
    "# Assuming a large sample size (n > 30)\n",
    "standard_error = sample_std_dev / np.sqrt(sample_size)\n",
    "\n",
    "# Calculate the confidence interval\n",
    "lower_bound = sample_mean - z_critical * standard_error\n",
    "upper_bound = sample_mean + z_critical * standard_error\n",
    "\n",
    "# Display the results\n",
    "print(f\"95% Confidence Interval: {lower_bound:.2f} to {upper_bound:.2f}\")\n"
   ]
  },
  {
   "cell_type": "markdown",
   "id": "27f65ec1-fb5e-4602-afda-36b6857fb967",
   "metadata": {},
   "source": [
    "Q8. What is the margin of error in a confidence interval? How does sample size affect the margin of error?\n",
    "Provide an example of a scenario where a larger sample size would result in a smaller margin of error."
   ]
  },
  {
   "cell_type": "markdown",
   "id": "9d0103d1-f174-4117-8d13-6ef6c9de9c1a",
   "metadata": {},
   "source": [
    "The margin of error (MOE) is a measure of the uncertainty or variability associated with a confidence interval estimate. It quantifies the range around the point estimate (e.g., sample mean or proportion) within which we expect the true population parameter to lie with a certain level of confidence. In other words, it indicates how much the sample estimate might deviate from the true population value.\n",
    "\n",
    "The margin of error is typically expressed as a positive value and is calculated by multiplying the critical value from the appropriate probability distribution (e.g., standard normal distribution or t-distribution) by the standard error of the sample estimate.\n",
    "\n",
    "Formula for the Margin of Error:\n",
    "For a given confidence level (1 - α) and corresponding critical value (z* or t*), and a sample estimate (e.g., sample mean or proportion) with standard error SE:\n",
    "\n",
    "Margin of Error (MOE) = critical value (z* or t*) × SE\n",
    "\n",
    "The margin of error is influenced by three main factors:\n",
    "\n",
    "Confidence Level: Higher confidence levels (e.g., 95% or 99%) require wider intervals and, consequently, larger margins of error.\n",
    "Standard Error (SE): Larger standard errors, which can occur with smaller sample sizes or larger variability in the data, result in larger margins of error.\n",
    "Sample Size: Larger sample sizes lead to smaller standard errors and, consequently, smaller margins of error. As the sample size increases, the margin of error decreases.\n",
    "Example Scenario:\n",
    "Let's consider a political survey where a random sample of voters is asked whether they support a particular candidate. The surveyors want to estimate the true proportion of voters in the population who support the candidate with a 95% confidence level.\n",
    "\n",
    "Scenario 1 (Smaller Sample Size):\n",
    "In the first scenario, the surveyors collect a relatively small sample of 200 voters. The estimated proportion of voters who support the candidate is found to be 0.55 (55%). With a 95% confidence level, the critical value (z*) for a proportion is approximately 1.96.\n",
    "\n",
    "Standard Error (SE) = sqrt[(p * (1 - p)) / n]\n",
    "SE = sqrt[(0.55 * (1 - 0.55)) / 200]\n",
    "SE ≈ 0.0392\n",
    "\n",
    "Margin of Error (MOE) = 1.96 * 0.0392 ≈ 0.0768\n",
    "\n",
    "Confidence Interval: 0.55 ± 0.0768\n",
    "Confidence Interval: (0.4732, 0.6268)"
   ]
  },
  {
   "cell_type": "markdown",
   "id": "8581a9b8-c723-470a-b654-9f387a449b22",
   "metadata": {},
   "source": [
    "Q9. Calculate the z-score for a data point with a value of 75, a population mean of 70, and a population\n",
    "standard deviation of 5. Interpret the results."
   ]
  },
  {
   "cell_type": "markdown",
   "id": "ef9eb497-365c-4b20-a2ee-36a5846bc00f",
   "metadata": {
    "tags": []
   },
   "source": [
    "To calculate the z-score for a data point with a value of 75, a population mean of 70, and a population standard deviation of 5, we can use the formula for the z-score:\n",
    "\n",
    "\n",
    "z= \n",
    "σ\n",
    "x−μ\n",
    "​\n",
    " \n",
    "\n",
    "Where:\n",
    "\n",
    "x\n",
    "x is the value of the data point (75 in this case).\n",
    "u\n",
    "μ is the population mean (70).\n",
    "sigma\n",
    "σ is the population standard deviation (5).\n",
    "Let's calculate the z-score:\n",
    "z\n",
    "=\n",
    "75\n",
    "−\n",
    "70\n",
    "5\n",
    "=\n",
    "5\n",
    "5\n",
    "=\n",
    "1\n",
    "z= \n",
    "5\n",
    "75−70\n",
    "​\n",
    " = \n",
    "5\n",
    "5\n",
    "​\n",
    " =1\n",
    "\n",
    "Interpretation of the results:\n",
    "The z-score of 1 means that the data point with a value of 75 is 1 standard deviation above the population mean. In other words, the data point is 1 unit of standard deviation away from the average value of the population.\n",
    "\n",
    "Since the z-score is positive, it indicates that the data point is above the mean. A positive z-score suggests that the data point is relatively higher than the average value of the population. The magnitude of the z-score indicates how far away the data point is from the mean in terms of standard deviations."
   ]
  },
  {
   "cell_type": "markdown",
   "id": "c3689940-a2a3-4676-a043-7cb9a3d2c89d",
   "metadata": {},
   "source": [
    "Q10. In a study of the effectiveness of a new weight loss drug, a sample of 50 participants lost an average\n",
    "of 6 pounds with a standard deviation of 2.5 pounds. Conduct a hypothesis test to determine if the drug is\n",
    "significantly effective at a 95% confidence level using a t-test."
   ]
  },
  {
   "cell_type": "code",
   "execution_count": 3,
   "id": "0b502bb1-501b-4836-976c-cc828b3c727b",
   "metadata": {},
   "outputs": [
    {
     "name": "stdout",
     "output_type": "stream",
     "text": [
      "Reject the null hypothesis. The weight loss drug is significantly effective.\n"
     ]
    }
   ],
   "source": [
    "import scipy.stats as stats\n",
    "\n",
    "# Given data\n",
    "sample_mean = 6\n",
    "sample_std_dev = 2.5\n",
    "sample_size = 50\n",
    "null_mean = 0\n",
    "confidence_level = 0.95\n",
    "\n",
    "# Calculate the t-statistic\n",
    "t_statistic = (sample_mean - null_mean) / (sample_std_dev / (sample_size ** 0.5))\n",
    "\n",
    "# Calculate the critical value for a one-tailed t-test\n",
    "df = sample_size - 1\n",
    "critical_value = stats.t.ppf(1 - confidence_level, df)\n",
    "\n",
    "# Conduct the t-test and check if the t-statistic is greater than the critical value\n",
    "if t_statistic > critical_value:\n",
    "    print(\"Reject the null hypothesis. The weight loss drug is significantly effective.\")\n",
    "else:\n",
    "    print(\"Fail to reject the null hypothesis. There is no significant evidence that the weight loss drug is effective.\")\n"
   ]
  },
  {
   "cell_type": "markdown",
   "id": "780e371d-76d7-4884-bf8b-f876c70e7654",
   "metadata": {},
   "source": [
    "Q11. In a survey of 500 people, 65% reported being satisfied with their current job. Calculate the 95%\n",
    "confidence interval for the true proportion of people who are satisfied with their job."
   ]
  },
  {
   "cell_type": "code",
   "execution_count": 4,
   "id": "5de8cfc9-7caa-4eb2-8de4-147fe175953a",
   "metadata": {},
   "outputs": [
    {
     "name": "stdout",
     "output_type": "stream",
     "text": [
      "95% Confidence Interval: 0.6082 to 0.6918\n"
     ]
    }
   ],
   "source": [
    "import numpy as np\n",
    "\n",
    "# Given data\n",
    "sample_proportion = 0.65\n",
    "sample_size = 500\n",
    "confidence_level = 0.95\n",
    "\n",
    "# Calculate the critical value (z_critical)\n",
    "z_critical = 1.96  # For a 95% confidence level\n",
    "\n",
    "# Calculate the standard error\n",
    "standard_error = np.sqrt((sample_proportion * (1 - sample_proportion)) / sample_size)\n",
    "\n",
    "# Calculate the confidence interval\n",
    "lower_bound = sample_proportion - z_critical * standard_error\n",
    "upper_bound = sample_proportion + z_critical * standard_error\n",
    "\n",
    "# Display the results\n",
    "print(f\"95% Confidence Interval: {lower_bound:.4f} to {upper_bound:.4f}\")\n"
   ]
  },
  {
   "cell_type": "markdown",
   "id": "f133fefd-241e-4385-ba0e-62e0f24cad7a",
   "metadata": {},
   "source": [
    "Q12. A researcher is testing the effectiveness of two different teaching methods on student performance.\n",
    "Sample A has a mean score of 85 with a standard deviation of 6, while sample B has a mean score of 82\n",
    "with a standard deviation of 5. Conduct a hypothesis test to determine if the two teaching methods have a\n",
    "significant difference in student performance using a t-test with a significance level of 0.01."
   ]
  },
  {
   "cell_type": "code",
   "execution_count": 6,
   "id": "c99084f9-e972-4581-a32d-0c5e020f6b19",
   "metadata": {},
   "outputs": [
    {
     "name": "stdout",
     "output_type": "stream",
     "text": [
      "Fail to reject the null hypothesis. There is no significant difference in student performance between the two teaching methods.\n"
     ]
    }
   ],
   "source": [
    "import numpy as np\n",
    "import scipy.stats as stats\n",
    "\n",
    "# Given data for Sample A\n",
    "mean_A = 85\n",
    "std_dev_A = 6\n",
    "sample_size_A = 21 # Please provide the sample size for Sample A\n",
    "\n",
    "# Given data for Sample B\n",
    "mean_B = 82\n",
    "std_dev_B = 5\n",
    "sample_size_B = 23  # Please provide the sample size for Sample B\n",
    "\n",
    "# Significance level (alpha)\n",
    "alpha = 0.01\n",
    "\n",
    "# Calculate the pooled standard deviation\n",
    "pooled_std_dev = np.sqrt(((std_dev_A**2 * (sample_size_A - 1)) + (std_dev_B**2 * (sample_size_B - 1))) / (sample_size_A + sample_size_B - 2))\n",
    "\n",
    "# Calculate the t-statistic\n",
    "t_statistic = (mean_A - mean_B) / (pooled_std_dev * np.sqrt((1 / sample_size_A) + (1 / sample_size_B)))\n",
    "\n",
    "# Calculate the degrees of freedom for the t-distribution\n",
    "degrees_of_freedom = sample_size_A + sample_size_B - 2\n",
    "\n",
    "# Calculate the critical t-value for a two-tailed test\n",
    "critical_t_value = stats.t.ppf(1 - alpha / 2, degrees_of_freedom)\n",
    "\n",
    "# Conduct the t-test and check if the absolute t-statistic is greater than the critical t-value\n",
    "if abs(t_statistic) > critical_t_value:\n",
    "    print(\"Reject the null hypothesis. There is a significant difference in student performance between the two teaching methods.\")\n",
    "else:\n",
    "    print(\"Fail to reject the null hypothesis. There is no significant difference in student performance between the two teaching methods.\")\n"
   ]
  },
  {
   "cell_type": "markdown",
   "id": "5bccb38e-9fd4-4cdb-bcc9-50a85ac42e35",
   "metadata": {},
   "source": [
    "Q13. A population has a mean of 60 and a standard deviation of 8. A sample of 50 observations has a mean\n",
    "of 65. Calculate the 90% confidence interval for the true population mean."
   ]
  },
  {
   "cell_type": "code",
   "execution_count": 7,
   "id": "f0be5201-cd1f-4c73-8d20-3a645c844b59",
   "metadata": {},
   "outputs": [
    {
     "name": "stdout",
     "output_type": "stream",
     "text": [
      "90% Confidence Interval: 63.14 to 66.86\n"
     ]
    }
   ],
   "source": [
    "# Given data\n",
    "sample_mean = 65\n",
    "population_std_dev = 8\n",
    "sample_size = 50\n",
    "confidence_level = 0.90\n",
    "\n",
    "# Calculate the critical value (z)\n",
    "z_critical = 1.645  # For a 90% confidence level\n",
    "\n",
    "# Calculate the standard error\n",
    "standard_error = population_std_dev / (sample_size ** 0.5)\n",
    "\n",
    "# Calculate the confidence interval\n",
    "lower_bound = sample_mean - z_critical * standard_error\n",
    "upper_bound = sample_mean + z_critical * standard_error\n",
    "\n",
    "# Display the results\n",
    "print(f\"90% Confidence Interval: {lower_bound:.2f} to {upper_bound:.2f}\")\n"
   ]
  },
  {
   "cell_type": "markdown",
   "id": "7b28d313-03ac-42e3-88b6-2bd76d551864",
   "metadata": {},
   "source": [
    "Q14. In a study of the effects of caffeine on reaction time, a sample of 30 participants had an average\n",
    "reaction time of 0.25 seconds with a standard deviation of 0.05 seconds. Conduct a hypothesis test to\n",
    "determine if the caffeine has a significant effect on reaction time at a 90% confidence level using a t-test."
   ]
  },
  {
   "cell_type": "code",
   "execution_count": 9,
   "id": "280dab1e-82fa-4d64-a683-7008d997ef10",
   "metadata": {},
   "outputs": [
    {
     "name": "stdout",
     "output_type": "stream",
     "text": [
      "Reject the null hypothesis. Caffeine has a significant effect on reaction time.\n"
     ]
    }
   ],
   "source": [
    "import scipy.stats as stats\n",
    "\n",
    "# Given data\n",
    "sample_mean = 0.25\n",
    "sample_std_dev = 0.05\n",
    "sample_size = 30\n",
    "hypothesized_mean = 90  # Please provide the hypothesized population mean\n",
    "\n",
    "# Significance level (alpha)\n",
    "alpha = 0.10\n",
    "\n",
    "# Calculate the standard error\n",
    "standard_error = sample_std_dev / (sample_size ** 0.5)\n",
    "\n",
    "# Calculate the t-statistic\n",
    "t_statistic = (sample_mean - hypothesized_mean) / standard_error\n",
    "\n",
    "# Calculate the degrees of freedom for the t-distribution\n",
    "degrees_of_freedom = sample_size - 1\n",
    "\n",
    "# Calculate the critical t-value for a two-tailed test\n",
    "critical_t_value = stats.t.ppf(1 - alpha / 2, degrees_of_freedom)\n",
    "\n",
    "# Conduct the t-test and check if the absolute t-statistic is greater than the critical t-value\n",
    "if abs(t_statistic) > critical_t_value:\n",
    "    print(\"Reject the null hypothesis. Caffeine has a significant effect on reaction time.\")\n",
    "else:\n",
    "    print(\"Fail to reject the null hypothesis. There is no significant evidence that caffeine has an effect on reaction time.\")\n"
   ]
  },
  {
   "cell_type": "code",
   "execution_count": null,
   "id": "b7640d87-c612-48e8-aea9-2508fc98ce3c",
   "metadata": {},
   "outputs": [],
   "source": []
  }
 ],
 "metadata": {
  "kernelspec": {
   "display_name": "Python 3 (ipykernel)",
   "language": "python",
   "name": "python3"
  },
  "language_info": {
   "codemirror_mode": {
    "name": "ipython",
    "version": 3
   },
   "file_extension": ".py",
   "mimetype": "text/x-python",
   "name": "python",
   "nbconvert_exporter": "python",
   "pygments_lexer": "ipython3",
   "version": "3.10.8"
  }
 },
 "nbformat": 4,
 "nbformat_minor": 5
}
