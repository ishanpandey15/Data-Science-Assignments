{
 "cells": [
  {
   "cell_type": "raw",
   "id": "e9ccae97-0044-4f97-bceb-ff41818cec33",
   "metadata": {},
   "source": [
    "Q1. What are the three measures of central tendency?"
   ]
  },
  {
   "cell_type": "raw",
   "id": "8ee37450-d9dc-48a6-be03-00d6f06af7e5",
   "metadata": {},
   "source": [
    "The three main measures of central tendency are:\n",
    "\n",
    "Mean: The arithmetic average of a set of numbers. It is calculated by adding up all the values and dividing the sum by the number of data points. The mean is sensitive to extreme values and provides a representative value for the central location of the data.\n",
    "\n",
    "Median: The middle value of a dataset when it is ordered from smallest to largest. If the dataset has an even number of values, the median is the average of the two middle values. The median is not influenced by extreme values and is useful for describing the central value in skewed datasets.\n",
    "\n",
    "Mode: The mode is the value that appears most frequently in a dataset. A dataset may have one mode (unimodal) or multiple modes (bimodal, trimodal, etc.). The mode is especially useful when dealing with categorical or discrete data"
   ]
  },
  {
   "cell_type": "raw",
   "id": "78b13c67-b24e-4c2b-9ff9-8aa7b2ffaa8a",
   "metadata": {},
   "source": [
    "Q2. What is the difference between the mean, median, and mode? How are they used to measure the\n",
    "central tendency of a dataset?"
   ]
  },
  {
   "cell_type": "raw",
   "id": "37834b90-c640-4e68-b415-aad1c576254e",
   "metadata": {},
   "source": [
    "Mean:\n",
    "Calculation: The mean is calculated by adding up all the values in a dataset and dividing the sum by the number of data points.\n",
    "Sensitivity to Extreme Values: The mean is sensitive to extreme values or outliers in the dataset. A single extreme value can significantly impact the mean, pulling it toward higher or lower values.\n",
    "Usage: The mean is commonly used when dealing with numerical data that have a roughly symmetrical distribution. It provides a representative average of the values in the dataset and is useful for comparing different datasets.\n",
    "Median:\n",
    "Calculation: The median is the middle value of a dataset when it is ordered from smallest to largest. If the dataset has an even number of values, the median is the average of the two middle values.\n",
    "Robustness to Extreme Values: The median is robust to extreme values and outliers in the dataset. It is not influenced by extreme values and gives a more stable estimate of the central value.\n",
    "Usage: The median is preferred when dealing with datasets that have a skewed distribution or contain outliers. It provides a better measure of the \"central\" value in such cases and is particularly useful for ordinal or interval data.\n",
    "Mode:\n",
    "Calculation: The mode is the value that appears most frequently in a dataset. A dataset may have one mode (unimodal) or multiple modes (bimodal, trimodal, etc.).\n",
    "Categorical Data: The mode is especially useful when dealing with categorical or discrete data where numerical calculations are not appropriate.\n",
    "Usage: The mode is often used to describe the most common value or category in a dataset. It helps identify the central tendency when dealing with non-numeric data, such as colors, preferences, or categorical responses in surveys"
   ]
  },
  {
   "cell_type": "raw",
   "id": "dd153fd0-4010-4628-a81b-bbdcbc8a02ae",
   "metadata": {},
   "source": [
    "Q3. Measure the three measures of central tendency for the given height data:\n",
    "[178,177,176,177,178.2,178,175,179,180,175,178.9,176.2,177,172.5,178,176.5]"
   ]
  },
  {
   "cell_type": "code",
   "execution_count": 1,
   "id": "858c7ee9-ac16-4f79-87c3-c8bb3fcbc70b",
   "metadata": {},
   "outputs": [],
   "source": [
    "height = [178,177,176,177,178.2,178,175,179,180,175,178.9,176.2,177,172.5,178,176.5]"
   ]
  },
  {
   "cell_type": "code",
   "execution_count": 2,
   "id": "fcca5595-2ff5-46c4-abb3-c2b03908f40f",
   "metadata": {},
   "outputs": [],
   "source": [
    "import numpy as np"
   ]
  },
  {
   "cell_type": "code",
   "execution_count": 3,
   "id": "51dc98e2-46e2-42a0-9766-55d598159b45",
   "metadata": {},
   "outputs": [
    {
     "data": {
      "text/plain": [
       "177.01875"
      ]
     },
     "execution_count": 3,
     "metadata": {},
     "output_type": "execute_result"
    }
   ],
   "source": [
    "np.mean(height)"
   ]
  },
  {
   "cell_type": "code",
   "execution_count": 5,
   "id": "5f455d85-9e54-4238-bcf4-51a254410b25",
   "metadata": {},
   "outputs": [
    {
     "data": {
      "text/plain": [
       "177.0"
      ]
     },
     "execution_count": 5,
     "metadata": {},
     "output_type": "execute_result"
    }
   ],
   "source": [
    "np.median(height)"
   ]
  },
  {
   "cell_type": "code",
   "execution_count": 6,
   "id": "e1fc3599-e637-4c02-9c9e-d17b48232eb5",
   "metadata": {},
   "outputs": [],
   "source": [
    "from scipy import stats"
   ]
  },
  {
   "cell_type": "code",
   "execution_count": 7,
   "id": "2f94e5c0-e5d4-4ecf-ac69-9bcf1ce6f35f",
   "metadata": {},
   "outputs": [
    {
     "name": "stderr",
     "output_type": "stream",
     "text": [
      "/tmp/ipykernel_814/1690947930.py:1: FutureWarning: Unlike other reduction functions (e.g. `skew`, `kurtosis`), the default behavior of `mode` typically preserves the axis it acts along. In SciPy 1.11.0, this behavior will change: the default value of `keepdims` will become False, the `axis` over which the statistic is taken will be eliminated, and the value None will no longer be accepted. Set `keepdims` to True or False to avoid this warning.\n",
      "  stats.mode(height)\n"
     ]
    },
    {
     "data": {
      "text/plain": [
       "ModeResult(mode=array([177.]), count=array([3]))"
      ]
     },
     "execution_count": 7,
     "metadata": {},
     "output_type": "execute_result"
    }
   ],
   "source": [
    "stats.mode(height)"
   ]
  },
  {
   "cell_type": "raw",
   "id": "ba1b819f-0bf8-40c2-aca5-8f1595d2771c",
   "metadata": {},
   "source": [
    "Q4. Find the standard deviation for the given data:\n",
    "[178,177,176,177,178.2,178,175,179,180,175,178.9,176.2,177,172.5,178,176.5]"
   ]
  },
  {
   "cell_type": "code",
   "execution_count": 8,
   "id": "42af0009-0071-4e0c-9692-ec36be79b7b2",
   "metadata": {},
   "outputs": [
    {
     "data": {
      "text/plain": [
       "1.7885814036548633"
      ]
     },
     "execution_count": 8,
     "metadata": {},
     "output_type": "execute_result"
    }
   ],
   "source": [
    "np.std(height)"
   ]
  },
  {
   "cell_type": "raw",
   "id": "ac6b3709-0ce3-4fad-9c20-73204ccf882d",
   "metadata": {},
   "source": [
    "Q5. How are measures of dispersion such as range, variance, and standard deviation used to describe\n",
    "the spread of a dataset? Provide an example."
   ]
  },
  {
   "cell_type": "raw",
   "id": "fff88c31-17d7-4a2c-9591-d5bd081babf3",
   "metadata": {},
   "source": [
    "Measures of dispersion, such as range, variance, and standard deviation, are used to describe the spread or variability of data points in a dataset. They complement measures of central tendency (mean, median, mode) by providing insights into how the data is distributed around the central value. Let's explain each measure and provide an example to illustrate how they are used:\n",
    "\n",
    "Range:\n",
    "The range is the simplest measure of dispersion and represents the difference between the maximum and minimum values in a dataset. It provides a rough estimate of the spread of the data.\n",
    "Example: Consider the following dataset representing the ages of ten individuals: {20, 22, 25, 26, 27, 28, 29, 30, 32, 35}. The range is calculated as 35 (maximum) - 20 (minimum) = 15. So, the range of ages in this dataset is 15 years.\n",
    "\n",
    "Variance:\n",
    "Variance measures the average squared deviation of each data point from the mean. It provides a more precise measure of data dispersion.\n",
    "Example: Continuing with the previous dataset, the mean age is calculated as (20 + 22 + 25 + 26 + 27 + 28 + 29 + 30 + 32 + 35) / 10 = 28.4. The variance is then computed as:\n",
    "\n",
    "Variance = [(20 - 28.4)^2 + (22 - 28.4)^2 + (25 - 28.4)^2 + ... + (35 - 28.4)^2] / 10 ≈ 23.84\n",
    "\n",
    "The variance of ages in this dataset is approximately 23.84 square years.\n",
    "\n",
    "Standard Deviation:\n",
    "The standard deviation is the square root of the variance. It measures the average deviation of data points from the mean and is widely used as a measure of data variability.\n",
    "Example: Using the variance value from the previous example (approximately 23.84), the standard deviation is calculated as:\n",
    "\n",
    "Standard Deviation = √23.84 ≈ 4.88\n",
    "\n",
    "So, the standard deviation of ages in this dataset is approximately 4.88 years.."
   ]
  },
  {
   "cell_type": "raw",
   "id": "aa8d386e-447d-4b26-ab4d-4e08fe779f2e",
   "metadata": {},
   "source": [
    "Q6. What is a Venn diagram?"
   ]
  },
  {
   "cell_type": "raw",
   "id": "c59f3b78-5d88-4d92-a3d6-787a090fdd51",
   "metadata": {},
   "source": [
    "A Venn diagram is a graphical representation used to visualize the relationships and similarities between different sets or groups. It consists of overlapping circles or ellipses, where each circle represents a specific set, and the overlapping regions represent the elements that belong to more than one set. The areas outside the circles represent elements that do not belong to any of the sets."
   ]
  },
  {
   "cell_type": "raw",
   "id": "86e258f9-2e7f-4d17-b183-1a8555b8fae3",
   "metadata": {},
   "source": [
    "Q7. For the two given sets A = (2,3,4,5,6,7) & B = (0,2,6,8,10). Find:\n",
    "(i) A intersection B\n",
    "(ii) A ⋃ B"
   ]
  },
  {
   "cell_type": "raw",
   "id": "bde6da2f-02c5-44d9-ada1-26630f4aab10",
   "metadata": {},
   "source": [
    "(i) -> (2,6)\n",
    "(ii) -> (0,2,3,4,5,6,7,8,10)"
   ]
  },
  {
   "cell_type": "raw",
   "id": "6cd5dfe2-7199-415a-8b80-75fd51f08684",
   "metadata": {},
   "source": [
    "Q8. What do you understand about skewness in data?"
   ]
  },
  {
   "cell_type": "raw",
   "id": "a99f9227-538c-48b3-8853-385c1347fdcf",
   "metadata": {},
   "source": [
    "Skewness is a statistical measure that describes the asymmetry of the probability distribution of a dataset. In other words, it indicates the degree to which the data deviates from a symmetrical, bell-shaped distribution. Skewness is an essential concept in data analysis, as it helps identify the direction and extent of any departure from symmetry in the data."
   ]
  },
  {
   "cell_type": "raw",
   "id": "812adb57-68bb-40b0-b3b4-d757075a2e4d",
   "metadata": {},
   "source": [
    "Q9. If a data is right skewed then what will be the position of median with respect to mean?"
   ]
  },
  {
   "cell_type": "raw",
   "id": "6c0483e6-3d8e-41c4-bcdb-f4a752dac6fa",
   "metadata": {},
   "source": [
    "If a dataset is right-skewed, the median will be positioned to the left of the mean. In a right-skewed distribution, the tail of the data extends to the right, and the majority of the data is concentrated on the left side of the distribution.\n",
    "\n",
    "Since the mean is sensitive to extreme values and is influenced by the presence of outliers in the right tail, it tends to get pulled in the direction of the longer tail. As a result, the mean is larger than the median in a right-skewed distribution."
   ]
  },
  {
   "cell_type": "raw",
   "id": "13dd9880-be5c-407f-829d-c0b593597ddb",
   "metadata": {},
   "source": [
    "Q10. Explain the difference between covariance and correlation. How are these measures used in\n",
    "statistical analysis?"
   ]
  },
  {
   "cell_type": "raw",
   "id": "541bf95c-28b5-42ce-8314-f4dcf6ab55dc",
   "metadata": {},
   "source": [
    "Covariance:\n",
    "Covariance measures the degree to which two variables change together. It indicates the direction of the linear relationship between two variables but does not provide information about the strength of the relationship. Covariance can take positive, negative, or zero values.\n",
    "Positive Covariance: If an increase in one variable corresponds to an increase in the other variable, the covariance is positive.\n",
    "Negative Covariance: If an increase in one variable corresponds to a decrease in the other variable, the covariance is negative.\n",
    "Zero Covariance: If there is no linear relationship between the two variables, the covariance is zero.\n",
    "The formula for the sample covariance between two variables X and Y, based on a sample of size n, is:\n",
    "\n",
    "Cov(X, Y) = Σ[(Xᵢ - X̄)(Yᵢ - Ȳ)] / (n - 1)\n",
    "\n",
    "where Xᵢ and Yᵢ are individual data points, X̄ and Ȳ are the sample means of X and Y, respectively, and Σ represents the sum over all data points.\n",
    "\n",
    "Correlation:\n",
    "Correlation is a standardized measure that quantifies the strength and direction of the linear relationship between two variables. Unlike covariance, correlation scales the relationship to fall within the range of -1 to +1.\n",
    "Positive Correlation: A correlation coefficient of +1 indicates a perfect positive linear relationship, meaning that an increase in one variable corresponds to an exact proportional increase in the other variable.\n",
    "Negative Correlation: A correlation coefficient of -1 indicates a perfect negative linear relationship, meaning that an increase in one variable corresponds to an exact proportional decrease in the other variable.\n",
    "Zero Correlation: A correlation coefficient of 0 indicates no linear relationship between the two variables.\n",
    "The formula for the sample correlation coefficient (Pearson correlation coefficient) between two variables X and Y is:\n",
    "\n",
    "r = Cov(X, Y) / (σₓ * σᵧ)\n",
    "\n",
    "where Cov(X, Y) is the covariance between X and Y, and σₓ and σᵧ are the standard deviations of X and Y, respectively."
   ]
  },
  {
   "cell_type": "raw",
   "id": "22ef192f-cb3b-4c04-8751-0b609a320fc6",
   "metadata": {},
   "source": [
    "Q11. What is the formula for calculating the sample mean? Provide an example calculation for a\n",
    "dataset."
   ]
  },
  {
   "cell_type": "raw",
   "id": "caafec65-7876-4a7c-80aa-c51be9d458a7",
   "metadata": {},
   "source": [
    "The formula for calculating the sample mean (also known as the arithmetic mean) of a dataset is as follows:\n",
    "\n",
    "Sample Mean (X̄) = (Sum of all data points) / (Number of data points)\n",
    "\n",
    "In mathematical notation:\n",
    "\n",
    "X̄ = ΣX / n\n",
    "\n",
    "where X̄ is the sample mean, ΣX represents the sum of all data points in the dataset, and n is the number of data points in the sample.\n",
    "\n",
    "Example Calculation:\n",
    "Let's calculate the sample mean for the following dataset representing the scores of students in a test:\n",
    "\n",
    "{85, 78, 92, 88, 95}\n",
    "\n",
    "Step 1: Add up all the data points in the dataset:\n",
    "Sum of data points = 85 + 78 + 92 + 88 + 95 = 438\n",
    "\n",
    "Step 2: Determine the number of data points (sample size):\n",
    "Number of data points (n) = 5\n",
    "\n",
    "Step 3: Calculate the sample mean (X̄):\n",
    "X̄ = Sum of data points / Number of data points\n",
    "X̄ = 438 / 5\n",
    "X̄ = 87.6\n",
    "\n",
    "The sample mean"
   ]
  },
  {
   "cell_type": "raw",
   "id": "4d4250bc-46d4-49e3-9df6-f10163e3de14",
   "metadata": {},
   "source": [
    "Q12. For a normal distribution data what is the relationship between its measure of central tendency?"
   ]
  },
  {
   "cell_type": "raw",
   "id": "ab44e439-6af7-4374-9853-00596ac894c8",
   "metadata": {},
   "source": [
    "For a normal distribution, the three measures of central tendency—mean, median, and mode—have a special relationship: they are all equal to each other.\n",
    "\n",
    "In a perfectly symmetrical normal distribution, the data is centered around the mean, and the mean is the exact middle value. Since the distribution is symmetrical, the median, which is also the middle value, will also be equal to the mean. Additionally, in a symmetrical distribution, the mode—the value that appears most frequently—will also be the same as the mean and median because there are no significant differences in the frequencies of the values.\n",
    "\n",
    "Therefore, for a normal distribution:\n",
    "\n",
    "Mean = Median = Mode\n",
    "\n",
    "This relationship holds true for perfectly symmetrical normal distributions. However, in practice, real-world data may deviate slightly from perfect symmetry due to sampling errors or other factors. In such cases, the mean, median, and mode may be close to each other but not exactly equal. The more symmetrical the distribution, the closer these measures will be to each other."
   ]
  },
  {
   "cell_type": "raw",
   "id": "b7d27936-0ec7-47e2-826a-17b0df69b2b7",
   "metadata": {},
   "source": [
    "Q13. How is covariance different from correlation?"
   ]
  },
  {
   "cell_type": "raw",
   "id": "2b63619b-b251-47e6-bf23-4cb3f32ea5a9",
   "metadata": {},
   "source": [
    "Covariance: Covariance is a measure of how two variables change together. It indicates the direction of the linear relationship between the variables but does not provide information about the strength of the relationship.\n",
    "Correlation: Correlation is a standardized measure that quantifies the strength and direction of the linear relationship between two variables. It scales the relationship to fall within the range of -1 to +1, providing a more interpretable and comparable measure of the relationship strength.\n",
    "Scaling:\n",
    "Covariance: Covariance is not standardized and can take both positive and negative values, depending on the direction of the relationship. The magnitude of covariance depends on the units of the variables, making it difficult to compare the strength of the relationship between datasets with different scales.\n",
    "Correlation: Correlation is standardized and always falls within the range of -1 to +1. A correlation coefficient of +1 indicates a perfect positive linear relationship, -1 indicates a perfect negative linear relationship, and 0 indicates no linear relationship. This standardization allows for easy comparison of relationships across different datasets.\n",
    "Interpretation of Values:\n",
    "Covariance: The magnitude of covariance is not easily interpretable on its own, especially when comparing different datasets with varying scales. Positive covariance indicates a positive relationship, while negative covariance indicates a negative relationship.\n",
    "Correlation: The correlation coefficient is more interpretable. A correlation of +1 indicates a perfect positive linear relationship, -1 indicates a perfect negative linear relationship, and 0 indicates no linear relationship. The absolute value of the correlation coefficient also indicates the strength of the relationship, with values closer to +1 or -1 indicating stronger associations.\n",
    "Applicability:\n",
    "Covariance: Covariance is used to understand the direction of the relationship between two variables but is less commonly used due to its lack of standardization and interpretability.\n",
    "Correlation: Correlation is widely used in various fields, including statistics, data analysis, and research, as it provides a standardized measure of the strength and direction of the linear relationship between two variables. It is particularly useful for comparing the strength of relationships between different datasets."
   ]
  },
  {
   "cell_type": "raw",
   "id": "de7faebc-f2f0-47dc-9f7c-96a408562f60",
   "metadata": {},
   "source": [
    "Q14. How do outliers affect measures of central tendency and dispersion? Provide an example."
   ]
  },
  {
   "cell_type": "raw",
   "id": "044b0cd3-9457-4ec3-9c5b-649111e622d8",
   "metadata": {},
   "source": [
    "Outliers can significantly impact measures of central tendency and dispersion, leading to misleading or inaccurate summaries of the dataset. Outliers are extreme values that differ significantly from the majority of the data points in a dataset. They can distort the overall distribution and affect the typical value and spread of the data.\n",
    "\n",
    "Measures of Central Tendency:\n",
    "Outliers can heavily influence measures of central tendency such as the mean and, to some extent, the median. The mean is particularly sensitive to outliers because it takes into account the value of each data point. When extreme values are present, they can pull the mean toward their direction, significantly altering its value.\n",
    "Example:\n",
    "Consider a dataset representing the incomes (in thousands of dollars) of ten individuals: {20, 22, 25, 26, 27, 28, 29, 30, 32, 1000}. The majority of incomes are clustered around 20 to 32 thousand dollars, except for one extreme outlier of 1000 thousand dollars (one million dollars). The mean of this dataset is calculated as:\n",
    "\n",
    "Mean = (20 + 22 + 25 + 26 + 27 + 28 + 29 + 30 + 32 + 1000) / 10 ≈ 131.9\n",
    "\n",
    "The outlier of 1000 has significantly skewed the mean upward, making it an inaccurate representation of the typical income in the dataset.\n",
    "\n",
    "On the other hand, the median is less affected by outliers. In this example, the median is calculated by finding the middle value after sorting the dataset:\n",
    "\n",
    "Median = 27\n",
    "\n",
    "The median remains relatively close to the central values of the dataset, as it is not influenced by extreme values like the mean.\n",
    "\n",
    "Measures of Dispersion:\n",
    "Outliers can also affect measures of dispersion, such as the range, variance, and standard deviation. These measures are influenced by the spread of the data, and outliers can greatly increase the range and variance by pulling the upper bound away from the bulk of the data.\n",
    "Example:\n",
    "Using the same dataset as before, the standard deviation is calculated as follows:\n",
    "\n",
    "Variance = [(20 - 131.9)^2 + (22 - 131.9)^2 + ... + (32 - 131.9)^2 + (1000 - 131.9)^2] / 10 ≈ 70,414.8\n",
    "\n",
    "Standard Deviation = √70,414.8 ≈ 265.3\n",
    "\n",
    "The presence of the outlier has increased the variance and standard deviation, which may not accurately represent the typical spread of the data."
   ]
  },
  {
   "cell_type": "code",
   "execution_count": null,
   "id": "281d5ae1-7788-422d-b77e-9fa653ab6be0",
   "metadata": {},
   "outputs": [],
   "source": []
  }
 ],
 "metadata": {
  "kernelspec": {
   "display_name": "Python 3 (ipykernel)",
   "language": "python",
   "name": "python3"
  },
  "language_info": {
   "codemirror_mode": {
    "name": "ipython",
    "version": 3
   },
   "file_extension": ".py",
   "mimetype": "text/x-python",
   "name": "python",
   "nbconvert_exporter": "python",
   "pygments_lexer": "ipython3",
   "version": "3.10.8"
  }
 },
 "nbformat": 4,
 "nbformat_minor": 5
}
