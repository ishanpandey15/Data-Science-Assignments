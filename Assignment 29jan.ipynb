{
 "cells": [
  {
   "cell_type": "markdown",
   "id": "e9f7f551-e502-40d6-8c58-7bbeccbe9c9f",
   "metadata": {},
   "source": [
    "Q1 : Who developed python programming language ?"
   ]
  },
  {
   "cell_type": "markdown",
   "id": "b2710623-8e11-404a-8778-bc49476b5cc7",
   "metadata": {},
   "source": [
    "A1: Guido van Rossum"
   ]
  },
  {
   "cell_type": "markdown",
   "id": "7b8978af-1b74-4536-9a48-ec7ea5deb7d5",
   "metadata": {},
   "source": [
    "Q2: Which type of programming does python support? "
   ]
  },
  {
   "cell_type": "markdown",
   "id": "befebec2-d33e-4d04-84eb-58e4ebd590d2",
   "metadata": {},
   "source": [
    "A2: Pyhton supports \n",
    "1) procedural programming language \n",
    "2) object oriented programminglanguage\n",
    "3) functional programming\n",
    "4) imperative programming \n",
    "5) event drive programming"
   ]
  },
  {
   "cell_type": "markdown",
   "id": "e202ad0e-e6fc-4e21-a331-ec31c097333d",
   "metadata": {},
   "source": [
    "Q3: Is python case semsitive while dealing with identifiers?"
   ]
  },
  {
   "cell_type": "markdown",
   "id": "afe63a0a-4753-40e7-b522-3b7eff463b55",
   "metadata": {},
   "source": [
    "A3: Yes"
   ]
  },
  {
   "cell_type": "markdown",
   "id": "b8b76d11-8140-4bca-aa24-d9ebafc125c4",
   "metadata": {},
   "source": [
    "A4: .py"
   ]
  },
  {
   "cell_type": "markdown",
   "id": "d386a8d1-0e4f-4c54-bf00-6f577b5f25b8",
   "metadata": {},
   "source": [
    "A5: Python code is interpreted. When you write Python code, it is processed by the Python interpreter, which reads the code line by line and executes it immediately. The interpreter translates each line of code into machine code or bytecode and executes it directly, without the need for a separate compilation step."
   ]
  },
  {
   "cell_type": "markdown",
   "id": "650d66a2-4c45-4725-978c-138617e9bcd6",
   "metadata": {},
   "source": [
    "A6: functions ,  conditional statements , loops , classes"
   ]
  },
  {
   "cell_type": "markdown",
   "id": "5dfa9c2a-caa0-4534-ac97-41a6fdce7a5c",
   "metadata": {},
   "source": [
    "A7: using '#' we can add single line commnets in python "
   ]
  },
  {
   "cell_type": "markdown",
   "id": "b698fe17-1b9c-4759-bf93-f995dce0734e",
   "metadata": {},
   "source": [
    "A8: sys.version or sys.version_info or platform.python_version()"
   ]
  },
  {
   "cell_type": "markdown",
   "id": "3ba64c4b-8678-49aa-8ad2-dda872757823",
   "metadata": {},
   "source": [
    "A9:lambda "
   ]
  },
  {
   "cell_type": "markdown",
   "id": "32b7953f-47d7-4924-9fbc-49238703db08",
   "metadata": {},
   "source": [
    "A10: PIP stands for \"Pip Installs Packages\" or \"Pip Installs Python.\""
   ]
  },
  {
   "cell_type": "markdown",
   "id": "206f94ee-a97c-413a-925f-fc68225fd005",
   "metadata": {},
   "source": [
    "A11: print(), len(), type(), input(), range(),sum(), etc"
   ]
  },
  {
   "cell_type": "markdown",
   "id": "3d5c3815-a064-4937-994e-4bec58ab0e82",
   "metadata": {},
   "source": [
    "A12:The maximum possible length of an identifier in Python is 79 characters"
   ]
  },
  {
   "cell_type": "markdown",
   "id": "ce57d50a-f885-47e3-81ea-301062953f22",
   "metadata": {},
   "source": [
    "A13:Readability and Simplicity: Python emphasizes code readability and uses a clean and expressive syntax, making it easier to understand and write code. Its simplicity enables developers to focus on problem-solving rather than getting lost in complex syntax.\n",
    "\n",
    "Wide Range of Applications: Python is a versatile language that can be used for a wide range of applications, including web development, data analysis, machine learning, artificial intelligence, scientific computing, automation, scripting, and more. Its extensive library ecosystem provides tools for almost any task.\n",
    "\n",
    "Large and Active Community: Python has a large and active community of developers, which means you can find plenty of resources, libraries, and frameworks readily available. The community also contributes to the continuous improvement of the language and its ecosystem.\n",
    "\n",
    "Cross-Platform Compatibility: Python is a cross-platform language, meaning you can run Python code on various operating systems, including Windows, macOS, Linux, and more, without requiring significant modifications.\n",
    "\n",
    "Extensive Libraries and Frameworks: Python offers a vast collection of libraries and frameworks, such as NumPy, Pandas, TensorFlow, Django, Flask, and more. These tools provide pre-built functionalities, saving development time and effort.\n",
    "\n",
    "Productivity and Rapid Development: Python's simplicity, readability, and extensive libraries contribute to increased productivity and faster development cycles. Python's focus on code simplicity enables developers to write and debug code more efficiently.\n",
    "\n",
    "Integration Capabilities: Python allows easy integration with other languages, enabling you to leverage existing code or utilize specialized libraries from other languages.\n",
    "\n",
    "Scalability: Python offers scalability options, allowing applications to grow along with the needs of the project. It can handle small scripts, as well as large-scale projects and complex systems.\n",
    "\n",
    "Strong Community Support and Documentation: Python has excellent documentation and a supportive community"
   ]
  },
  {
   "cell_type": "markdown",
   "id": "d4718463-70ac-4d39-9edd-67b50203ebde",
   "metadata": {},
   "source": [
    "A14: Reference Counting , Garbage collection  ,Automatic memory allocation, Memory pools, Memory optimization are some way of memory management in Python"
   ]
  },
  {
   "cell_type": "markdown",
   "id": "4ab2d2d8-ceb0-44b5-89f1-e351f17282eb",
   "metadata": {},
   "source": [
    "A15:Here are the steps to install Python on Windows and set path variables:\n",
    "\n",
    "Download the latest version of Python from the official website .\n",
    "Run the installer and select “Add Python to PATH” option .\n",
    "After installation, open the command prompt and type “python” to check if it is installed correctly .\n",
    "If you get an error message, you may need to add Python to your system’s PATH environment variable"
   ]
  },
  {
   "cell_type": "markdown",
   "id": "3e10020f-2110-45ef-98ef-92bb4fce6425",
   "metadata": {},
   "source": [
    "A16: Yes indentation is required in Python and plays a crucial role in the language's syntax and structure"
   ]
  },
  {
   "cell_type": "code",
   "execution_count": null,
   "id": "e4c9bdf6-368f-41d3-a7ee-6819a117c4d0",
   "metadata": {},
   "outputs": [],
   "source": []
  }
 ],
 "metadata": {
  "kernelspec": {
   "display_name": "Python 3 (ipykernel)",
   "language": "python",
   "name": "python3"
  },
  "language_info": {
   "codemirror_mode": {
    "name": "ipython",
    "version": 3
   },
   "file_extension": ".py",
   "mimetype": "text/x-python",
   "name": "python",
   "nbconvert_exporter": "python",
   "pygments_lexer": "ipython3",
   "version": "3.10.8"
  }
 },
 "nbformat": 4,
 "nbformat_minor": 5
}
