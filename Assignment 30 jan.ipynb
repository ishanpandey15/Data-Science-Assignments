{
 "cells": [
  {
   "cell_type": "markdown",
   "id": "c446266b-bb74-4313-9225-63610e772870",
   "metadata": {},
   "source": [
    "Q1 Sol. "
   ]
  },
  {
   "cell_type": "code",
   "execution_count": 11,
   "id": "b33a8ab5-9130-4237-8268-95fad2490c12",
   "metadata": {},
   "outputs": [
    {
     "name": "stdin",
     "output_type": "stream",
     "text": [
      "Enter the marks you obtained 78\n"
     ]
    },
    {
     "name": "stdout",
     "output_type": "stream",
     "text": [
      "You get C grade\n"
     ]
    }
   ],
   "source": [
    "marks = int(input(\"Enter the marks you obtained\"))\n",
    "if marks >=90:\n",
    "    print(\"You get A grade\")\n",
    "elif marks >= 80 and marks < 90:\n",
    "    print(\"You get B grade\")\n",
    "elif marks >= 60 and marks <80:\n",
    "    print(\"You get C grade\")\n",
    "else:\n",
    "    print(\"You get D grade\")"
   ]
  },
  {
   "cell_type": "markdown",
   "id": "558ad1d7-d111-4175-b99d-16bfe3a28701",
   "metadata": {},
   "source": [
    "Q2 Sol. "
   ]
  },
  {
   "cell_type": "code",
   "execution_count": 14,
   "id": "472bff0b-abb4-44c1-9104-c614dfac985a",
   "metadata": {},
   "outputs": [
    {
     "name": "stdin",
     "output_type": "stream",
     "text": [
      "Enter the price 51000\n"
     ]
    },
    {
     "name": "stdout",
     "output_type": "stream",
     "text": [
      "You have to pay 10% tax\n"
     ]
    }
   ],
   "source": [
    "price = int(input(\"Enter the price\"))\n",
    "\n",
    "if price > 100000:\n",
    "    print(\"You have to pay 15% tax\")\n",
    "elif price > 50000 and price <= 100000:\n",
    "    print(\"You have to pay 10% tax\")\n",
    "else :\n",
    "     print(\"You have to pay 5% tax\")"
   ]
  },
  {
   "cell_type": "markdown",
   "id": "87df529f-f42e-4b4f-89a5-deb4f3179cb3",
   "metadata": {},
   "source": [
    "Q3 Sol."
   ]
  },
  {
   "cell_type": "code",
   "execution_count": 16,
   "id": "8cb96ce3-2a59-4507-9011-17324a483ce4",
   "metadata": {},
   "outputs": [
    {
     "name": "stdin",
     "output_type": "stream",
     "text": [
      "Enter a city:  Delhi\n"
     ]
    },
    {
     "name": "stdout",
     "output_type": "stream",
     "text": [
      "Monuments in Delhi :\n",
      "Red Fort\n",
      "Qutub Minar\n",
      "India Gate\n"
     ]
    }
   ],
   "source": [
    "monuments = {\n",
    "    'Delhi': ['Red Fort', 'Qutub Minar', 'India Gate'],\n",
    "    'Agra': ['Taj Mahal', 'Agra Fort'],\n",
    "    'Jaipur': ['Hawa Mahal', 'Amber Fort', 'Jal Mahal']\n",
    "}\n",
    "\n",
    "city = input(\"Enter a city: \")\n",
    "\n",
    "if city in monuments:\n",
    "    city_monuments = monuments[city]\n",
    "    print(\"Monuments in\", city, \":\")\n",
    "    for monument in city_monuments:\n",
    "        print(monument)\n",
    "else:\n",
    "    print(\"Monuments for\", city, \"are not available.\")\n"
   ]
  },
  {
   "cell_type": "markdown",
   "id": "96c44e9c-71a5-4527-b5cb-0981586b1aa3",
   "metadata": {},
   "source": [
    "4. Check how many times a given number can be divided by 3 before it is less than or equal to 10"
   ]
  },
  {
   "cell_type": "code",
   "execution_count": 17,
   "id": "51bfaac3-0a91-4532-bb34-48121cd74988",
   "metadata": {},
   "outputs": [
    {
     "name": "stdin",
     "output_type": "stream",
     "text": [
      "Enter a number:  45\n"
     ]
    },
    {
     "name": "stdout",
     "output_type": "stream",
     "text": [
      "The given number can be divided by 3 2 times before it is less than or equal to 10.\n"
     ]
    }
   ],
   "source": [
    "number = int(input(\"Enter a number: \"))\n",
    "count = 0\n",
    "\n",
    "while number > 10:\n",
    "    number /= 3\n",
    "    count += 1\n",
    "\n",
    "print(\"The given number can be divided by 3\", count, \"times before it is less than or equal to 10.\")\n"
   ]
  },
  {
   "cell_type": "markdown",
   "id": "e1b60ef8-586a-4049-af97-e149067dd204",
   "metadata": {},
   "source": [
    "5. Why and When to Use while Loop in Python give a detailed description with example "
   ]
  },
  {
   "cell_type": "markdown",
   "id": "9a6a72f9-05bc-48d3-a4af-4fe952498ec8",
   "metadata": {},
   "source": [
    "The while loop in Python is used when you want to repeatedly execute a block of code as long as a certain condition is true. It is a form of iterative control structure that allows you to perform tasks repeatedly until a specified condition is no longer met. The while loop is particularly useful when the number of iterations is not known in advance or when you want to continue iterating until a specific condition is met."
   ]
  },
  {
   "cell_type": "code",
   "execution_count": 18,
   "id": "bf7f40f7-3564-43b3-a442-43e28fe7bc33",
   "metadata": {},
   "outputs": [
    {
     "name": "stdout",
     "output_type": "stream",
     "text": [
      "Count: 0\n",
      "Count: 1\n",
      "Count: 2\n",
      "Count: 3\n",
      "Count: 4\n",
      "Loop ended.\n"
     ]
    }
   ],
   "source": [
    "count = 0\n",
    "\n",
    "while count < 5:\n",
    "    print(\"Count:\", count)\n",
    "    count += 1\n",
    "\n",
    "print(\"Loop ended.\")\n"
   ]
  },
  {
   "cell_type": "markdown",
   "id": "6dbdf9ae-4cf5-4afc-8634-3e9196adadfa",
   "metadata": {},
   "source": [
    "Q6. Use nested while loop to print 3 different pattern. "
   ]
  },
  {
   "cell_type": "code",
   "execution_count": 19,
   "id": "8fd21e2b-a7b8-4dbb-ae54-586c00f6f0f5",
   "metadata": {},
   "outputs": [
    {
     "name": "stdout",
     "output_type": "stream",
     "text": [
      "* * * * * \n",
      "* * * * * \n",
      "* * * * * \n",
      "* * * * * \n",
      "* * * * * \n"
     ]
    }
   ],
   "source": [
    "# Square pattern \n",
    "size = 5\n",
    "row = 1\n",
    "\n",
    "while row <= size:\n",
    "    column = 1\n",
    "    while column <= size:\n",
    "        print(\"*\", end=\" \")\n",
    "        column += 1\n",
    "    print()\n",
    "    row += 1"
   ]
  },
  {
   "cell_type": "code",
   "execution_count": 20,
   "id": "5b6c3000-2dd1-44eb-b2ca-819425729479",
   "metadata": {},
   "outputs": [
    {
     "name": "stdout",
     "output_type": "stream",
     "text": [
      "* \n",
      "* * \n",
      "* * * \n",
      "* * * * \n",
      "* * * * * \n"
     ]
    }
   ],
   "source": [
    "# Right triangle pattern \n",
    "size = 5\n",
    "row = 1\n",
    "\n",
    "while row <= size:\n",
    "    column = 1\n",
    "    while column <= row:\n",
    "        print(\"*\", end=\" \")\n",
    "        column += 1\n",
    "    print()\n",
    "    row += 1\n"
   ]
  },
  {
   "cell_type": "code",
   "execution_count": 21,
   "id": "e15905a8-7b75-4289-90ec-73c042cc0812",
   "metadata": {},
   "outputs": [
    {
     "name": "stdout",
     "output_type": "stream",
     "text": [
      "        * \n",
      "      * * \n",
      "    * * * \n",
      "  * * * * \n",
      "* * * * * \n"
     ]
    }
   ],
   "source": [
    "# Pyramid pattern\n",
    "size = 5\n",
    "row = 1\n",
    "\n",
    "while row <= size:\n",
    "    space = size - row\n",
    "    while space > 0:\n",
    "        print(\" \", end=\" \")\n",
    "        space -= 1\n",
    "\n",
    "    star = 1\n",
    "    while star <= row:\n",
    "        print(\"*\", end=\" \")\n",
    "        star += 1\n",
    "\n",
    "    print()\n",
    "    row += 1"
   ]
  },
  {
   "cell_type": "code",
   "execution_count": null,
   "id": "83114f04-f37e-458e-a0ac-55ca38dc7b11",
   "metadata": {},
   "outputs": [],
   "source": [
    "Q7/Q8 = sa"
   ]
  }
 ],
 "metadata": {
  "kernelspec": {
   "display_name": "Python 3 (ipykernel)",
   "language": "python",
   "name": "python3"
  },
  "language_info": {
   "codemirror_mode": {
    "name": "ipython",
    "version": 3
   },
   "file_extension": ".py",
   "mimetype": "text/x-python",
   "name": "python",
   "nbconvert_exporter": "python",
   "pygments_lexer": "ipython3",
   "version": "3.10.8"
  }
 },
 "nbformat": 4,
 "nbformat_minor": 5
}
