{
 "cells": [
  {
   "cell_type": "markdown",
   "id": "beff6a15-d57f-41d2-b83f-20ee063f15cd",
   "metadata": {},
   "source": [
    "Q1. Create a Pandas Series that contains the following data: 4, 8, 15, 16, 23, and 42. Then, print the series."
   ]
  },
  {
   "cell_type": "code",
   "execution_count": 1,
   "id": "ec3e5872-4dc2-40e1-8662-13e5340b7517",
   "metadata": {},
   "outputs": [],
   "source": [
    "import pandas as pd"
   ]
  },
  {
   "cell_type": "code",
   "execution_count": 4,
   "id": "cc8a42f1-4dd8-4354-bc27-c72d36be9f2f",
   "metadata": {},
   "outputs": [],
   "source": [
    "d = [4,8,15,16,23,42]\n",
    "s = pd.Series(d)"
   ]
  },
  {
   "cell_type": "code",
   "execution_count": 5,
   "id": "889cc355-d5bc-4521-a949-8dca9b0b9192",
   "metadata": {},
   "outputs": [
    {
     "data": {
      "text/plain": [
       "0     4\n",
       "1     8\n",
       "2    15\n",
       "3    16\n",
       "4    23\n",
       "5    42\n",
       "dtype: int64"
      ]
     },
     "execution_count": 5,
     "metadata": {},
     "output_type": "execute_result"
    }
   ],
   "source": [
    "s"
   ]
  },
  {
   "cell_type": "markdown",
   "id": "e699b843-cbd1-430b-9133-c8c9ed97ad34",
   "metadata": {},
   "source": [
    "Q2. Create a variable of list type containing 10 elements in it, and apply pandas.Series function on the\n",
    "variable print it."
   ]
  },
  {
   "cell_type": "code",
   "execution_count": 8,
   "id": "882c1525-5c67-4e97-895e-d93f5ae814f1",
   "metadata": {},
   "outputs": [],
   "source": [
    "l = [1,2,3,4,5,6,7,8,9,10]\n",
    "s = pd.Series(l)"
   ]
  },
  {
   "cell_type": "code",
   "execution_count": 9,
   "id": "85197ad4-393e-4df7-9320-c739300724a9",
   "metadata": {},
   "outputs": [
    {
     "data": {
      "text/plain": [
       "0     1\n",
       "1     2\n",
       "2     3\n",
       "3     4\n",
       "4     5\n",
       "5     6\n",
       "6     7\n",
       "7     8\n",
       "8     9\n",
       "9    10\n",
       "dtype: int64"
      ]
     },
     "execution_count": 9,
     "metadata": {},
     "output_type": "execute_result"
    }
   ],
   "source": [
    "s"
   ]
  },
  {
   "cell_type": "markdown",
   "id": "7bfa0cc5-17d3-4a05-bcab-1371fd77481f",
   "metadata": {},
   "source": [
    "Q3. Create a Pandas DataFrame that contains the following data:\n",
    "\n",
    "Then, print the DataFrame."
   ]
  },
  {
   "cell_type": "code",
   "execution_count": 10,
   "id": "2454f379-d9f3-47bc-b04d-f13ddfc46421",
   "metadata": {},
   "outputs": [],
   "source": [
    "data = {'Name' : ('alice','bob','claire'),\n",
    "       'age':(25,30,27),\n",
    "       'gender' : ('female','male','female')}"
   ]
  },
  {
   "cell_type": "code",
   "execution_count": 11,
   "id": "36201bc1-1ec5-46e5-89c6-27a7d02c9ec9",
   "metadata": {},
   "outputs": [],
   "source": [
    "df = pd.DataFrame(data)"
   ]
  },
  {
   "cell_type": "code",
   "execution_count": 12,
   "id": "e4f9d500-b340-4a0d-8d05-de4d099179a3",
   "metadata": {},
   "outputs": [
    {
     "data": {
      "text/html": [
       "<div>\n",
       "<style scoped>\n",
       "    .dataframe tbody tr th:only-of-type {\n",
       "        vertical-align: middle;\n",
       "    }\n",
       "\n",
       "    .dataframe tbody tr th {\n",
       "        vertical-align: top;\n",
       "    }\n",
       "\n",
       "    .dataframe thead th {\n",
       "        text-align: right;\n",
       "    }\n",
       "</style>\n",
       "<table border=\"1\" class=\"dataframe\">\n",
       "  <thead>\n",
       "    <tr style=\"text-align: right;\">\n",
       "      <th></th>\n",
       "      <th>Name</th>\n",
       "      <th>age</th>\n",
       "      <th>gender</th>\n",
       "    </tr>\n",
       "  </thead>\n",
       "  <tbody>\n",
       "    <tr>\n",
       "      <th>0</th>\n",
       "      <td>alice</td>\n",
       "      <td>25</td>\n",
       "      <td>female</td>\n",
       "    </tr>\n",
       "    <tr>\n",
       "      <th>1</th>\n",
       "      <td>bob</td>\n",
       "      <td>30</td>\n",
       "      <td>male</td>\n",
       "    </tr>\n",
       "    <tr>\n",
       "      <th>2</th>\n",
       "      <td>claire</td>\n",
       "      <td>27</td>\n",
       "      <td>female</td>\n",
       "    </tr>\n",
       "  </tbody>\n",
       "</table>\n",
       "</div>"
      ],
      "text/plain": [
       "     Name  age  gender\n",
       "0   alice   25  female\n",
       "1     bob   30    male\n",
       "2  claire   27  female"
      ]
     },
     "execution_count": 12,
     "metadata": {},
     "output_type": "execute_result"
    }
   ],
   "source": [
    "df"
   ]
  },
  {
   "cell_type": "markdown",
   "id": "f89b154c-2b98-4cda-b156-6ff96738f226",
   "metadata": {},
   "source": [
    "Q4. What is ‘DataFrame’ in pandas and how is it different from pandas.series? Explain with an example."
   ]
  },
  {
   "cell_type": "markdown",
   "id": "d4dca463-064b-47d0-81ff-26c4062f4582",
   "metadata": {},
   "source": [
    "In pandas, a DataFrame is a 2-dimensional labeled data structure that can store data of different types (e.g., integers, strings, floats) in columns. It is similar to a table or a spreadsheet, where each column represents a variable, and each row represents an observation. The DataFrame provides a powerful and flexible way to manipulate and analyze data.\n",
    "\n",
    "On the other hand, a Series is a one-dimensional labeled array that can hold data of any type. It can be seen as a single column of a DataFrame. Each element in a Series is assigned a unique index label, which allows for easy and efficient data access and manipulation."
   ]
  },
  {
   "cell_type": "code",
   "execution_count": 13,
   "id": "be48497a-e81a-48ed-884a-8bed8bb9c217",
   "metadata": {},
   "outputs": [
    {
     "name": "stdout",
     "output_type": "stream",
     "text": [
      "Series:\n",
      "0     4\n",
      "1     8\n",
      "2    15\n",
      "3    16\n",
      "4    23\n",
      "5    42\n",
      "dtype: int64\n",
      "\n",
      "DataFrame:\n",
      "      Name  Age      City\n",
      "0    Alice   25  New York\n",
      "1      Bob   30    London\n",
      "2  Charlie   35     Paris\n",
      "3     Dave   40     Tokyo\n"
     ]
    }
   ],
   "source": [
    "# Creating a Series\n",
    "series = pd.Series([4, 8, 15, 16, 23, 42])\n",
    "print(\"Series:\")\n",
    "print(series)\n",
    "print()\n",
    "\n",
    "# Creating a DataFrame\n",
    "data = {'Name': ['Alice', 'Bob', 'Charlie', 'Dave'],\n",
    "        'Age': [25, 30, 35, 40],\n",
    "        'City': ['New York', 'London', 'Paris', 'Tokyo']}\n",
    "df = pd.DataFrame(data)\n",
    "print(\"DataFrame:\")\n",
    "print(df)"
   ]
  },
  {
   "cell_type": "markdown",
   "id": "89c14e65-2988-46fe-a2d5-c182b86ce6de",
   "metadata": {},
   "source": [
    "Q5. What are some common functions you can use to manipulate data in a Pandas DataFrame? Can\n",
    "you give an example of when you might use one of these functions?"
   ]
  },
  {
   "cell_type": "markdown",
   "id": "18bac84b-30ed-4ac8-aebe-531601f9e947",
   "metadata": {},
   "source": [
    "Pandas provides a wide range of functions to manipulate and transform data in a DataFrame. Here are some commonly used functions:\n",
    "\n",
    "head() and tail(): These functions allow you to view the first few rows (head()) or the last few rows (tail()) of a DataFrame. They are useful for quickly inspecting the structure and contents of a DataFrame.\n",
    "\n",
    "info(): This function provides a summary of the DataFrame, including the number of non-null values, data types of columns, and memory usage. It is helpful for understanding the data types and identifying missing values.\n",
    "\n",
    "describe(): This function generates descriptive statistics of the DataFrame, such as count, mean, standard deviation, minimum, maximum, and quartiles, for each numeric column. It provides a quick overview of the distribution of the data.\n",
    "\n",
    "shape: This attribute returns a tuple representing the dimensions (rows, columns) of the DataFrame. It is useful for checking the size of the DataFrame.\n",
    "\n",
    "unique(): This function returns the unique values present in a column of the DataFrame. It can be used to identify the distinct categories or classes in a categorical column.\n",
    "\n",
    "value_counts(): This function counts the occurrences of unique values in a column and returns the result as a Series. It helps in understanding the distribution of categorical data.\n",
    "\n",
    "sort_values(): This function sorts the DataFrame based on one or more columns. It is handy for arranging the data in ascending or descending order, which can be useful for analysis or presentation purposes.\n",
    "\n",
    "groupby(): This function allows you to group the data based on one or more columns and perform aggregate operations on the grouped data. It is useful for computing statistics or applying functions to specific groups within the data."
   ]
  },
  {
   "cell_type": "markdown",
   "id": "a53ce6df-6897-4228-b4b3-6f82111e4e34",
   "metadata": {},
   "source": [
    "Q6. Which of the following is mutable in nature Series, DataFrame, Panel?"
   ]
  },
  {
   "cell_type": "markdown",
   "id": "68d8f601-4641-4a04-b671-8f31e5c45050",
   "metadata": {},
   "source": [
    "In pandas, both Series and DataFrame are mutable in nature, while Panel is not.\n",
    "\n",
    "Series: A Series is mutable, meaning you can modify its values, add or remove elements, and update its index labels. You can change specific values within a Series by assigning new values to them.\n",
    "\n",
    "DataFrame: Similar to a Series, a DataFrame is also mutable. You can modify the values in its columns, add or remove columns, and update the index and column labels. You can change values within a DataFrame by accessing specific cells, rows, or columns and assigning new values to them.\n",
    "\n",
    "Panel: In contrast, a Panel is not mutable. It is a 3-dimensional data structure that can hold multiple DataFrames. However, since pandas version 0.20.0, Panels have been deprecated, and it is recommended to use other data structures like MultiIndex DataFrames or xarray instead.\n",
    "\n",
    "So, to summarize, Series and DataFrame are mutable in pandas, while Panel is not recommended for use and is not mutable."
   ]
  },
  {
   "cell_type": "markdown",
   "id": "617b867d-ad19-4be3-a001-b06248cadaaa",
   "metadata": {},
   "source": [
    "Q7. Create a DataFrame using multiple Series. Explain with an example."
   ]
  },
  {
   "cell_type": "code",
   "execution_count": 14,
   "id": "1efe2014-0908-47ae-b2b3-8b24fa9c20e5",
   "metadata": {},
   "outputs": [
    {
     "name": "stdout",
     "output_type": "stream",
     "text": [
      "      Name  Age      City\n",
      "0    Alice   25  New York\n",
      "1      Bob   30    London\n",
      "2  Charlie   35     Paris\n"
     ]
    }
   ],
   "source": [
    "name_series = pd.Series(['Alice', 'Bob', 'Charlie'])\n",
    "age_series = pd.Series([25, 30, 35])\n",
    "city_series = pd.Series(['New York', 'London', 'Paris'])\n",
    "\n",
    "# Creating a DataFrame from the Series\n",
    "data = {'Name': name_series, 'Age': age_series, 'City': city_series}\n",
    "df = pd.DataFrame(data)\n",
    "\n",
    "print(df)"
   ]
  }
 ],
 "metadata": {
  "kernelspec": {
   "display_name": "Python 3 (ipykernel)",
   "language": "python",
   "name": "python3"
  },
  "language_info": {
   "codemirror_mode": {
    "name": "ipython",
    "version": 3
   },
   "file_extension": ".py",
   "mimetype": "text/x-python",
   "name": "python",
   "nbconvert_exporter": "python",
   "pygments_lexer": "ipython3",
   "version": "3.10.8"
  }
 },
 "nbformat": 4,
 "nbformat_minor": 5
}
