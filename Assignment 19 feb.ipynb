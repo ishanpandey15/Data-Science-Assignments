{
 "cells": [
  {
   "cell_type": "markdown",
   "id": "0df843ea-c998-4aea-bf45-d1e821f59193",
   "metadata": {},
   "source": [
    "Q1. What is Flask Framework? What are the advantages of Flask Framework?"
   ]
  },
  {
   "cell_type": "markdown",
   "id": "37cc35da-0f08-4edb-8318-c2f5d6a248f2",
   "metadata": {},
   "source": [
    "Flask is a lightweight web framework written in Python. It is designed to be simple and easy to use, making it a popular choice for developing web applications and APIs. Flask follows the Model-View-Controller (MVC) architectural pattern, although it is flexible enough to allow developers to use other patterns as well.\n",
    "\n",
    "Here are some advantages of using the Flask framework:\n",
    "\n",
    "Lightweight and easy to get started: Flask has a minimalistic core and only includes the essential features needed for web development. It does not impose any restrictions or dependencies on the developer, making it easy to get started with a basic application.\n",
    "\n",
    "Flexibility: Flask provides a flexible framework that allows developers to choose and integrate different components as per their requirements. It does not enforce any specific choices for databases, templating engines, or other components, giving developers the freedom to use the tools they prefer.\n",
    "\n",
    "Extensibility: Flask is highly extensible and supports various extensions and libraries that can be easily integrated into applications. There is a wide range of Flask extensions available for tasks such as form validation, database integration, authentication, and more. These extensions help developers save time and effort by providing pre-built functionality.\n",
    "\n",
    "Scalability: Flask can scale with the application's requirements. It does not impose any specific structure or architecture, allowing developers to organize their code in a way that best suits their application. This flexibility makes it easier to scale Flask applications as needed."
   ]
  },
  {
   "cell_type": "markdown",
   "id": "8e749606-d9a7-4fff-9a2c-016c1eb93eb7",
   "metadata": {},
   "source": [
    "Q2. Create a simple Flask application to display ‘Hello World!!’. Attach the screenshot of the output in\n",
    "Jupyter Notebook."
   ]
  },
  {
   "cell_type": "code",
   "execution_count": 1,
   "id": "5015465d-9cfa-40fd-8f3d-0a0088614e3e",
   "metadata": {},
   "outputs": [
    {
     "name": "stdout",
     "output_type": "stream",
     "text": [
      "Requirement already satisfied: Flask in /opt/conda/lib/python3.10/site-packages (2.3.2)\n",
      "Requirement already satisfied: Jinja2>=3.1.2 in /opt/conda/lib/python3.10/site-packages (from Flask) (3.1.2)\n",
      "Requirement already satisfied: Werkzeug>=2.3.3 in /opt/conda/lib/python3.10/site-packages (from Flask) (2.3.6)\n",
      "Requirement already satisfied: itsdangerous>=2.1.2 in /opt/conda/lib/python3.10/site-packages (from Flask) (2.1.2)\n",
      "Requirement already satisfied: blinker>=1.6.2 in /opt/conda/lib/python3.10/site-packages (from Flask) (1.6.2)\n",
      "Requirement already satisfied: click>=8.1.3 in /opt/conda/lib/python3.10/site-packages (from Flask) (8.1.3)\n",
      "Requirement already satisfied: MarkupSafe>=2.0 in /opt/conda/lib/python3.10/site-packages (from Jinja2>=3.1.2->Flask) (2.1.1)\n",
      "Note: you may need to restart the kernel to use updated packages.\n"
     ]
    }
   ],
   "source": [
    "pip install Flask"
   ]
  },
  {
   "cell_type": "code",
   "execution_count": 2,
   "id": "9a64cffe-2154-44d6-ad57-2e80d46f3d7d",
   "metadata": {},
   "outputs": [
    {
     "name": "stdout",
     "output_type": "stream",
     "text": [
      " * Serving Flask app '__main__'\n",
      " * Debug mode: off\n"
     ]
    },
    {
     "name": "stderr",
     "output_type": "stream",
     "text": [
      "WARNING: This is a development server. Do not use it in a production deployment. Use a production WSGI server instead.\n",
      " * Running on all addresses (0.0.0.0)\n",
      " * Running on http://127.0.0.1:5000\n",
      " * Running on http://172.18.0.28:5000\n",
      "Press CTRL+C to quit\n",
      "172.18.0.2 - - [02/Jul/2023 15:02:51] \"GET / HTTP/1.1\" 200 -\n",
      "172.18.0.2 - - [02/Jul/2023 15:02:51] \"GET /favicon.ico HTTP/1.1\" 404 -\n"
     ]
    }
   ],
   "source": [
    "from flask import Flask\n",
    "from flask import request\n",
    "\n",
    "app = Flask(__name__)\n",
    "\n",
    "@app.route(\"/\")\n",
    "def hello_world():\n",
    "    return \"<h1>Hello, World!</h1>\"\n",
    "if __name__==\"__main__\":\n",
    "    app.run(host=\"0.0.0.0\")\n"
   ]
  },
  {
   "cell_type": "raw",
   "id": "bde79fe5-b0ef-40b1-8775-c725c78960a6",
   "metadata": {},
   "source": [
    "https://yellow-actor-gjuke.pwskills.app/files/work/Screenshot%202023-07-02%20203315.png?_xsrf=2%7C1e499cf7%7Ccee6704ae3ff00424054b39fdaa90959%7C1687849168"
   ]
  },
  {
   "cell_type": "markdown",
   "id": "a6f162e2-ee64-4c95-adaa-d06ef639df12",
   "metadata": {},
   "source": [
    "Q3. What is App routing in Flask? Why do we use app routes?"
   ]
  },
  {
   "cell_type": "markdown",
   "id": "c424284a-0a1c-41dc-ab01-064f68794162",
   "metadata": {},
   "source": [
    "In Flask, app routing refers to the process of mapping URLs (Uniform Resource Locators) to specific functions or view handlers in your application. It allows you to define the routes or endpoints that a user can access and the corresponding actions that should be taken when those routes are requested.\n",
    "\n",
    "Routes are defined using the @app.route() decorator in Flask. This decorator is applied to a function, and it specifies the URL pattern that should trigger the execution of that function.\n",
    "\n",
    "\n",
    "App routing is essential in Flask for the following reasons:\n",
    "\n",
    "URL mapping: Routing allows you to define the URLs and their corresponding handlers in your application. This enables users to access different pages or functionalities based on the specific URL they request.\n",
    "\n",
    "Request handling: When a user requests a particular URL, Flask's routing mechanism determines which function should handle that request. This allows you to define different functions or view handlers to handle different URLs or actions in your application.\n",
    "\n",
    "RESTful APIs: Flask's routing is particularly useful for building RESTful APIs. Each route can be associated with a specific HTTP method (GET, POST, PUT, DELETE, etc.), and the appropriate function can be triggered based on the requested method and URL. This helps in creating a clean and organized API structure.\n",
    "\n",
    "Dynamic routing: Flask supports dynamic routing, where URLs can include variable parts. These variables can be extracted from the URL and passed as arguments to the corresponding view handler function. This allows you to create flexible routes that can handle different variations of URLs."
   ]
  },
  {
   "cell_type": "markdown",
   "id": "13706e13-7a7a-4f75-8167-43433221348c",
   "metadata": {},
   "source": [
    "Q4. Create a “/welcome” route to display the welcome message “Welcome to ABC Corporation” and a “/”\n",
    "route to show the following details:\n",
    "Company Name: ABC Corporation\n",
    "Location: India\n",
    "Contact Detail: 999-999-9999"
   ]
  },
  {
   "cell_type": "code",
   "execution_count": 1,
   "id": "73295063-1d02-4829-921d-cda1efe2b008",
   "metadata": {},
   "outputs": [
    {
     "name": "stdout",
     "output_type": "stream",
     "text": [
      " * Serving Flask app '__main__'\n",
      " * Debug mode: off\n"
     ]
    },
    {
     "name": "stderr",
     "output_type": "stream",
     "text": [
      "WARNING: This is a development server. Do not use it in a production deployment. Use a production WSGI server instead.\n",
      " * Running on all addresses (0.0.0.0)\n",
      " * Running on http://127.0.0.1:5000\n",
      " * Running on http://172.18.0.28:5000\n",
      "Press CTRL+C to quit\n",
      "172.18.0.2 - - [02/Jul/2023 15:12:38] \"GET /welcome HTTP/1.1\" 200 -\n",
      "172.18.0.2 - - [02/Jul/2023 15:12:39] \"GET /welcome HTTP/1.1\" 200 -\n",
      "172.18.0.2 - - [02/Jul/2023 15:12:47] \"GET /welcome HTTP/1.1\" 200 -\n",
      "172.18.0.2 - - [02/Jul/2023 15:12:48] \"GET /welcome HTTP/1.1\" 200 -\n"
     ]
    }
   ],
   "source": [
    "from flask import Flask\n",
    "from flask import request\n",
    "\n",
    "app = Flask(__name__)\n",
    "\n",
    "\n",
    "@app.route(\"/welcome\")\n",
    "def welcome():\n",
    "    return \"company name : ABC Corporation\"\n",
    "\n",
    "\n",
    "\n",
    "@app.route(\"/\")\n",
    "def details():\n",
    "    company_name = 'ABC Corporation'\n",
    "    location = 'India'\n",
    "    contact_detail = '999-999-9999'\n",
    "    return '''\n",
    "    Company Name: {company_name}\n",
    "    Location: {location}\n",
    "    Contact Detail: {contact_detail}\n",
    "    '''\n",
    "\n",
    "\n",
    "if __name__==\"__main__\":\n",
    "    app.run(host=\"0.0.0.0\")\n"
   ]
  },
  {
   "cell_type": "markdown",
   "id": "f053daaf-d04d-4c5c-aa33-5c066b01ce48",
   "metadata": {},
   "source": [
    "Q5. What function is used in Flask for URL Building? Write a Python code to demonstrate the working of the\n",
    "url_for() function."
   ]
  },
  {
   "cell_type": "markdown",
   "id": "dab222c2-135f-47a6-998c-997f2e84769b",
   "metadata": {},
   "source": [
    "n Flask, the url_for() function is used for URL building. It generates a URL for a specified endpoint, taking into account any route parameters or query parameters that need to be included.\n",
    "\n",
    "Here's an example code snippet to demonstrate the working of the url_for() function:\n",
    "\n",
    "python\n",
    "Copy code\n",
    "from flask import Flask, url_for\n",
    "\n",
    "app = Flask(__name__)\n",
    "\n",
    "@app.route('/welcome/<name>')\n",
    "def welcome(name):\n",
    "    return f'Welcome, {name}!'\n",
    "\n",
    "@app.route('/user/profile')\n",
    "def profile():\n",
    "    return 'User Profile Page'\n",
    "\n",
    "if __name__ == '__main__':\n",
    "    with app.test_request_context():\n",
    "        # Example usage of url_for() function\n",
    "        welcome_url = url_for('welcome', name='John')\n",
    "        profile_url = url_for('profile')\n",
    "\n",
    "        print(f'URL for welcome(): {welcome_url}')\n",
    "        print(f'URL for profile(): {profile_url}')\n",
    "In the above code, we have defined two routes: /welcome/<name> and /user/profile. The welcome() function takes a name parameter and displays a welcome message, while the profile() function displays a user profile page.\n",
    "\n",
    "Inside the if __name__ == '__main__' block, we use app.test_request_context() to create a context for testing the request. Within this context, we can use the url_for() function to generate URLs for the specified endpoints."
   ]
  },
  {
   "cell_type": "code",
   "execution_count": null,
   "id": "6f34cb27-d96c-4b8a-9a05-a2a3f7493f37",
   "metadata": {},
   "outputs": [],
   "source": []
  }
 ],
 "metadata": {
  "kernelspec": {
   "display_name": "Python 3 (ipykernel)",
   "language": "python",
   "name": "python3"
  },
  "language_info": {
   "codemirror_mode": {
    "name": "ipython",
    "version": 3
   },
   "file_extension": ".py",
   "mimetype": "text/x-python",
   "name": "python",
   "nbconvert_exporter": "python",
   "pygments_lexer": "ipython3",
   "version": "3.10.8"
  }
 },
 "nbformat": 4,
 "nbformat_minor": 5
}
