{
 "cells": [
  {
   "cell_type": "markdown",
   "id": "07f43c82-b0db-4315-8d36-53075ba7ac8f",
   "metadata": {},
   "source": [
    "Q1. What is MongoDB? Explain non-relational databases in short. In which scenarios it is preferred to use\n",
    "MongoDB over SQL databases?"
   ]
  },
  {
   "cell_type": "markdown",
   "id": "e4d4d263-885a-46db-8f3d-a737dc882e4f",
   "metadata": {},
   "source": [
    "MongoDB is a popular document-oriented NoSQL database management system. NoSQL stands for \"not only SQL\" and refers to a category of databases that differ from traditional, relational databases. Here's a brief explanation of non-relational databases:\n",
    "\n",
    "Non-relational databases, also known as NoSQL databases, are designed to store and retrieve large volumes of data with flexible and scalable schemas. Unlike relational databases that organize data into tables with predefined schemas, non-relational databases use various data models, such as key-value, document, columnar, or graph, to structure and store data.\n",
    "\n",
    "\n",
    "MongoDB is often preferred over SQL databases in the following scenarios:\n",
    "\n",
    "Flexible and evolving schemas: If your application deals with data that doesn't have a fixed or predefined structure, MongoDB's flexible document model can be advantageous. It allows you to store and query data without needing to define a rigid schema upfront, making it easier to handle evolving or dynamic data.\n",
    "\n",
    "Large-scale, high-volume applications: MongoDB's horizontal scaling capabilities make it well-suited for handling massive amounts of data and high traffic loads. It can distribute data across multiple servers or clusters, allowing for seamless scalability and accommodating the needs of growing applications.\n",
    "\n",
    "Agile development and iteration: MongoDB's schema-less nature and flexible document model make it a good choice for agile development practices. It allows developers to iterate quickly and modify the data model on the fly, without the need for extensive schema migrations or downtime during development cycles.\n",
    "\n",
    "Real-time analytics and reporting: MongoDB's rich query language and support for aggregations make it well-suited for real-time analytics and reporting. It provides powerful features like MapReduce and aggregation pipelines, which enable complex data analysis and transformations."
   ]
  },
  {
   "cell_type": "markdown",
   "id": "c154732e-d5e6-4d0b-b66c-9c796c33f101",
   "metadata": {},
   "source": [
    "Q2. State and Explain the features of MongoDB."
   ]
  },
  {
   "cell_type": "markdown",
   "id": "eb514fdf-8e49-4247-9aa0-8ecb8d3c6fde",
   "metadata": {},
   "source": [
    "MongoDB offers several key features that make it a popular choice for developers and applications. Here are some of the main features of MongoDB:\n",
    "\n",
    "Document-oriented: MongoDB is a document-oriented database, which means it stores data in flexible, self-describing documents using a format called BSON (Binary JSON). Documents can contain complex structures, nested fields, and arrays, making it easy to represent and store data as objects similar to those used in application code.\n",
    "\n",
    "Flexible Schema: MongoDB has a flexible schema design that allows documents within a collection to have different structures. This schema flexibility enables developers to iterate and modify the data model easily without needing to perform extensive migrations. It also accommodates dynamic and evolving data requirements.\n",
    "\n",
    "Scalability and High Performance: MongoDB is designed for scalability, both vertically and horizontally. It can handle large amounts of data and high traffic loads by scaling horizontally across multiple servers or clusters. MongoDB's built-in sharding feature allows for automatic data distribution and load balancing, ensuring performance as the dataset grows.\n",
    "\n",
    "Rich Query Language: MongoDB provides a powerful and expressive query language that supports a wide range of queries, including CRUD operations (Create, Read, Update, Delete) as well as complex aggregations and transformations. The query language allows for querying documents based on various criteria, such as field values, ranges, text search, and geospatial data.\n",
    "\n",
    "Indexing and Full-Text Search: MongoDB supports efficient indexing, which improves query performance by creating indexes on document fields. It allows for the creation of indexes on single fields, compound indexes, and multi-key indexes. Additionally, MongoDB provides a full-text search feature that enables text-based search queries across large collections of documents.\n",
    "\n",
    "Replication and High Availability: MongoDB offers built-in replication capabilities, allowing data to be replicated across multiple nodes. Replication provides fault tolerance and high availability, ensuring that the database remains operational even in the event of hardware failures or network issues. It also supports automatic failover and recovery.\n",
    "\n",
    "Ad Hoc Queries and Aggregations: MongoDB's query language and aggregation framework provide powerful tools for performing ad hoc queries and aggregations on the data. Developers can construct complex queries and aggregations, including grouping, filtering, sorting, and transforming data, without the need for additional middleware or external tools.\n",
    "\n",
    "Geospatial and Real-time Data Processing: MongoDB has extensive support for geospatial data and provides specialized query operators and indexes for geospatial queries. This makes it well-suited for applications that require location-based services or spatial analysis. MongoDB also offers features like change streams, which allow real-time data processing and reactive event-driven applications.\n",
    "\n",
    "These features, among others, contribute to MongoDB's popularity as a flexible, scalable, and high-performance database solution for modern applications."
   ]
  },
  {
   "cell_type": "markdown",
   "id": "d459e9e3-9fe3-4084-b780-3158f478e47f",
   "metadata": {},
   "source": [
    "Q3. Write a code to connect MongoDB to Python. Also, create a database and a collection in MongoDB."
   ]
  },
  {
   "cell_type": "markdown",
   "id": "7b01b21c-682b-437d-a809-11b70c723b31",
   "metadata": {
    "jp-MarkdownHeadingCollapsed": true,
    "tags": []
   },
   "source": [
    "import pymongo\n",
    "\n",
    " Connect to MongoDB\n",
    "client = pymongo.MongoClient(\"mongodb://localhost:27017/\")\n",
    "\n",
    " Create a database\n",
    "database = client[\"mydatabase\"]\n",
    "\n",
    " Create a collection\n",
    "collection = database[\"mycollection\"]\n",
    "\n",
    " Insert a document into the collection\n",
    "document = {\"name\": \"John\", \"age\": 30}\n",
    "collection.insert_one(document)\n",
    "\n",
    " Print the inserted document's ID\n",
    "print(\"Inserted document ID:\", document[\"_id\"])\n"
   ]
  },
  {
   "cell_type": "markdown",
   "id": "c417dff7-9927-4524-b689-1878613484a4",
   "metadata": {},
   "source": [
    "Q4. Using the database and the collection created in question number 3, write a code to insert one record,\n",
    "and insert many records. Use the find() and find_one() methods to print the inserted record."
   ]
  },
  {
   "cell_type": "markdown",
   "id": "7701af44-f711-490a-882b-c1e4b8d2a191",
   "metadata": {},
   "source": [
    "import pymongo\n",
    "\n",
    " Connect to MongoDB\n",
    "client = pymongo.MongoClient(\"mongodb://localhost:27017/\")\n",
    "\n",
    " Access the database and collection\n",
    "database = client[\"mydatabase\"]\n",
    "collection = database[\"mycollection\"]\n",
    "\n",
    " Insert one record\n",
    "document_one = {\"name\": \"Alice\", \"age\": 25}\n",
    "result = collection.insert_one(document_one)\n",
    "print(\"Inserted record ID:\", result.inserted_id)\n",
    "\n",
    " Insert multiple records\n",
    "documents_many = [\n",
    "    {\"name\": \"Bob\", \"age\": 28},\n",
    "    {\"name\": \"Charlie\", \"age\": 32},\n",
    "    {\"name\": \"David\", \"age\": 27}\n",
    "]\n",
    "result = collection.insert_many(documents_many)\n",
    "print(\"Inserted record IDs:\", result.inserted_ids)\n",
    "\n",
    " Find and print the inserted records\n",
    "print(\"All records:\")\n",
    "for record in collection.find():\n",
    "    print(record)\n",
    "\n",
    "print(\"One record:\")\n",
    "one_record = collection.find_one()\n",
    "print(one_record)\n"
   ]
  },
  {
   "cell_type": "markdown",
   "id": "6d805847-364a-477f-9ee7-4e0d09904569",
   "metadata": {},
   "source": [
    "Q5. Explain how you can use the find() method to query the MongoDB database. Write a simple code to\n",
    "demonstrate this."
   ]
  },
  {
   "cell_type": "markdown",
   "id": "916fddd6-ce1e-4102-a0aa-305e8b20c12b",
   "metadata": {
    "tags": []
   },
   "source": [
    "import pymongo\n",
    "\n",
    " Connect to MongoDB\n",
    "client = pymongo.MongoClient(\"mongodb://localhost:27017/\")\n",
    "\n",
    " Access the database and collection\n",
    "database = client[\"mydatabase\"]\n",
    "collection = database[\"mycollection\"]\n",
    "\n",
    " Insert some example documents\n",
    "documents = [\n",
    "    {\"name\": \"Alice\", \"age\": 25},\n",
    "    {\"name\": \"Bob\", \"age\": 28},\n",
    "    {\"name\": \"Charlie\", \"age\": 32},\n",
    "    {\"name\": \"David\", \"age\": 27},\n",
    "]\n",
    "collection.insert_many(documents)\n",
    "\n",
    " Perform a find query with a filter\n",
    "query = {\"age\": {\"$gt\": 26}}  # Find documents with age greater than 26\n",
    "cursor = collection.find(query)\n",
    "\n",
    " Iterate over the cursor and print the matching documents\n",
    "for document in cursor:\n",
    "    print(document)\n"
   ]
  },
  {
   "cell_type": "markdown",
   "id": "3f2c44b7-1330-485d-a620-226302a37772",
   "metadata": {},
   "source": [
    "Q6. Explain the sort() method. Give an example to demonstrate sorting in MongoDB."
   ]
  },
  {
   "cell_type": "markdown",
   "id": "46c2c54d-ae39-4a3d-995e-1e19541d12aa",
   "metadata": {},
   "source": [
    "The sort() method in MongoDB is used to sort the documents in a collection based on one or more fields. It allows you to specify the sorting order, whether in ascending (1) or descending (-1) order, for each field. The sort() method modifies the order in which the documents are returned in the result set.\n",
    "\n",
    "Here's an explanation of how you can use the sort() method and an example to demonstrate sorting in MongoDB:\n",
    "\n",
    "To use the sort() method:\n",
    "\n",
    "Access the desired collection on which you want to perform the sort.\n",
    "\n",
    "Call the sort() method on the collection object and pass a document specifying the field(s) to sort on and their corresponding sorting order.\n",
    "\n",
    "Use the field name(s) as the keys in the document and specify the sorting order as the values. Use 1 for ascending order and -1 for descending order.\n",
    "\n",
    "The sort() method returns a cursor object, which you can iterate over to access the sorted documents."
   ]
  },
  {
   "cell_type": "markdown",
   "id": "73d2e588-3a67-43cc-8e07-1bfb8e234264",
   "metadata": {},
   "source": [
    "Q7. Explain why delete_one(), delete_many(), and drop() is used."
   ]
  },
  {
   "cell_type": "markdown",
   "id": "10286e48-cf21-4b79-bb97-fb335e22b657",
   "metadata": {},
   "source": [
    "In MongoDB, the delete_one(), delete_many(), and drop() methods are used for removing documents or collections from the database. Here's an explanation of each method and its purpose:\n",
    "\n",
    "delete_one(filter):\n",
    "\n",
    "The delete_one() method is used to delete a single document that matches a specified filter.\n",
    "It accepts a filter parameter, which is a document defining the criteria for selecting the document to be deleted.\n",
    "If multiple documents match the filter, only the first matching document will be deleted.\n",
    "delete_many(filter):\n",
    "\n",
    "The delete_many() method is used to delete multiple documents that match a specified filter.\n",
    "It accepts a filter parameter, similar to delete_one(), to define the criteria for selecting the documents to be deleted.\n",
    "All documents that match the filter will be deleted.\n",
    "drop():\n",
    "\n",
    "The drop() method is used to remove an entire collection from the database.\n",
    "It doesn't accept any parameters and drops the collection that the method is called on.\n",
    "This operation permanently removes the collection and all its associated documents."
   ]
  },
  {
   "cell_type": "code",
   "execution_count": null,
   "id": "fce1f233-5e54-429b-8a7a-3ae93d1c0adf",
   "metadata": {},
   "outputs": [],
   "source": []
  }
 ],
 "metadata": {
  "kernelspec": {
   "display_name": "Python 3 (ipykernel)",
   "language": "python",
   "name": "python3"
  },
  "language_info": {
   "codemirror_mode": {
    "name": "ipython",
    "version": 3
   },
   "file_extension": ".py",
   "mimetype": "text/x-python",
   "name": "python",
   "nbconvert_exporter": "python",
   "pygments_lexer": "ipython3",
   "version": "3.10.8"
  }
 },
 "nbformat": 4,
 "nbformat_minor": 5
}
