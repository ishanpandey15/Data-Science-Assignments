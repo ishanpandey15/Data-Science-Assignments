{
 "cells": [
  {
   "cell_type": "markdown",
   "id": "6669c18d-4d2b-4d29-98b2-04de298ca2e3",
   "metadata": {},
   "source": [
    "Q1. List any five functions of the pandas library with execution."
   ]
  },
  {
   "cell_type": "markdown",
   "id": "c75d386d-731d-430c-97f9-dca3ef116fe6",
   "metadata": {},
   "source": [
    "read_csv():\n",
    "The read_csv() function is used to read data from a CSV (Comma-Separated Values) file and create a DataFrame object.\n",
    "python\n",
    "Copy code\n",
    "import pandas as pd\n",
    "\n",
    "-- Read CSV file and create a DataFrame\n",
    "df = pd.read_csv('data.csv')\n",
    "\n",
    "-- Display the DataFrame\n",
    "print(df)\n",
    "head():\n",
    "The head() function is used to display the first few rows of a DataFrame. By default, it shows the first five rows.\n",
    "python\n",
    "Copy code\n",
    "import pandas as pd\n",
    "\n",
    "-- Create a DataFrame\n",
    "data = {'Name': ['Alice', 'Bob', 'Charlie'],\n",
    "        'Age': [25, 30, 35],\n",
    "        'City': ['New York', 'London', 'Paris']}\n",
    "df = pd.DataFrame(data)\n",
    "\n",
    "-- Display the first few rows of the DataFrame\n",
    "print(df.head())\n",
    "info():\n",
    "The info() function provides a summary of a DataFrame, including the column names, data types, and memory usage.\n",
    "python\n",
    "Copy code\n",
    "import pandas as pd\n",
    "\n",
    "-- Create a DataFrame\n",
    "data = {'Name': ['Alice', 'Bob', 'Charlie'],\n",
    "        'Age': [25, 30, 35],\n",
    "        'City': ['New York', 'London', 'Paris']}\n",
    "df = pd.DataFrame(data)\n",
    "\n",
    "-- Display information about the DataFrame\n",
    "df.info()\n",
    "describe():\n",
    "The describe() function generates descriptive statistics of a DataFrame, such as count, mean, standard deviation, minimum, maximum, and quartile values for numerical columns.\n",
    "python\n",
    "Copy code\n",
    "import pandas as pd\n",
    "\n",
    "-- Create a DataFrame\n",
    "data = {'Name': ['Alice', 'Bob', 'Charlie'],\n",
    "        'Age': [25, 30, 35],\n",
    "        'City': ['New York', 'London', 'Paris']}\n",
    "df = pd.DataFrame(data)\n",
    "\n",
    "-- Generate descriptive statistics of the DataFrame\n",
    "print(df.describe())\n",
    "groupby():\n",
    "The groupby() function is used for grouping data based on one or more columns and applying aggregation or transformation operations.\n",
    "python\n",
    "Copy code\n",
    "import pandas as pd\n",
    "\n",
    "-- Create a DataFrame\n",
    "data = {'Name': ['Alice', 'Bob', 'Charlie', 'Alice'],\n",
    "        'Age': [25, 30, 35, 28],\n",
    "        'City': ['New York', 'London', 'Paris', 'New York']}\n",
    "df = pd.DataFrame(data)\n",
    "\n",
    "-- Group the DataFrame by 'Name' column and calculate the mean age\n",
    "grouped = df.groupby('Name')['Age'].mean()\n",
    "\n",
    "-- Display the grouped data\n",
    "print(grouped)"
   ]
  },
  {
   "cell_type": "markdown",
   "id": "7387bdd6-0371-43ab-8926-3f9d7c9f72ed",
   "metadata": {},
   "source": [
    "Q2. Given a Pandas DataFrame df with columns 'A', 'B', and 'C', write a Python function to re-index the\n",
    "DataFrame with a new index that starts from 1 and increments by 2 for each row."
   ]
  },
  {
   "cell_type": "code",
   "execution_count": 1,
   "id": "df52a8a4-eb43-4360-8e41-0b6d50dea62c",
   "metadata": {},
   "outputs": [
    {
     "name": "stdout",
     "output_type": "stream",
     "text": [
      "    A   B   C\n",
      "1  10  40  70\n",
      "3  20  50  80\n",
      "5  30  60  90\n"
     ]
    }
   ],
   "source": [
    "import pandas as pd\n",
    "\n",
    "def reindex_dataframe(df):\n",
    "    df.reset_index(drop=True, inplace=True)\n",
    "    df.index = pd.RangeIndex(start=1, step=2, stop=len(df)*2)\n",
    "    return df\n",
    "\n",
    "# Example usage\n",
    "# Assuming df is your original DataFrame with columns 'A', 'B', and 'C'\n",
    "df = pd.DataFrame({'A': [10, 20, 30], 'B': [40, 50, 60], 'C': [70, 80, 90]})\n",
    "\n",
    "# Reindex the DataFrame\n",
    "reindexed_df = reindex_dataframe(df)\n",
    "\n",
    "print(reindexed_df)\n"
   ]
  },
  {
   "cell_type": "markdown",
   "id": "def2dc1c-4ec5-4f0b-9c2f-05d281997ec3",
   "metadata": {},
   "source": [
    "Q3. You have a Pandas DataFrame df with a column named 'Values'. Write a Python function that\n",
    "iterates over the DataFrame and calculates the sum of the first three values in the 'Values' column. The\n",
    "function should print the sum to the console."
   ]
  },
  {
   "cell_type": "code",
   "execution_count": 2,
   "id": "bf5e4e70-63a6-48f6-83c9-a6200459683c",
   "metadata": {},
   "outputs": [
    {
     "name": "stdout",
     "output_type": "stream",
     "text": [
      "Sum of the first three values: 60\n"
     ]
    }
   ],
   "source": [
    "import pandas as pd\n",
    "\n",
    "def calculate_sum(df):\n",
    "    sum_values = df['Values'].head(3).sum()\n",
    "    print(\"Sum of the first three values:\", sum_values)\n",
    "\n",
    "# Example usage\n",
    "# Assuming df is your DataFrame with the 'Values' column\n",
    "df = pd.DataFrame({'Values': [10, 20, 30, 40, 50]})\n",
    "\n",
    "# Calculate and print the sum of the first three values\n",
    "calculate_sum(df)\n"
   ]
  },
  {
   "cell_type": "markdown",
   "id": "fe3d4bff-4f46-4774-a47e-0ee07e5e0729",
   "metadata": {},
   "source": [
    "Q4. Given a Pandas DataFrame df with a column 'Text', write a Python function to create a new column\n",
    "'Word_Count' that contains the number of words in each row of the 'Text' column."
   ]
  },
  {
   "cell_type": "code",
   "execution_count": 3,
   "id": "8ada746f-fa55-48d0-be2e-69002cb0f1cd",
   "metadata": {},
   "outputs": [
    {
     "name": "stdout",
     "output_type": "stream",
     "text": [
      "                  Text  Word_Count\n",
      "0  Hello, how are you?           4\n",
      "1     I am doing well.           4\n",
      "2     Python is great!           3\n"
     ]
    }
   ],
   "source": [
    "import pandas as pd\n",
    "\n",
    "def add_word_count(df):\n",
    "    df['Word_Count'] = df['Text'].str.split().apply(len)\n",
    "    return df\n",
    "\n",
    "# Example usage\n",
    "# Assuming df is your DataFrame with the 'Text' column\n",
    "df = pd.DataFrame({'Text': ['Hello, how are you?', 'I am doing well.', 'Python is great!']})\n",
    "\n",
    "# Add the 'Word_Count' column\n",
    "df = add_word_count(df)\n",
    "\n",
    "print(df)\n"
   ]
  },
  {
   "cell_type": "markdown",
   "id": "661fee7b-c760-4d13-bdbb-a6ad3b4ed705",
   "metadata": {},
   "source": [
    "Q5. How are DataFrame.size() and DataFrame.shape() different?"
   ]
  },
  {
   "cell_type": "markdown",
   "id": "5ff9022b-17c4-47db-9bd4-0bcf45c10dec",
   "metadata": {},
   "source": [
    "DataFrame.size is an attribute that returns the total number of elements in the DataFrame. It represents the total count of cells in the DataFrame, including both rows and columns. The DataFrame.size attribute returns a single integer value.\n",
    "\n",
    "DataFrame.shape:\n",
    "DataFrame.shape is an attribute that returns a tuple representing the dimensions of the DataFrame. It provides the number of rows and columns in the DataFrame. The DataFrame.shape attribute returns a tuple in the format (rows, columns)."
   ]
  },
  {
   "cell_type": "markdown",
   "id": "bb9dadc3-8670-4791-ba84-dbef35ec4f5a",
   "metadata": {},
   "source": [
    "Q6. Which function of pandas do we use to read an excel file?"
   ]
  },
  {
   "cell_type": "markdown",
   "id": "bca3d93a-5d5c-4a58-bacc-b669b24f3889",
   "metadata": {},
   "source": [
    "In Pandas, we use the read_excel() function to read data from an Excel file. The read_excel() function can read both .xls and .xlsx file formats."
   ]
  },
  {
   "cell_type": "markdown",
   "id": "3d5c0f66-de74-4817-9846-384153cc6a75",
   "metadata": {},
   "source": [
    "Q7. You have a Pandas DataFrame df that contains a column named 'Email' that contains email\n",
    "addresses in the format 'username@domain.com'. Write a Python function that creates a new column\n",
    "'Username' in df that contains only the username part of each email address."
   ]
  },
  {
   "cell_type": "code",
   "execution_count": 4,
   "id": "e6d50f7c-7b55-45de-ab12-5be2be26d0c2",
   "metadata": {},
   "outputs": [
    {
     "name": "stdout",
     "output_type": "stream",
     "text": [
      "               Email Username\n",
      "0   john@example.com     john\n",
      "1   jane@example.com     jane\n",
      "2  smith@example.com    smith\n"
     ]
    }
   ],
   "source": [
    "import pandas as pd\n",
    "\n",
    "def extract_username(df):\n",
    "    df['Username'] = df['Email'].str.split('@').str[0]\n",
    "    return df\n",
    "\n",
    "# Example usage\n",
    "# Assuming df is your DataFrame with the 'Email' column\n",
    "df = pd.DataFrame({'Email': ['john@example.com', 'jane@example.com', 'smith@example.com']})\n",
    "\n",
    "# Extract the username from the email addresses\n",
    "df = extract_username(df)\n",
    "\n",
    "print(df)\n"
   ]
  },
  {
   "cell_type": "markdown",
   "id": "7e197fac-594b-4851-8ad9-df6e6ea2a61b",
   "metadata": {},
   "source": [
    "Q8. You have a Pandas DataFrame df with columns 'A', 'B', and 'C'. Write a Python function that selects\n",
    "all rows where the value in column 'A' is greater than 5 and the value in column 'B' is less than 10. The\n",
    "function should return a new DataFrame that contains only the selected rows."
   ]
  },
  {
   "cell_type": "code",
   "execution_count": 5,
   "id": "51cfc37f-e4df-49f3-8043-431e84840de2",
   "metadata": {},
   "outputs": [
    {
     "name": "stdout",
     "output_type": "stream",
     "text": [
      "   A  B  C\n",
      "1  6  4  5\n",
      "3  8  2  7\n"
     ]
    }
   ],
   "source": [
    "import pandas as pd\n",
    "\n",
    "def select_rows(df):\n",
    "    selected_rows = df[(df['A'] > 5) & (df['B'] < 10)]\n",
    "    return selected_rows\n",
    "\n",
    "# Example usage\n",
    "# Assuming df is your DataFrame with columns 'A', 'B', and 'C'\n",
    "df = pd.DataFrame({'A': [3, 6, 2, 8],\n",
    "                   'B': [7, 4, 9, 2],\n",
    "                   'C': [1, 5, 3, 7]})\n",
    "\n",
    "# Select rows based on the conditions\n",
    "selected_df = select_rows(df)\n",
    "\n",
    "print(selected_df)\n"
   ]
  },
  {
   "cell_type": "markdown",
   "id": "6f8b64c1-f5d1-412b-b868-a2a763c1609e",
   "metadata": {},
   "source": [
    "Q9. Given a Pandas DataFrame df with a column 'Values', write a Python function to calculate the mean,\n",
    "median, and standard deviation of the values in the 'Values' column."
   ]
  },
  {
   "cell_type": "code",
   "execution_count": 6,
   "id": "2b5dca2b-b212-4930-99b5-62842f3820a4",
   "metadata": {},
   "outputs": [
    {
     "name": "stdout",
     "output_type": "stream",
     "text": [
      "Mean: 30.0\n",
      "Median: 30.0\n",
      "Standard Deviation: 15.811388300841896\n"
     ]
    }
   ],
   "source": [
    "import pandas as pd\n",
    "\n",
    "def calculate_stats(df):\n",
    "    mean_value = df['Values'].mean()\n",
    "    median_value = df['Values'].median()\n",
    "    std_value = df['Values'].std()\n",
    "\n",
    "    print(\"Mean:\", mean_value)\n",
    "    print(\"Median:\", median_value)\n",
    "    print(\"Standard Deviation:\", std_value)\n",
    "\n",
    "# Example usage\n",
    "# Assuming df is your DataFrame with the 'Values' column\n",
    "df = pd.DataFrame({'Values': [10, 20, 30, 40, 50]})\n",
    "\n",
    "# Calculate the statistics\n",
    "calculate_stats(df)\n"
   ]
  },
  {
   "cell_type": "markdown",
   "id": "65daa502-102a-42e0-8562-5f696b88fd5c",
   "metadata": {},
   "source": [
    "Q10. Given a Pandas DataFrame df with a column 'Sales' and a column 'Date', write a Python function to\n",
    "create a new column 'MovingAverage' that contains the moving average of the sales for the past 7 days\n",
    "for each row in the DataFrame. The moving average should be calculated using a window of size 7 and\n",
    "should include the current day."
   ]
  },
  {
   "cell_type": "code",
   "execution_count": 7,
   "id": "1aab30af-4afd-46cb-aae1-7592d68ef700",
   "metadata": {},
   "outputs": [
    {
     "name": "stdout",
     "output_type": "stream",
     "text": [
      "        Date  Sales  MovingAverage\n",
      "0 2022-01-01     10           10.0\n",
      "1 2022-01-02     15           12.5\n",
      "2 2022-01-03     20           15.0\n",
      "3 2022-01-04     25           17.5\n",
      "4 2022-01-05     30           20.0\n",
      "5 2022-01-06     35           22.5\n",
      "6 2022-01-07     40           25.0\n",
      "7 2022-01-08     45           30.0\n",
      "8 2022-01-09     50           35.0\n",
      "9 2022-01-10     55           40.0\n"
     ]
    }
   ],
   "source": [
    "import pandas as pd\n",
    "\n",
    "def calculate_moving_average(df):\n",
    "    df['MovingAverage'] = df['Sales'].rolling(window=7, min_periods=1).mean()\n",
    "    return df\n",
    "\n",
    "# Example usage\n",
    "# Assuming df is your DataFrame with columns 'Sales' and 'Date'\n",
    "df = pd.DataFrame({'Date': pd.date_range('2022-01-01', periods=10),\n",
    "                   'Sales': [10, 15, 20, 25, 30, 35, 40, 45, 50, 55]})\n",
    "\n",
    "# Calculate the moving average\n",
    "df = calculate_moving_average(df)\n",
    "\n",
    "print(df)\n"
   ]
  },
  {
   "cell_type": "markdown",
   "id": "4aa1206a-3632-4230-81b1-357f40e964fd",
   "metadata": {},
   "source": [
    "Q11. You have a Pandas DataFrame df with a column 'Date'. Write a Python function that creates a new\n",
    "column 'Weekday' in the DataFrame. The 'Weekday' column should contain the weekday name (e.g.\n",
    "Monday, Tuesday) corresponding to each date in the 'Date' column."
   ]
  },
  {
   "cell_type": "code",
   "execution_count": null,
   "id": "21d5be7c-abb6-48a3-9497-0de4c3224db6",
   "metadata": {},
   "outputs": [],
   "source": [
    "import pandas as pd\n",
    "\n",
    "def add_weekday_column(df):\n",
    "    df['Weekday'] = df['Date'].dt.weekday_name\n",
    "    return df\n",
    "\n",
    "# Example usage\n",
    "# Assuming df is your DataFrame with the 'Date' column\n",
    "df = pd.DataFrame({'Date': pd.date_range('2022-01-01', periods=7)})\n",
    "\n",
    "# Add the 'Weekday' column\n",
    "df = add_weekday_column(df)\n",
    "\n",
    "print(df)"
   ]
  },
  {
   "cell_type": "markdown",
   "id": "bbbaf963-4303-4ce1-bf69-397834be6380",
   "metadata": {},
   "source": [
    "Q12. Given a Pandas DataFrame df with a column 'Date' that contains timestamps, write a Python\n",
    "function to select all rows where the date is between '2023-01-01' and '2023-01-31'."
   ]
  },
  {
   "cell_type": "code",
   "execution_count": 9,
   "id": "3f38ca74-b813-45bd-811e-6c714bcef4c1",
   "metadata": {},
   "outputs": [
    {
     "name": "stdout",
     "output_type": "stream",
     "text": [
      "         Date\n",
      "31 2023-01-01\n",
      "32 2023-01-02\n",
      "33 2023-01-03\n",
      "34 2023-01-04\n",
      "35 2023-01-05\n",
      "36 2023-01-06\n",
      "37 2023-01-07\n",
      "38 2023-01-08\n",
      "39 2023-01-09\n",
      "40 2023-01-10\n",
      "41 2023-01-11\n",
      "42 2023-01-12\n",
      "43 2023-01-13\n",
      "44 2023-01-14\n",
      "45 2023-01-15\n",
      "46 2023-01-16\n",
      "47 2023-01-17\n",
      "48 2023-01-18\n",
      "49 2023-01-19\n"
     ]
    }
   ],
   "source": [
    "import pandas as pd\n",
    "\n",
    "def select_rows_between_dates(df):\n",
    "    start_date = pd.Timestamp('2023-01-01')\n",
    "    end_date = pd.Timestamp('2023-01-31')\n",
    "    selected_rows = df[(df['Date'] >= start_date) & (df['Date'] <= end_date)]\n",
    "    return selected_rows\n",
    "\n",
    "# Example usage\n",
    "# Assuming df is your DataFrame with the 'Date' column\n",
    "df = pd.DataFrame({'Date': pd.date_range('2022-12-01', periods=50)})\n",
    "\n",
    "# Select rows between '2023-01-01' and '2023-01-31'\n",
    "selected_df = select_rows_between_dates(df)\n",
    "\n",
    "print(selected_df)\n"
   ]
  },
  {
   "cell_type": "markdown",
   "id": "58194ddb-87d4-4069-8e8f-b076baa6f05f",
   "metadata": {},
   "source": [
    "Q13. To use the basic functions of pandas, what is the first and foremost necessary library that needs to\n",
    "be imported?"
   ]
  },
  {
   "cell_type": "markdown",
   "id": "226302af-c324-491d-8bf5-b1feb54033a4",
   "metadata": {},
   "source": [
    "The first and foremost necessary library that needs to be imported to use the basic functions of pandas is the pandas library itself. It provides the core functionality for working with structured data and offers a wide range of data manipulation and analysis tools.\n",
    "import pandas as pd\n",
    "\n",
    "By convention, pandas is commonly imported with the alias 'pd', making it easier to reference the library's functions and classes throughout your code.\n",
    "\n",
    "Once you import pandas, you can access and utilize its various functions, classes, and methods to perform tasks such as reading and writing data, data manipulation, data analysis, and more"
   ]
  },
  {
   "cell_type": "code",
   "execution_count": null,
   "id": "517fd3e7-1f03-4b0c-a424-5ae772a41f52",
   "metadata": {},
   "outputs": [],
   "source": []
  }
 ],
 "metadata": {
  "kernelspec": {
   "display_name": "Python 3 (ipykernel)",
   "language": "python",
   "name": "python3"
  },
  "language_info": {
   "codemirror_mode": {
    "name": "ipython",
    "version": 3
   },
   "file_extension": ".py",
   "mimetype": "text/x-python",
   "name": "python",
   "nbconvert_exporter": "python",
   "pygments_lexer": "ipython3",
   "version": "3.10.8"
  }
 },
 "nbformat": 4,
 "nbformat_minor": 5
}
