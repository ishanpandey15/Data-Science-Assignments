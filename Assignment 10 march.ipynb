{
 "cells": [
  {
   "cell_type": "raw",
   "id": "296b7064-0414-4054-aa94-30ac05c3e465",
   "metadata": {},
   "source": [
    "Q1: What is Estimation Statistics? Explain point estimate and interval estimate."
   ]
  },
  {
   "cell_type": "raw",
   "id": "93ff6fff-0c74-46a5-b773-efc308cf336f",
   "metadata": {},
   "source": [
    "Estimation statistics is a branch of inferential statistics that involves making estimates or predictions about population parameters based on sample data. In inferential statistics, we often deal with situations where it is impractical or impossible to measure an entire population. Instead, we take a random sample from the population and use it to make inferences about the population as a whole.\n",
    "\n",
    "Estimation involves two main concepts: point estimate and interval estimate.\n",
    "\n",
    "Point Estimate:\n",
    "A point estimate is a single value that is used to estimate an unknown population parameter. It is calculated based on the sample data and serves as the best guess or approximation of the true population parameter. Point estimates are often denoted by a single symbol, such as \"x̄\" for the sample mean, \"p̂\" for the sample proportion, or \"s\" for the sample standard deviation.\n",
    "For example, if we want to estimate the population mean (μ) based on a sample mean (x̄), the sample mean serves as the point estimate of the population mean.\n",
    "\n",
    "Interval Estimate:\n",
    "An interval estimate, also known as a confidence interval, is a range of values that is likely to contain the unknown population parameter with a certain level of confidence. It provides more information than a single point estimate by giving us an idea of the uncertainty or variability in our estimate.\n",
    "A confidence interval is usually expressed in the form of \"estimate ± margin of error.\" The margin of error represents the range of values around the point estimate, and the confidence level reflects the probability that the interval contains the true population parameter. Common confidence levels are 90%, 95%, and 99%."
   ]
  },
  {
   "cell_type": "raw",
   "id": "702d2efc-0bc1-4d89-80fa-8dc385b79ce9",
   "metadata": {},
   "source": [
    "Q2. Write a Python function to estimate the population mean using a sample mean and standard\n",
    "deviation."
   ]
  },
  {
   "cell_type": "code",
   "execution_count": 1,
   "id": "556da6b6-9abe-4b45-a570-6ef03d910cbc",
   "metadata": {},
   "outputs": [
    {
     "name": "stdout",
     "output_type": "stream",
     "text": [
      "Estimated Population Mean:  50.5\n",
      "95% Confidence Interval: [48.50, 52.50]\n"
     ]
    }
   ],
   "source": [
    "def estimate_population_mean(sample_mean, sample_std_dev, sample_size):\n",
    "    # Calculate the standard error of the mean (SEM)\n",
    "    sem = sample_std_dev / (sample_size ** 0.5)\n",
    "    \n",
    "    # Calculate the margin of error (MoE) using a confidence level of 95%\n",
    "    # For a 95% confidence level, the critical value (Z) is 1.96 (approximately)\n",
    "    moe = 1.96 * sem\n",
    "    \n",
    "    # Calculate the lower and upper bounds of the confidence interval\n",
    "    lower_bound = sample_mean - moe\n",
    "    upper_bound = sample_mean + moe\n",
    "    \n",
    "    # Return the estimated population mean and the confidence interval\n",
    "    return sample_mean, lower_bound, upper_bound\n",
    "\n",
    "# Example usage:\n",
    "sample_mean = 50.5\n",
    "sample_std_dev = 10.2\n",
    "sample_size = 100\n",
    "\n",
    "estimated_mean, lower_bound, upper_bound = estimate_population_mean(sample_mean, sample_std_dev, sample_size)\n",
    "\n",
    "print(\"Estimated Population Mean: \", estimated_mean)\n",
    "print(\"95% Confidence Interval: [{:.2f}, {:.2f}]\".format(lower_bound, upper_bound))\n"
   ]
  },
  {
   "cell_type": "raw",
   "id": "9440e049-40db-49cf-97c3-9ffe5781e79e",
   "metadata": {},
   "source": [
    "Q3: What is Hypothesis testing? Why is it used? State the importance of Hypothesis testing."
   ]
  },
  {
   "cell_type": "raw",
   "id": "9faa9d41-1234-4bbc-a8e6-90643817e786",
   "metadata": {},
   "source": [
    "Hypothesis testing is a statistical method used to make inferences about population parameters based on sample data. It involves formulating two competing hypotheses: the null hypothesis (H0) and the alternative hypothesis (Ha). The null hypothesis represents the default assumption or the status quo, while the alternative hypothesis represents what the researcher is trying to prove or establish. Hypothesis testing helps researchers determine whether there is enough evidence in the data to reject the null hypothesis in favor of the alternative hypothesis.\n",
    "\n",
    "The steps involved in hypothesis testing are as follows:\n",
    "\n",
    "Formulate the Null Hypothesis (H0): The null hypothesis is the hypothesis of no effect or no difference. It is typically denoted by \"H0\" and represents the status quo or the absence of any effect or relationship between variables.\n",
    "\n",
    "Formulate the Alternative Hypothesis (Ha): The alternative hypothesis is the hypothesis that contradicts the null hypothesis. It is what the researcher aims to prove or support. The alternative hypothesis is typically denoted by \"Ha.\"\n",
    "\n",
    "Collect and Analyze Data: Researchers collect sample data and use statistical techniques to analyze the data and draw conclusions.\n",
    "\n",
    "Test the Hypothesis: Based on the sample data, researchers use statistical tests to assess the likelihood of observing the data if the null hypothesis is true. This involves calculating a test statistic, which measures the distance between the sample data and what is expected under the null hypothesis.\n",
    "\n",
    "Make a Decision: Researchers compare the test statistic to a critical value or use the test statistic to calculate a p-value. The p-value represents the probability of observing the data, assuming the null hypothesis is true. If the p-value is less than a predetermined significance level (usually 0.05), the null hypothesis is rejected in favor of the alternative hypothesis. If the p-value is greater than the significance level, the null hypothesis is not rejected.\n",
    "\n",
    "Importance of Hypothesis Testing:\n",
    "\n",
    "Decision-Making: Hypothesis testing provides a systematic and objective way to make decisions based on data. It helps researchers determine whether there is enough evidence to support a particular claim or hypothesis.\n",
    "\n",
    "Scientific Inquiry: Hypothesis testing is a fundamental tool in the scientific method. It allows researchers to test hypotheses and draw conclusions based on empirical evidence.\n",
    "\n",
    "Inference about Populations: Hypothesis testing allows researchers to make inferences about population parameters based on sample data. This is particularly important when it is not feasible to measure the entire population.\n",
    "\n",
    "Statistical Validity: Hypothesis testing provides a framework for evaluating the statistical validity of research findings. It helps researchers avoid drawing conclusions based on random variations in the data.\n",
    "\n",
    "Objective Analysis: Hypothesis testing ensures that the decision-making process is based on evidence rather than personal opinions or biases."
   ]
  },
  {
   "cell_type": "raw",
   "id": "eb83348a-5fe9-4dda-b394-5e90b1f31cec",
   "metadata": {},
   "source": [
    "Q4. Create a hypothesis that states whether the average weight of male college students is greater than\n",
    "the average weight of female college students."
   ]
  },
  {
   "cell_type": "raw",
   "id": "61bdfb4c-80c4-4d7d-92f0-0853e6b63208",
   "metadata": {},
   "source": [
    "Hypothesis testing involves formulating a null hypothesis (H0) and an alternative hypothesis (Ha). In this case, we want to test whether the average weight of male college students is greater than the average weight of female college students. Let's define our hypotheses:\n",
    "\n",
    "Null Hypothesis (H0): The average weight of male college students is equal to or less than the average weight of female college students.\n",
    "Alternative Hypothesis (Ha): The average weight of male college students is greater than the average weight of female college students.\n",
    "\n",
    "Symbolically, we can represent the hypotheses as follows:\n",
    "\n",
    "H0: μ_male ≤ μ_female\n",
    "Ha: μ_male > μ_female\n",
    "\n",
    "Where:\n",
    "μ_male represents the population mean weight of male college students, and\n",
    "μ_female represents the population mean weight of female college students.\n",
    "\n",
    "In words, the null hypothesis states that there is no significant difference or that male college students have equal or lower average weight compared to female college students. The alternative hypothesis, on the other hand, asserts that male college students have a higher average weight than female college students.\n",
    "\n",
    "Once we collect sample data on the weights of male and female college students, we can conduct hypothesis testing to determine whether there is enough evidence to reject the null hypothesis in favor of the alternative hypothesis. The statistical test used for this hypothesis depends on the nature of the data, sample sizes, and assumptions about the population distribution. Common tests for comparing means include the t-test and the z-test. The choice of test depends on factors such as the population standard deviation (known or unknown) and the sample size.\n",
    "\n",
    "Remember that hypothesis testing requires careful consideration of sample sizes, random sampling, and appropriate statistical assumptions to ensure the validity of the results and conclusions."
   ]
  },
  {
   "cell_type": "raw",
   "id": "d113df0d-02b1-4f59-b65a-5a9b4d689abb",
   "metadata": {},
   "source": [
    "Q5. Write a Python script to conduct a hypothesis test on the difference between two population means,\n",
    "given a sample from each population."
   ]
  },
  {
   "cell_type": "code",
   "execution_count": 3,
   "id": "4db55bd8-4bc1-4d13-ba3b-964e49552345",
   "metadata": {},
   "outputs": [
    {
     "name": "stdout",
     "output_type": "stream",
     "text": [
      "Reject the null hypothesis. There is enough evidence to suggest that the average weight of male college students is greater than the average weight of female college students.\n"
     ]
    }
   ],
   "source": [
    "import numpy as np\n",
    "from scipy.stats import ttest_ind\n",
    "\n",
    "# Sample data for two populations (replace these with your actual data)\n",
    "sample1 = np.array([65, 68, 70, 72, 66, 71, 69, 67, 68, 70])\n",
    "sample2 = np.array([60, 62, 63, 58, 61, 59, 64, 62, 60, 63])\n",
    "\n",
    "# Perform two-sample independent t-test\n",
    "t_statistic, p_value = ttest_ind(sample1, sample2, alternative='greater')\n",
    "\n",
    "# Define the significance level (alpha)\n",
    "alpha = 0.05\n",
    "\n",
    "# Check if the p-value is less than the significance level\n",
    "if p_value < alpha:\n",
    "    print(\"Reject the null hypothesis. There is enough evidence to suggest that the average weight of male college students is greater than the average weight of female college students.\")\n",
    "else:\n",
    "    print(\"Fail to reject the null hypothesis. There is not enough evidence to suggest that the average weight of male college students is greater than the average weight of female college students.\")\n",
    "\n"
   ]
  },
  {
   "cell_type": "raw",
   "id": "9aaf1151-5dde-4969-8fa5-019ca3805261",
   "metadata": {},
   "source": [
    "Q6: What is a null and alternative hypothesis? Give some examples."
   ]
  },
  {
   "cell_type": "raw",
   "id": "1c5a8aed-0e8b-4ef7-96b3-c07cfbcafe16",
   "metadata": {},
   "source": [
    "In hypothesis testing, the null hypothesis (H0) and the alternative hypothesis (Ha) are two competing statements used to draw conclusions about a population parameter based on sample data. These hypotheses are formulated based on the research question or the claim that the researcher wants to investigate.\n",
    "\n",
    "Null Hypothesis (H0):\n",
    "The null hypothesis represents the status quo or the assumption that there is no significant difference or effect in the population. It typically includes the equality sign (=) and proposes that there is no change, no relationship, or no effect between variables. The null hypothesis is often denoted as \"H0.\"\n",
    "Example 1 (One-Sample T-Test):\n",
    "H0: The average weight of apples from a certain orchard is equal to 150 grams.\n",
    "\n",
    "Example 2 (Chi-Square Test):\n",
    "H0: There is no association between smoking habits (smoker, non-smoker) and the risk of developing lung cancer.\n",
    "\n",
    "Alternative Hypothesis (Ha):\n",
    "The alternative hypothesis represents the researcher's claim or the statement that contradicts the null hypothesis. It proposes that there is a significant difference, effect, or relationship in the population. The alternative hypothesis can take various forms, such as greater than (>), less than (<), or not equal to (≠), depending on the research question. The alternative hypothesis is often denoted as \"Ha\" or \"H1.\"\n",
    "Example 1 (One-Sample T-Test):\n",
    "Ha: The average weight of apples from a certain orchard is greater than 150 grams.\n",
    "\n",
    "Example 2 (Chi-Square Test):\n",
    "Ha: There is an association between smoking habits (smoker, non-smoker) and the risk of developing lung cancer."
   ]
  },
  {
   "cell_type": "raw",
   "id": "9503a975-405e-4d3d-a55f-07eeaf652c10",
   "metadata": {},
   "source": [
    "Q7: Write down the steps involved in hypothesis testing."
   ]
  },
  {
   "cell_type": "raw",
   "id": "55d3d68d-0b32-4c5e-9f96-e314856bc386",
   "metadata": {},
   "source": [
    "Hypothesis testing is a structured process used to draw conclusions about population parameters based on sample data. The steps involved in hypothesis testing are as follows:\n",
    "\n",
    "Step 1: Formulate the Hypotheses\n",
    "\n",
    "State the null hypothesis (H0): The null hypothesis represents the status quo or the assumption of no effect, no difference, or no relationship between variables.\n",
    "State the alternative hypothesis (Ha): The alternative hypothesis represents the researcher's claim or the statement that contradicts the null hypothesis. It proposes that there is a significant effect, difference, or relationship in the population.\n",
    "Step 2: Set the Significance Level (α)\n",
    "\n",
    "The significance level, denoted by α (alpha), determines the threshold for rejecting the null hypothesis. Commonly used significance levels are 0.05 (5%) and 0.01 (1%). It represents the probability of making a Type I error, which is the probability of rejecting the null hypothesis when it is actually true.\n",
    "Step 3: Collect Sample Data\n",
    "\n",
    "Collect a random sample from the population of interest. The sample should be representative and large enough to provide reliable results.\n",
    "Step 4: Choose the Appropriate Test\n",
    "\n",
    "Select the appropriate statistical test based on the nature of the data, the research question, and the type of hypothesis being tested. Common tests include t-tests, chi-square tests, ANOVA, regression analysis, etc.\n",
    "Step 5: Calculate the Test Statistic\n",
    "\n",
    "Calculate the test statistic based on the sample data and the chosen statistical test. The test statistic measures how far the sample results deviate from what is expected under the assumption of the null hypothesis.\n",
    "Step 6: Determine the P-Value\n",
    "\n",
    "The p-value is the probability of obtaining results as extreme or more extreme than the ones observed in the sample, assuming that the null hypothesis is true. It is calculated based on the test statistic and the chosen statistical distribution.\n",
    "Step 7: Compare the P-Value with the Significance Level\n",
    "\n",
    "If the p-value is less than the significance level (α), reject the null hypothesis in favor of the alternative hypothesis. This indicates that there is enough evidence to support the researcher's claim.\n",
    "If the p-value is greater than or equal to the significance level (α), fail to reject the null hypothesis. This suggests that there is not enough evidence to support the claim, and the null hypothesis remains the working assumption.\n",
    "Step 8: Interpret the Results\n",
    "\n",
    "Interpret the results of the hypothesis test in the context of the research question. Clearly state the conclusion, considering both statistical significance and practical significance.\n",
    "It's crucial to follow these steps carefully to ensure the validity and reliability of the hypothesis test and the conclusions drawn from the data. Hypothesis testing helps researchers make informed decisions and draw meaningful inferences about the population based on sample data."
   ]
  },
  {
   "cell_type": "raw",
   "id": "49aeda3d-dfa6-43ad-9918-fde997f81981",
   "metadata": {},
   "source": [
    "Q8. Define p-value and explain its significance in hypothesis testing."
   ]
  },
  {
   "cell_type": "raw",
   "id": "8603e1a0-70ab-4202-ba2b-1930072c5467",
   "metadata": {},
   "source": [
    "The p-value, short for \"probability value,\" is a crucial concept in hypothesis testing. It quantifies the strength of the evidence against the null hypothesis and informs us about the likelihood of observing the sample data, or more extreme data, assuming the null hypothesis is true. In other words, the p-value provides a measure of the probability of obtaining the observed results or results more extreme than those observed, purely by chance, under the assumption that the null hypothesis is correct.\n",
    "\n",
    "In hypothesis testing, the p-value serves as the basis for making a decision about whether to reject or fail to reject the null hypothesis. Here's how the p-value is interpreted in the context of hypothesis testing:\n",
    "\n",
    "Low p-value (p < α):\n",
    "If the p-value is small (typically less than the significance level α, commonly set at 0.05 or 0.01), it indicates that the observed results are unlikely to have occurred due to random chance alone assuming the null hypothesis is true.\n",
    "In this case, we reject the null hypothesis in favor of the alternative hypothesis. We conclude that there is enough evidence to support the claim made in the alternative hypothesis.\n",
    "A low p-value suggests that the effect, difference, or relationship observed in the sample data is statistically significant and is likely present in the population.\n",
    "High p-value (p ≥ α):\n",
    "If the p-value is large (greater than or equal to the significance level α), it indicates that the observed results are reasonably likely to have occurred due to random chance alone, assuming the null hypothesis is true.\n",
    "In this case, we fail to reject the null hypothesis. We do not have enough evidence to support the claim made in the alternative hypothesis.\n",
    "A high p-value suggests that the observed effect, difference, or relationship in the sample data is not statistically significant and may be due to random variability."
   ]
  },
  {
   "cell_type": "raw",
   "id": "20e67767-1c1a-4156-a4f1-27ff429be279",
   "metadata": {},
   "source": [
    "Q9. Generate a Student's t-distribution plot using Python's matplotlib library, with the degrees of freedom\n",
    "parameter set to 10."
   ]
  },
  {
   "cell_type": "code",
   "execution_count": 4,
   "id": "a140220e-85a6-41b9-90ba-3838e23d159c",
   "metadata": {},
   "outputs": [
    {
     "data": {
      "image/png": "[encoded data removed]",
      "text/plain": [
       "<Figure size 640x480 with 1 Axes>"
      ]
     },
     "metadata": {},
     "output_type": "display_data"
    }
   ],
   "source": [
    "import numpy as np\n",
    "import matplotlib.pyplot as plt\n",
    "from scipy.stats import t\n",
    "\n",
    "# Set the degrees of freedom\n",
    "df = 10\n",
    "\n",
    "# Generate a range of x values (t-values) for the plot\n",
    "x = np.linspace(-4, 4, 1000)\n",
    "\n",
    "# Calculate the probability density function (PDF) for each x value\n",
    "pdf = t.pdf(x, df)\n",
    "\n",
    "# Create the plot\n",
    "plt.plot(x, pdf, label=f\"Degrees of Freedom = {df}\")\n",
    "plt.xlabel(\"x (t-values)\")\n",
    "plt.ylabel(\"Probability Density Function (PDF)\")\n",
    "plt.title(\"Student's t-Distribution\")\n",
    "plt.legend()\n",
    "plt.grid(True)\n",
    "plt.show()\n"
   ]
  },
  {
   "cell_type": "raw",
   "id": "e4a6d5f6-dd48-4127-b780-d62147950fd6",
   "metadata": {},
   "source": [
    "Q10. Write a Python program to calculate the two-sample t-test for independent samples, given two\n",
    "random samples of equal size and a null hypothesis that the population means are equal."
   ]
  },
  {
   "cell_type": "code",
   "execution_count": 6,
   "id": "4e5af127-f727-4330-acd9-d7d67695fd42",
   "metadata": {},
   "outputs": [
    {
     "name": "stdout",
     "output_type": "stream",
     "text": [
      "Reject the null hypothesis. The population means are not equal.\n"
     ]
    }
   ],
   "source": [
    "import numpy as np\n",
    "from scipy.stats import ttest_ind\n",
    "\n",
    "# Generate two random samples of equal size\n",
    "np.random.seed(42)  # For reproducibility\n",
    "sample1 = np.random.normal(loc=10, scale=2, size=100)\n",
    "sample2 = np.random.normal(loc=12, scale=2, size=100)\n",
    "\n",
    "# Perform the two-sample t-test\n",
    "t_statistic, p_value = ttest_ind(sample1, sample2)\n",
    "\n",
    "# Define the significance level (alpha)\n",
    "alpha = 0.05\n",
    "\n",
    "# Compare the p-value with the significance level\n",
    "if p_value < alpha:\n",
    "    print(\"Reject the null hypothesis. The population means are not equal.\")\n",
    "else:\n",
    "    print(\"Fail to reject the null hypothesis. There is no significant difference in the population means.\")\n"
   ]
  },
  {
   "cell_type": "raw",
   "id": "52fed39c-aa57-451a-80a3-164046e8b999",
   "metadata": {},
   "source": [
    "Q11: What is Student’s t distribution? When to use the t-Distribution."
   ]
  },
  {
   "cell_type": "raw",
   "id": "1d3e566c-bc86-4393-ab54-06ca9f47484a",
   "metadata": {},
   "source": [
    "Student's t-distribution, often referred to simply as the t-distribution, is a probability distribution that is used in hypothesis testing and confidence interval estimation when the sample size is small or when the population standard deviation is unknown.\n",
    "\n",
    "The t-distribution is similar in shape to the standard normal (Z) distribution, which is a bell-shaped, symmetric distribution with a mean of 0 and a standard deviation of 1. However, the t-distribution has heavier tails, meaning that it has more probability in the tails and less in the center compared to the standard normal distribution.\n",
    "\n",
    "The shape of the t-distribution is determined by a parameter called degrees of freedom (df). The degrees of freedom represent the number of independent pieces of information available in the sample. When the degrees of freedom increase, the t-distribution approaches the standard normal distribution.\n",
    "\n",
    "The t-distribution is particularly useful when:\n",
    "\n",
    "Small Sample Size: When the sample size is small (typically less than 30), the t-distribution is used instead of the standard normal distribution. This is because the standard normal distribution assumes a large sample size and can lead to inaccurate results when the sample size is small.\n",
    "\n",
    "Population Standard Deviation is Unknown: In many real-world scenarios, the population standard deviation is not known, and we have to estimate it using the sample standard deviation. When the population standard deviation is unknown, the t-distribution is used to account for the additional uncertainty introduced by the estimation.\n",
    "\n",
    "Hypothesis Testing: The t-distribution is commonly used for hypothesis testing when comparing means of two independent samples or when comparing the mean of a sample to a known value.\n",
    "\n",
    "Confidence Intervals: The t-distribution is used to construct confidence intervals for population parameters, such as the population mean, when the sample size is small or when the population standard deviation is unknown."
   ]
  },
  {
   "cell_type": "raw",
   "id": "c6887004-0873-4794-b996-2aa2c35e5c6c",
   "metadata": {},
   "source": [
    "Q12: What is t-statistic? State the formula for t-statistic."
   ]
  },
  {
   "cell_type": "raw",
   "id": "7ccea542-1400-430d-9c59-b2099e0ee14a",
   "metadata": {},
   "source": [
    "The t-statistic (also known as the t-value) is a measure of how many standard errors the sample mean differs from the hypothesized population mean, under the assumption that the null hypothesis is true. It is used in hypothesis testing to assess whether there is a significant difference between the sample mean and the population mean or between two sample means.\n",
    "\n",
    "The formula for calculating the t-statistic for a single sample is given by:\n",
    "\n",
    "t = (x̄ - μ) / (s / √n)\n",
    "\n",
    "Where:\n",
    "\n",
    "t is the t-statistic\n",
    "x̄ is the sample mean\n",
    "μ is the hypothesized population mean under the null hypothesis\n",
    "s is the sample standard deviation\n",
    "n is the sample size\n",
    "In the case of a two-sample t-test for independent samples, comparing two sample means, the formula for the t-statistic is:\n",
    "\n",
    "t = (x̄1 - x̄2) / √((s1^2 / n1) + (s2^2 / n2))\n",
    "\n",
    "Where:\n",
    "\n",
    "t is the t-statistic\n",
    "x̄1 and x̄2 are the sample means of the two independent samples\n",
    "s1 and s2 are the sample standard deviations of the two samples\n",
    "n1 and n2 are the sample sizes of the two samples\n",
    "The t-statistic measures how many standard errors the sample means are apart from each other, and its value determines whether the observed difference between the means is likely due to chance or if it is statistically significant. A larger absolute value of the t-statistic indicates a larger difference between the sample means and increases the likelihood of rejecting the null hypothesis in favor of the alternative hypothesis.\n",
    "\n",
    "In hypothesis testing, the t-statistic is used to calculate the p-value, which provides the probability of observing the data, or more extreme data, assuming the null hypothesis is true. The p-value is then compared to a significance level (α) to make a decision about whether to reject or fail to reject the null hypothesis. If the p-value is smaller than α, the result is statistically significant, and the null hypothesis is rejected in favor of the alternative hypothesis. If the p-value is greater than or equal to α, the result is not statistically significant, and the null hypothesis is not rejected."
   ]
  },
  {
   "cell_type": "raw",
   "id": "c9c30321-ca0e-4f95-979e-3a95662ffb4f",
   "metadata": {},
   "source": [
    "Q13. A coffee shop owner wants to estimate the average daily revenue for their shop. They take a random\n",
    "sample of 50 days and find the sample mean revenue to be $500 with a standard deviation of $50.\n",
    "Estimate the population mean revenue with a 95% confidence interval."
   ]
  },
  {
   "cell_type": "code",
   "execution_count": 7,
   "id": "63c9d2bc-7fa7-47dd-bf55-cbeb3c82dc7d",
   "metadata": {},
   "outputs": [
    {
     "name": "stdout",
     "output_type": "stream",
     "text": [
      "Population Mean Revenue Estimate: $500.00\n",
      "95% Confidence Interval: $485.79 to $514.21\n"
     ]
    }
   ],
   "source": [
    "import numpy as np\n",
    "from scipy.stats import t\n",
    "\n",
    "# Given data\n",
    "sample_mean = 500\n",
    "sample_std_dev = 50\n",
    "sample_size = 50\n",
    "confidence_level = 0.95\n",
    "\n",
    "# Calculate the critical value (t_critical)\n",
    "df = sample_size - 1\n",
    "t_critical = t.ppf((1 + confidence_level) / 2, df)\n",
    "\n",
    "# Calculate the standard error\n",
    "standard_error = sample_std_dev / np.sqrt(sample_size)\n",
    "\n",
    "# Calculate the confidence interval\n",
    "lower_bound = sample_mean - t_critical * standard_error\n",
    "upper_bound = sample_mean + t_critical * standard_error\n",
    "\n",
    "# Display the results\n",
    "print(f\"Population Mean Revenue Estimate: ${sample_mean:.2f}\")\n",
    "print(f\"95% Confidence Interval: ${lower_bound:.2f} to ${upper_bound:.2f}\")\n"
   ]
  },
  {
   "cell_type": "raw",
   "id": "2be89382-54e7-44c0-bf9d-65b2ef0ab51c",
   "metadata": {},
   "source": [
    "Q14. A researcher hypothesizes that a new drug will decrease blood pressure by 10 mmHg. They conduct a\n",
    "clinical trial with 100 patients and find that the sample mean decrease in blood pressure is 8 mmHg with a\n",
    "standard deviation of 3 mmHg. Test the hypothesis with a significance level of 0.05."
   ]
  },
  {
   "cell_type": "code",
   "execution_count": 8,
   "id": "29a786ca-bde2-4538-b239-86ba6446c31c",
   "metadata": {},
   "outputs": [
    {
     "name": "stdout",
     "output_type": "stream",
     "text": [
      "Reject the null hypothesis. The new drug decreases blood pressure significantly.\n"
     ]
    }
   ],
   "source": [
    "import numpy as np\n",
    "from scipy.stats import t\n",
    "\n",
    "# Given data\n",
    "sample_mean = 8\n",
    "population_mean = 10\n",
    "sample_std_dev = 3\n",
    "sample_size = 100\n",
    "significance_level = 0.05\n",
    "\n",
    "# Calculate the t-statistic\n",
    "standard_error = sample_std_dev / np.sqrt(sample_size)\n",
    "t_statistic = (sample_mean - population_mean) / standard_error\n",
    "\n",
    "# Calculate the degrees of freedom\n",
    "df = sample_size - 1\n",
    "\n",
    "# Calculate the two-tailed p-value\n",
    "p_value = 2 * (1 - t.cdf(abs(t_statistic), df))\n",
    "\n",
    "# Compare p-value with significance level\n",
    "if p_value < significance_level:\n",
    "    print(\"Reject the null hypothesis. The new drug decreases blood pressure significantly.\")\n",
    "else:\n",
    "    print(\"Fail to reject the null hypothesis. There is no significant evidence that the new drug decreases blood pressure by 10 mmHg.\")\n"
   ]
  },
  {
   "cell_type": "raw",
   "id": "1883497e-6af8-444e-9412-2fee29a1a53c",
   "metadata": {},
   "source": [
    "Q15. An electronics company produces a certain type of product with a mean weight of 5 pounds and a\n",
    "standard deviation of 0.5 pounds. A random sample of 25 products is taken, and the sample mean weight\n",
    "is found to be 4.8 pounds. Test the hypothesis that the true mean weight of the products is less than 5\n",
    "pounds with a significance level of 0.01."
   ]
  },
  {
   "cell_type": "code",
   "execution_count": 9,
   "id": "fca05476-298e-4fd8-b3c5-9c59cc5ee0b5",
   "metadata": {},
   "outputs": [
    {
     "name": "stdout",
     "output_type": "stream",
     "text": [
      "Fail to reject the null hypothesis. There is no significant evidence that the true mean weight of the products is less than 5 pounds.\n"
     ]
    }
   ],
   "source": [
    "import numpy as np\n",
    "from scipy.stats import t\n",
    "\n",
    "# Given data\n",
    "population_mean = 5\n",
    "population_std_dev = 0.5\n",
    "sample_mean = 4.8\n",
    "sample_size = 25\n",
    "significance_level = 0.01\n",
    "\n",
    "# Calculate the standard error\n",
    "standard_error = population_std_dev / np.sqrt(sample_size)\n",
    "\n",
    "# Calculate the t-statistic\n",
    "t_statistic = (sample_mean - population_mean) / standard_error\n",
    "\n",
    "# Calculate the degrees of freedom\n",
    "df = sample_size - 1\n",
    "\n",
    "# Calculate the left-tailed p-value\n",
    "p_value = t.cdf(t_statistic, df)\n",
    "\n",
    "# Compare p-value with significance level\n",
    "if p_value < significance_level:\n",
    "    print(\"Reject the null hypothesis. The true mean weight of the products is less than 5 pounds.\")\n",
    "else:\n",
    "    print(\"Fail to reject the null hypothesis. There is no significant evidence that the true mean weight of the products is less than 5 pounds.\")\n"
   ]
  },
  {
   "cell_type": "raw",
   "id": "116b894f-08a1-4ab6-a939-332d16372694",
   "metadata": {},
   "source": [
    "Q16. Two groups of students are given different study materials to prepare for a test. The first group (n1 =\n",
    "30) has a mean score of 80 with a standard deviation of 10, and the second group (n2 = 40) has a mean\n",
    "score of 75 with a standard deviation of 8. Test the hypothesis that the population means for the two\n",
    "groups are equal with a significance level of 0.01."
   ]
  },
  {
   "cell_type": "code",
   "execution_count": 10,
   "id": "d0414b52-04a9-489e-bf39-c879d5dcdace",
   "metadata": {},
   "outputs": [
    {
     "name": "stdout",
     "output_type": "stream",
     "text": [
      "Fail to reject the null hypothesis. There is no significant evidence that the population means of the two groups are different.\n"
     ]
    }
   ],
   "source": [
    "import numpy as np\n",
    "from scipy.stats import t\n",
    "\n",
    "# Given data for group 1\n",
    "sample_mean1 = 80\n",
    "sample_std_dev1 = 10\n",
    "sample_size1 = 30\n",
    "\n",
    "# Given data for group 2\n",
    "sample_mean2 = 75\n",
    "sample_std_dev2 = 8\n",
    "sample_size2 = 40\n",
    "\n",
    "# Significance level\n",
    "significance_level = 0.01\n",
    "\n",
    "# Calculate the pooled standard deviation (pooled variance)\n",
    "pooled_std_dev = np.sqrt(((sample_std_dev1 ** 2 * (sample_size1 - 1)) + (sample_std_dev2 ** 2 * (sample_size2 - 1))) / (sample_size1 + sample_size2 - 2))\n",
    "\n",
    "# Calculate the standard error\n",
    "standard_error = pooled_std_dev * np.sqrt((1 / sample_size1) + (1 / sample_size2))\n",
    "\n",
    "# Calculate the t-statistic\n",
    "t_statistic = (sample_mean1 - sample_mean2) / standard_error\n",
    "\n",
    "# Calculate the degrees of freedom\n",
    "df = sample_size1 + sample_size2 - 2\n",
    "\n",
    "# Calculate the two-tailed p-value\n",
    "p_value = 2 * (1 - t.cdf(abs(t_statistic), df))\n",
    "\n",
    "# Compare p-value with significance level\n",
    "if p_value < significance_level:\n",
    "    print(\"Reject the null hypothesis. The population means of the two groups are not equal.\")\n",
    "else:\n",
    "    print(\"Fail to reject the null hypothesis. There is no significant evidence that the population means of the two groups are different.\")\n"
   ]
  },
  {
   "cell_type": "raw",
   "id": "54b37617-a856-4537-8dbc-2ce7269e9724",
   "metadata": {},
   "source": [
    "Q17. A marketing company wants to estimate the average number of ads watched by viewers during a TV\n",
    "program. They take a random sample of 50 viewers and find that the sample mean is 4 with a standard\n",
    "deviation of 1.5. Estimate the population mean with a 99% confidence interval."
   ]
  },
  {
   "cell_type": "code",
   "execution_count": 11,
   "id": "c9ef16e4-d6ff-4a79-affe-6d944fae0c0a",
   "metadata": {},
   "outputs": [
    {
     "name": "stdout",
     "output_type": "stream",
     "text": [
      "Population Mean Estimate: 4.00\n",
      "99% Confidence Interval: 3.43 to 4.57\n"
     ]
    }
   ],
   "source": [
    "import numpy as np\n",
    "from scipy.stats import t\n",
    "\n",
    "# Given data\n",
    "sample_mean = 4\n",
    "sample_std_dev = 1.5\n",
    "sample_size = 50\n",
    "confidence_level = 0.99\n",
    "\n",
    "# Calculate the critical value (t_critical)\n",
    "df = sample_size - 1\n",
    "t_critical = t.ppf((1 + confidence_level) / 2, df)\n",
    "\n",
    "# Calculate the standard error\n",
    "standard_error = sample_std_dev / np.sqrt(sample_size)\n",
    "\n",
    "# Calculate the confidence interval\n",
    "lower_bound = sample_mean - t_critical * standard_error\n",
    "upper_bound = sample_mean + t_critical * standard_error\n",
    "\n",
    "# Display the results\n",
    "print(f\"Population Mean Estimate: {sample_mean:.2f}\")\n",
    "print(f\"99% Confidence Interval: {lower_bound:.2f} to {upper_bound:.2f}\")\n"
   ]
  },
  {
   "cell_type": "code",
   "execution_count": null,
   "id": "b0dac9d3-a689-46aa-ae09-0c0302279fa2",
   "metadata": {},
   "outputs": [],
   "source": []
  }
 ],
 "metadata": {
  "kernelspec": {
   "display_name": "Python 3 (ipykernel)",
   "language": "python",
   "name": "python3"
  },
  "language_info": {
   "codemirror_mode": {
    "name": "ipython",
    "version": 3
   },
   "file_extension": ".py",
   "mimetype": "text/x-python",
   "name": "python",
   "nbconvert_exporter": "python",
   "pygments_lexer": "ipython3",
   "version": "3.10.8"
  }
 },
 "nbformat": 4,
 "nbformat_minor": 5
}
