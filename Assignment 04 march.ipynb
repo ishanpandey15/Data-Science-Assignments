{
 "cells": [
  {
   "cell_type": "raw",
   "id": "2e4c7385-5aea-4bb3-bbb8-5b5aacdee34d",
   "metadata": {},
   "source": [
    "Q1. Load the \"titanic\" dataset using the load_dataset function of seaborn. Use Plotly express to plot a\n",
    "scatter plot for age and fare columns in the titanic dataset."
   ]
  },
  {
   "cell_type": "raw",
   "id": "7dbca740-35b6-4a73-a4b4-1dcf872b8142",
   "metadata": {},
   "source": [
    "import pandas as pd\n",
    "import plotly.express as px\n",
    "\n",
    "# Load the Titanic dataset using pandas\n",
    "titanic_data = pd.read_csv('titanic.csv')\n",
    "\n",
    "# Create a scatter plot using Plotly Express\n",
    "scatter_plot = px.scatter(titanic_data, x='age', y='fare')\n",
    "\n",
    "# Show the plot\n",
    "scatter_plot.show()\n"
   ]
  },
  {
   "cell_type": "raw",
   "id": "dbccab2a-fbc4-4ce5-a48c-dbc91c8a0a09",
   "metadata": {},
   "source": [
    "Q2. Using the tips dataset in the Plotly library, plot a box plot using Plotly express."
   ]
  },
  {
   "cell_type": "raw",
   "id": "e8d8296f-6ac9-4ce0-a344-5caef68744e9",
   "metadata": {},
   "source": [
    "import plotly.express as px\n",
    "\n",
    "# Load the tips dataset from Plotly\n",
    "tips_data = px.data.tips\n",
    "\n",
    "# Create a box plot using Plotly Express\n",
    "box_plot = px.box(tips_data, x=\"day\", y=\"total_bill\")\n",
    "\n",
    "# Show the plot\n",
    "box_plot.show()\n"
   ]
  },
  {
   "cell_type": "raw",
   "id": "a55d02bc-3714-425a-a303-4375ea3fd98b",
   "metadata": {},
   "source": [
    "Q3. Using the tips dataset in the Plotly library, Plot a histogram for x= \"sex\" and y=\"total_bill\" column in\n",
    "the tips dataset. Also, use the \"smoker\" column with the pattern_shape parameter and the \"day\"\n",
    "column with the color parameter."
   ]
  },
  {
   "cell_type": "raw",
   "id": "c85cfd96-7063-491d-8132-51be96990f98",
   "metadata": {},
   "source": [
    "import plotly.express as px\n",
    "\n",
    "# Load the tips dataset from Plotly\n",
    "tips_data = px.data.tips\n",
    "\n",
    "# Create a histogram using Plotly Express\n",
    "histogram = px.histogram(\n",
    "    tips_data,\n",
    "    x=\"sex\",\n",
    "    y=\"total_bill\",\n",
    "    pattern_shape=\"smoker\",\n",
    "    color=\"day\",\n",
    "    barmode=\"group\",\n",
    ")\n",
    "\n",
    "# Show the plot\n",
    "histogram.show()\n"
   ]
  },
  {
   "cell_type": "raw",
   "id": "3aa61e61-a96a-4b73-a17b-6e81ffa2a075",
   "metadata": {},
   "source": [
    "Q4. Using the iris dataset in the Plotly library, Plot a scatter matrix plot, using the \"species\" column for\n",
    "the color parameter."
   ]
  },
  {
   "cell_type": "raw",
   "id": "924b1f68-abff-41d7-bd6a-e5ef0bdf479e",
   "metadata": {},
   "source": [
    "import plotly.express as px\n",
    "\n",
    "# Load the iris dataset from Plotly\n",
    "iris_data = px.data.iris()\n",
    "\n",
    "# Create a scatter matrix plot using Plotly Express\n",
    "scatter_matrix = px.scatter_matrix(\n",
    "    iris_data,\n",
    "    dimensions=[\"sepal_width\", \"sepal_length\", \"petal_width\", \"petal_length\"],\n",
    "    color=\"species\"\n",
    ")\n",
    "\n",
    "# Show the plot\n",
    "scatter_matrix.show()\n"
   ]
  },
  {
   "cell_type": "raw",
   "id": "e47a40f1-1e00-4099-a10c-a428e532ea10",
   "metadata": {},
   "source": [
    "Q5. What is Distplot? Using Plotly express, plot a distplot."
   ]
  },
  {
   "cell_type": "raw",
   "id": "41bc9905-00a6-4f03-aa14-8f43c052735f",
   "metadata": {},
   "source": [
    "In Plotly Express, the distplot function was used to create a distribution plot. However, as of Plotly version 4.0, the distplot function has been deprecated and replaced with the histogram function.\n",
    "\n",
    "\n",
    "import plotly.express as px\n",
    "\n",
    "# Create a sample dataset\n",
    "data = [1, 2, 2, 3, 3, 3, 4, 4, 4, 4, 5, 5, 5, 5, 5]\n",
    "\n",
    "# Create a distribution plot using Plotly Express\n",
    "dist_plot = px.histogram(data, nbins=10)\n",
    "\n",
    "# Show the plot\n",
    "dist_plot.show()\n"
   ]
  },
  {
   "cell_type": "code",
   "execution_count": null,
   "id": "895f7bc1-accf-4b30-8a5a-d44243017615",
   "metadata": {},
   "outputs": [],
   "source": []
  }
 ],
 "metadata": {
  "kernelspec": {
   "display_name": "Python 3 (ipykernel)",
   "language": "python",
   "name": "python3"
  },
  "language_info": {
   "codemirror_mode": {
    "name": "ipython",
    "version": 3
   },
   "file_extension": ".py",
   "mimetype": "text/x-python",
   "name": "python",
   "nbconvert_exporter": "python",
   "pygments_lexer": "ipython3",
   "version": "3.10.8"
  }
 },
 "nbformat": 4,
 "nbformat_minor": 5
}
