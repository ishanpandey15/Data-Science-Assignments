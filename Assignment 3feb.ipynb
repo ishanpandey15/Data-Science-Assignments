{
 "cells": [
  {
   "cell_type": "markdown",
   "id": "30f57187-fad1-426a-b795-add07b708f49",
   "metadata": {},
   "source": [
    "Q1. Which keyword is used to create a function? Create a function to return a list of odd numbers in the\n",
    "range of 1 to 25."
   ]
  },
  {
   "cell_type": "markdown",
   "id": "a5525033-8180-4500-bec1-d54c773f2b9e",
   "metadata": {},
   "source": [
    "Def keyword is used to create a function"
   ]
  },
  {
   "cell_type": "code",
   "execution_count": 11,
   "id": "34220c6c-98cb-4fcc-a8a9-b13e2cf0a6cc",
   "metadata": {},
   "outputs": [
    {
     "name": "stdout",
     "output_type": "stream",
     "text": [
      "[1, 3, 5, 7, 9, 11, 13, 15, 17, 19, 21, 23, 25]\n"
     ]
    }
   ],
   "source": [
    "def test():\n",
    "    l1 = []\n",
    "    for i in range(1, 26):\n",
    "        if i % 2 != 0:\n",
    "            l1.append(i)\n",
    "    return(l1)\n",
    "result = test()\n",
    "print(result)"
   ]
  },
  {
   "cell_type": "markdown",
   "id": "c742bb1a-06f9-4fb8-8c64-a1f26ebc6d3e",
   "metadata": {},
   "source": [
    "Q2. Why *args and **kwargs is used in some functions? Create a function each for *args and **kwargs\n",
    "to demonstrate their use."
   ]
  },
  {
   "cell_type": "markdown",
   "id": "499e6ded-bf86-446c-b690-52509ced3eee",
   "metadata": {},
   "source": [
    "*args and **kwargs are used to pass a variable number of arguments to a function. They allow you to handle an arbitrary number of positional and keyword arguments, respectively."
   ]
  },
  {
   "cell_type": "code",
   "execution_count": 1,
   "id": "e6b2ec63-b148-4aad-9691-c2a15fdacdd9",
   "metadata": {},
   "outputs": [
    {
     "name": "stdout",
     "output_type": "stream",
     "text": [
      "15\n",
      "100\n"
     ]
    }
   ],
   "source": [
    "def sum_numbers(*args):\n",
    "    total = 0\n",
    "    for num in args:\n",
    "        total += num\n",
    "    return total\n",
    "\n",
    "result = sum_numbers(1, 2, 3, 4, 5)\n",
    "print(result)  \n",
    "\n",
    "result = sum_numbers(10, 20, 30, 40)\n",
    "print(result)\n"
   ]
  },
  {
   "cell_type": "code",
   "execution_count": 2,
   "id": "9cde7e83-73b7-47db-8f3e-77f70f77508b",
   "metadata": {},
   "outputs": [
    {
     "name": "stdout",
     "output_type": "stream",
     "text": [
      "name: John\n",
      "age: 30\n",
      "country: USA\n",
      "product: Keyboard\n",
      "price: 29.99\n",
      "brand: Logitech\n"
     ]
    }
   ],
   "source": [
    "def display_info(**kwargs):\n",
    "    for key, value in kwargs.items():\n",
    "        print(key + \": \" + str(value))\n",
    "\n",
    "display_info(name=\"John\", age=30, country=\"USA\")\n",
    "\n",
    "\n",
    "display_info(product=\"Keyboard\", price=29.99, brand=\"Logitech\")\n"
   ]
  },
  {
   "cell_type": "markdown",
   "id": "19b1102c-3fbd-4e25-89b0-1a0e72107f44",
   "metadata": {},
   "source": [
    "Q3. What is an iterator in python? Name the method used to initialise the iterator object and the method\n",
    "used for iteration. Use these methods to print the first five elements of the given list [2, 4, 6, 8, 10, 12, 14,\n",
    "16, 18, 20]."
   ]
  },
  {
   "cell_type": "markdown",
   "id": "0be22bdd-5591-4113-adcf-2beaf3c55296",
   "metadata": {},
   "source": [
    "An iterator is an object that allows you to traverse through a sequence of elements one at a time. It provides a way to access the elements of a container (such as a list, tuple, or dictionary) in a sequential manner without the need to know the underlying structure of the container.\n",
    "\n",
    "\n",
    "The method used to initialize the iterator object is __iter__(), and the method used for iteration is __next__()."
   ]
  },
  {
   "cell_type": "code",
   "execution_count": 1,
   "id": "1e065ce8-9379-4a7f-99ab-32c190ef6a83",
   "metadata": {},
   "outputs": [
    {
     "name": "stdout",
     "output_type": "stream",
     "text": [
      "2\n",
      "4\n",
      "6\n",
      "8\n",
      "10\n"
     ]
    }
   ],
   "source": [
    "class ListIterator:\n",
    "    def __init__(self, lst):\n",
    "        self.lst = lst\n",
    "        self.index = 0\n",
    "\n",
    "    def __iter__(self):\n",
    "        return self\n",
    "\n",
    "    def __next__(self):\n",
    "        if self.index < len(self.lst):\n",
    "            value = self.lst[self.index]\n",
    "            self.index += 1\n",
    "            return value\n",
    "        else:\n",
    "            raise StopIteration\n",
    "\n",
    "# Creating an iterator object\n",
    "numbers = [2, 4, 6, 8, 10, 12, 14, 16, 18, 20]\n",
    "iterator = ListIterator(numbers)\n",
    "\n",
    "# Iterating and printing the first five elements\n",
    "for _ in range(5):\n",
    "    print(next(iterator))\n"
   ]
  },
  {
   "cell_type": "markdown",
   "id": "62d86199-66e9-4404-ae68-1163732095ff",
   "metadata": {},
   "source": [
    "Q4. What is a generator function in python? Why yield keyword is used? Give an example of a generator\n",
    "function."
   ]
  },
  {
   "cell_type": "markdown",
   "id": "6a3c8d57-44a2-4c2c-9499-8c87e4e68a32",
   "metadata": {},
   "source": [
    "In Python, a generator function is a special type of function that generates a sequence of values using the yield keyword\n",
    "The yield keyword is used in a generator function to indicate the points at which the function should yield a value. When a generator function is called, it returns an iterator object, which can be iterated over using a loop or other iterator-consuming mechanisms"
   ]
  },
  {
   "cell_type": "code",
   "execution_count": 2,
   "id": "2d4e4923-ffe6-48ed-aab1-24aec1da8566",
   "metadata": {},
   "outputs": [
    {
     "name": "stdout",
     "output_type": "stream",
     "text": [
      "0\n",
      "2\n",
      "4\n",
      "6\n",
      "8\n"
     ]
    }
   ],
   "source": [
    "def even_numbers_generator(n):\n",
    "    for num in range(n):\n",
    "        if num % 2 == 0:\n",
    "            yield num\n",
    "\n",
    "# Using the generator function to generate even numbers\n",
    "even_gen = even_numbers_generator(10)\n",
    "\n",
    "# Iterating over the generated values\n",
    "for even_num in even_gen:\n",
    "    print(even_num)\n"
   ]
  },
  {
   "cell_type": "markdown",
   "id": "cce80f90-85f7-4880-82b2-a0d351e27520",
   "metadata": {},
   "source": [
    "Q5. Create a generator function for prime numbers less than 1000. Use the next() method to print the\n",
    "first 20 prime numbers."
   ]
  },
  {
   "cell_type": "code",
   "execution_count": 3,
   "id": "1271f6e1-b7e5-4628-8530-61e46cb2ab8c",
   "metadata": {},
   "outputs": [
    {
     "name": "stdout",
     "output_type": "stream",
     "text": [
      "2\n",
      "3\n",
      "5\n",
      "7\n",
      "11\n",
      "13\n",
      "17\n",
      "19\n",
      "23\n",
      "29\n",
      "31\n",
      "37\n",
      "41\n",
      "43\n",
      "47\n",
      "53\n",
      "59\n",
      "61\n",
      "67\n",
      "71\n"
     ]
    }
   ],
   "source": [
    "def prime_generator():\n",
    "    primes = []\n",
    "    num = 2\n",
    "    while True:\n",
    "        if all(num % prime != 0 for prime in primes):\n",
    "            primes.append(num)\n",
    "            yield num\n",
    "        num += 1\n",
    "\n",
    "# Creating the prime number generator\n",
    "prime_gen = prime_generator()\n",
    "\n",
    "# Printing the first 20 prime numbers\n",
    "for _ in range(20):\n",
    "    print(next(prime_gen))\n"
   ]
  },
  {
   "cell_type": "markdown",
   "id": "ca3ca1eb-007a-4c95-9a0f-8a3e8126193a",
   "metadata": {},
   "source": [
    "Q6. Write a python program to print the first 10 Fibonacci numbers using a while loop."
   ]
  },
  {
   "cell_type": "code",
   "execution_count": 22,
   "id": "12046356-250e-4028-89dc-5e035f80d5e7",
   "metadata": {},
   "outputs": [],
   "source": [
    "def test(n):\n",
    "    a,b = 0,1\n",
    "    for i in range(n):\n",
    "        yield a\n",
    "        a,b=b,a+b"
   ]
  },
  {
   "cell_type": "code",
   "execution_count": 23,
   "id": "829fc98a-e24f-42f8-8708-e382afcb71d0",
   "metadata": {},
   "outputs": [
    {
     "name": "stdout",
     "output_type": "stream",
     "text": [
      "0\n",
      "1\n",
      "1\n",
      "2\n",
      "3\n",
      "5\n",
      "8\n",
      "13\n",
      "21\n",
      "34\n"
     ]
    }
   ],
   "source": [
    "for i in test(10):\n",
    "    print(i)"
   ]
  },
  {
   "cell_type": "markdown",
   "id": "9f50b6b8-a93c-4be6-9833-18df57d36532",
   "metadata": {},
   "source": [
    "Q7. Write a List Comprehension to iterate through the given string: ‘pwskills’."
   ]
  },
  {
   "cell_type": "code",
   "execution_count": 24,
   "id": "905a24e2-1e83-495f-869c-287d7a5c74fd",
   "metadata": {},
   "outputs": [
    {
     "name": "stdout",
     "output_type": "stream",
     "text": [
      "['p', 'w', 's', 'k', 'i', 'l', 'l', 's']\n"
     ]
    }
   ],
   "source": [
    "string = \"pwskills\"\n",
    "result = [char for char in string]\n",
    "print(result) "
   ]
  },
  {
   "cell_type": "markdown",
   "id": "616478e2-9c81-43b8-943c-9fccf752b783",
   "metadata": {},
   "source": [
    "Q8. Write a python program to check whether a given number is Palindrome or not using a while loop."
   ]
  },
  {
   "cell_type": "code",
   "execution_count": null,
   "id": "1ac20b58-3be7-47be-9865-6b89831bd3ef",
   "metadata": {},
   "outputs": [],
   "source": []
  }
 ],
 "metadata": {
  "kernelspec": {
   "display_name": "Python 3 (ipykernel)",
   "language": "python",
   "name": "python3"
  },
  "language_info": {
   "codemirror_mode": {
    "name": "ipython",
    "version": 3
   },
   "file_extension": ".py",
   "mimetype": "text/x-python",
   "name": "python",
   "nbconvert_exporter": "python",
   "pygments_lexer": "ipython3",
   "version": "3.10.8"
  }
 },
 "nbformat": 4,
 "nbformat_minor": 5
}
