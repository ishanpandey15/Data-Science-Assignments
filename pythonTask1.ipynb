{
 "cells": [
  {
   "cell_type": "markdown",
   "id": "fa65e4c8-d677-4087-9f2c-e4553a127f25",
   "metadata": {},
   "source": [
    "Q1. Create a function which will take a list as an argument and return the product of all the numbers\n",
    "after creating a flat list.\n",
    "Use the below-given list as an argument for your function.\n",
    "list1 = [1,2,3,4, [44,55,66, True], False, (34,56,78,89,34), {1,2,3,3,2,1}, {1:34, \"key2\": [55, 67, 78, 89], 4: (45,\n",
    "22, 61, 34)}, [56, 'data science'], 'Machine Learning']"
   ]
  },
  {
   "cell_type": "code",
   "execution_count": 2,
   "id": "a915feb3-df50-4615-81ac-40b8cd31d672",
   "metadata": {},
   "outputs": [
    {
     "name": "stdout",
     "output_type": "stream",
     "text": [
      "Product: 0\n"
     ]
    }
   ],
   "source": [
    "def calculate_product(lst):\n",
    "    flattened_list = []\n",
    "    \n",
    "    def flatten_list(lst):\n",
    "        for item in lst:\n",
    "            if isinstance(item, list):\n",
    "                flatten_list(item)\n",
    "            else:\n",
    "                flattened_list.append(item)\n",
    "    \n",
    "    flatten_list(lst)\n",
    "    \n",
    "    product = 1\n",
    "    for num in flattened_list:\n",
    "        if isinstance(num, (int, float)):\n",
    "            product *= num\n",
    "    \n",
    "    return product\n",
    "\n",
    "# Test the function\n",
    "list1 = [1, 2, 3, 4, [44, 55, 66, True], False, (34, 56, 78, 89, 34), {1, 2, 3, 3, 2, 1}, {1: 34, \"key2\": [55, 67, 78, 89], 4: (45, 22, 61, 34)}, [56, 'data science'], 'Machine Learning']\n",
    "\n",
    "result = calculate_product(list1)\n",
    "print(\"Product:\", result)\n"
   ]
  },
  {
   "cell_type": "markdown",
   "id": "3020d445-8d74-4605-9718-871777a41308",
   "metadata": {},
   "source": [
    "Q2. Write a python program for encrypting a message sent to you by your friend. The logic of encryption\n",
    "should be such that, for a the output should be z. For b, the output should be y. For c, the output should\n",
    "be x respectively. Also, the whitespace should be replaced with a dollar sign. Keep the punctuation\n",
    "marks unchanged.\n",
    "Input Sentence: I want to become a Data Scientist.\n",
    "Encrypt the above input sentence using the program you just created."
   ]
  },
  {
   "cell_type": "code",
   "execution_count": 3,
   "id": "8da2ef43-ec96-4e54-98a6-d2c07c82f4e4",
   "metadata": {},
   "outputs": [
    {
     "name": "stdout",
     "output_type": "stream",
     "text": [
      "Encrypted Sentence: R$dzmg$gl$yvxlnv$z$Wzgz$Hxrvmgrhg.\n"
     ]
    }
   ],
   "source": [
    "def encrypt_message(message):\n",
    "    encrypted_message = \"\"\n",
    "    for char in message:\n",
    "        if char.isalpha():\n",
    "            if char.isupper():\n",
    "                encrypted_char = chr(ord('Z') - (ord(char) - ord('A')))\n",
    "            else:\n",
    "                encrypted_char = chr(ord('z') - (ord(char) - ord('a')))\n",
    "        elif char == ' ':\n",
    "            encrypted_char = '$'\n",
    "        else:\n",
    "            encrypted_char = char\n",
    "        encrypted_message += encrypted_char\n",
    "    return encrypted_message\n",
    "\n",
    "\n",
    "# Test the program\n",
    "input_sentence = \"I want to become a Data Scientist.\"\n",
    "encrypted_sentence = encrypt_message(input_sentence)\n",
    "print(\"Encrypted Sentence:\", encrypted_sentence)\n"
   ]
  },
  {
   "cell_type": "code",
   "execution_count": null,
   "id": "4a13fc79-b706-49b8-81e7-4e4d5a03218e",
   "metadata": {},
   "outputs": [],
   "source": []
  }
 ],
 "metadata": {
  "kernelspec": {
   "display_name": "Python 3 (ipykernel)",
   "language": "python",
   "name": "python3"
  },
  "language_info": {
   "codemirror_mode": {
    "name": "ipython",
    "version": 3
   },
   "file_extension": ".py",
   "mimetype": "text/x-python",
   "name": "python",
   "nbconvert_exporter": "python",
   "pygments_lexer": "ipython3",
   "version": "3.10.8"
  }
 },
 "nbformat": 4,
 "nbformat_minor": 5
}
