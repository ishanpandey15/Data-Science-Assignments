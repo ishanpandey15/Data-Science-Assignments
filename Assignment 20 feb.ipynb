{
 "cells": [
  {
   "cell_type": "markdown",
   "id": "0c8f48ca-434a-49ca-9892-d746318cd5ca",
   "metadata": {},
   "source": [
    "Q1. Explain GET and POST methods."
   ]
  },
  {
   "cell_type": "markdown",
   "id": "aca29e68-19e3-49c8-87db-1dc6f1366e07",
   "metadata": {},
   "source": [
    "GET Method:\n",
    "The GET method is used to retrieve data from a server. When a client sends a GET request, it asks the server to send back a specific resource, such as a web page or a file. The data is appended to the URL as query parameters\n",
    "\n",
    "\n",
    "POST Method:\n",
    "The POST method is used to send data to a server for processing. When a client sends a POST request, it includes the data in the body of the request, rather than in the URL. This makes it suitable for sending large amounts of data or sensitive information, such as login credentials or form submissions."
   ]
  },
  {
   "cell_type": "markdown",
   "id": "6aac42bf-addc-4e04-8205-6bfe8a0cd0c3",
   "metadata": {},
   "source": [
    "Q2. Why is request used in Flask?"
   ]
  },
  {
   "cell_type": "markdown",
   "id": "7bb37a62-e5dc-4362-873e-1fe18abcbe0d",
   "metadata": {},
   "source": [
    "In the Flask web framework, the request object is used to handle incoming HTTP requests made by clients (such as web browsers or API clients). It provides access to the data and metadata associated with the request, allowing developers to extract and manipulate the information sent by the client.\n",
    "\n",
    "The request object in Flask offers several functionalities that are essential for web development:\n",
    "\n",
    "Accessing Form Data: The request object allows you to access form data submitted by the client. It provides methods and attributes to retrieve values from form fields, such as request.form, request.args, or request.values. This is particularly useful when processing HTML forms or handling AJAX requests.\n",
    "\n",
    "Handling Query Parameters: With the request object, you can easily retrieve query parameters included in the URL. Query parameters are typically used in GET requests to pass additional information to the server. Flask provides access to these parameters through the request.args attribute"
   ]
  },
  {
   "cell_type": "markdown",
   "id": "55ccf304-737d-4542-8b86-4028bb3764aa",
   "metadata": {},
   "source": [
    "Q3. Why is redirect() used in Flask?"
   ]
  },
  {
   "cell_type": "markdown",
   "id": "f64d9890-7750-491c-8939-77449124dca7",
   "metadata": {},
   "source": [
    "\n",
    "In Flask, the redirect() function is used to redirect the client's browser to a different URL. It is a way to instruct the browser to make a new request to a different endpoint or URL, typically used after performing a certain action or completing a task. The redirect() function is particularly useful in scenarios such as:\n",
    "\n",
    "Post-Redirect-Get Pattern: The most common use of redirect() is in the Post-Redirect-Get (PRG) pattern. When a form is submitted, and the server processes the data, it is often desirable to redirect the user to a different page to avoid the resubmission of the form when refreshing the page. After processing the form data, the server can use redirect() to send the user to a different URL, typically a \"success\" page or a page displaying the updated data.\n",
    "\n",
    "URL Navigation: Redirects can be used to guide users to different parts of a website or application. For example, after a user successfully logs in, the server can redirect them to their account dashboard or a specific page. Similarly, after completing a purchase, the user can be redirected to an order confirmation page.\n",
    "\n",
    "Handling Routes or Endpoints: In some cases, a redirect may be necessary to handle different routes or endpoints. For instance, if a user accesses a URL that has been deprecated or changed, the server can use redirect() to send them to the updated URL or to a relevant page that provides them with appropriate information.\n",
    "\n",
    "External Redirects: Flask's redirect() function can also be used to redirect users to external URLs. This is useful when you want to send users to another website or service. For example, after clicking a \"Sign in with Google\" button, the server can redirect the user to Google's authentication page."
   ]
  },
  {
   "cell_type": "markdown",
   "id": "84a76102-72da-4aa9-b9c9-1b4dc8e4b200",
   "metadata": {},
   "source": [
    "Q4. What are templates in Flask? Why is the render_template() function used?"
   ]
  },
  {
   "cell_type": "markdown",
   "id": "a7936631-48e8-448b-a714-d8cf249141f2",
   "metadata": {},
   "source": [
    "In Flask, templates are files that contain the structure and presentation logic of web pages. They are used to separate the presentation layer from the application logic, allowing developers to create dynamic and reusable web pages. Templates in Flask use a templating engine (such as Jinja2) that allows for the insertion of dynamic content and logic within HTML files.\n",
    "\n",
    "Here's why templates are important in Flask:\n",
    "\n",
    "Separation of Concerns: Templates enable the separation of the application logic (written in Python) from the presentation layer (HTML and CSS). This separation allows for a cleaner and more maintainable codebase, as developers can focus on specific aspects of the application without getting overwhelmed by mixing code and presentation logic.\n",
    "\n",
    "Dynamic Content: With templates, you can easily inject dynamic content into web pages. Flask templates support placeholders or variables that can be filled with data from the application. This allows you to create dynamic web pages that adapt based on user input, database queries, or other factors.\n",
    "\n",
    "Code Reusability: Templates promote code reusability by allowing you to define common components or layouts that can be used across multiple pages. For example, you can define a header and footer template that is included in multiple pages, reducing redundancy and making it easier to maintain consistent design and functionality.\n",
    "\n",
    "Template Inheritance: Flask templates support template inheritance, which allows you to define a base template with common elements and then extend or override specific blocks within child templates. This enables efficient code organization and reduces duplication of code across multiple pages."
   ]
  },
  {
   "cell_type": "markdown",
   "id": "cfc45535-3fc4-4397-aad4-650b53467a8a",
   "metadata": {},
   "source": [
    "Q5. Create a simple API. Use Postman to test it. Attach the screenshot of the output in the Jupyter Notebook."
   ]
  },
  {
   "cell_type": "code",
   "execution_count": 1,
   "id": "f76f1e07-1573-45ca-b6d3-e44f180be4b7",
   "metadata": {},
   "outputs": [
    {
     "name": "stdout",
     "output_type": "stream",
     "text": [
      "Collecting Flask\n",
      "  Downloading Flask-2.3.2-py3-none-any.whl (96 kB)\n",
      "\u001b[2K     \u001b[90m━━━━━━━━━━━━━━━━━━━━━━━━━━━━━━━━━━━━━━━━\u001b[0m \u001b[32m96.9/96.9 kB\u001b[0m \u001b[31m5.0 MB/s\u001b[0m eta \u001b[36m0:00:00\u001b[0m\n",
      "\u001b[?25hCollecting blinker>=1.6.2\n",
      "  Downloading blinker-1.6.2-py3-none-any.whl (13 kB)\n",
      "Collecting Werkzeug>=2.3.3\n",
      "  Downloading Werkzeug-2.3.6-py3-none-any.whl (242 kB)\n",
      "\u001b[2K     \u001b[90m━━━━━━━━━━━━━━━━━━━━━━━━━━━━━━━━━━━━━━\u001b[0m \u001b[32m242.5/242.5 kB\u001b[0m \u001b[31m35.2 MB/s\u001b[0m eta \u001b[36m0:00:00\u001b[0m\n",
      "\u001b[?25hRequirement already satisfied: Jinja2>=3.1.2 in /opt/conda/lib/python3.10/site-packages (from Flask) (3.1.2)\n",
      "Requirement already satisfied: click>=8.1.3 in /opt/conda/lib/python3.10/site-packages (from Flask) (8.1.3)\n",
      "Collecting itsdangerous>=2.1.2\n",
      "  Downloading itsdangerous-2.1.2-py3-none-any.whl (15 kB)\n",
      "Requirement already satisfied: MarkupSafe>=2.0 in /opt/conda/lib/python3.10/site-packages (from Jinja2>=3.1.2->Flask) (2.1.1)\n",
      "Installing collected packages: Werkzeug, itsdangerous, blinker, Flask\n",
      "  Attempting uninstall: blinker\n",
      "    Found existing installation: blinker 1.5\n",
      "    Uninstalling blinker-1.5:\n",
      "      Successfully uninstalled blinker-1.5\n",
      "Successfully installed Flask-2.3.2 Werkzeug-2.3.6 blinker-1.6.2 itsdangerous-2.1.2\n",
      "Note: you may need to restart the kernel to use updated packages.\n"
     ]
    }
   ],
   "source": [
    "pip install Flask"
   ]
  },
  {
   "cell_type": "code",
   "execution_count": null,
   "id": "263e0bcd-a4b0-4a11-a739-e5fe343a8f52",
   "metadata": {},
   "outputs": [
    {
     "name": "stdout",
     "output_type": "stream",
     "text": [
      " * Serving Flask app '__main__'\n",
      " * Debug mode: off\n"
     ]
    },
    {
     "name": "stderr",
     "output_type": "stream",
     "text": [
      "WARNING: This is a development server. Do not use it in a production deployment. Use a production WSGI server instead.\n",
      " * Running on all addresses (0.0.0.0)\n",
      " * Running on http://127.0.0.1:5000\n",
      " * Running on http://172.18.0.5:5000\n",
      "Press CTRL+C to quit\n"
     ]
    }
   ],
   "source": [
    "from flask import Flask\n",
    "from flask import request\n",
    "\n",
    "app = Flask(__name__)\n",
    "\n",
    "@app.route(\"/\")\n",
    "def hello_world():\n",
    "    return \"<h1>Hello, World!</h1>\"\n",
    "if __name__==\"__main__\":\n",
    "    app.run(host=\"0.0.0.0\")\n"
   ]
  },
  {
   "cell_type": "code",
   "execution_count": null,
   "id": "0f963960-77cb-46fe-bcab-1f6984c5b011",
   "metadata": {},
   "outputs": [],
   "source": []
  }
 ],
 "metadata": {
  "kernelspec": {
   "display_name": "Python 3 (ipykernel)",
   "language": "python",
   "name": "python3"
  },
  "language_info": {
   "codemirror_mode": {
    "name": "ipython",
    "version": 3
   },
   "file_extension": ".py",
   "mimetype": "text/x-python",
   "name": "python",
   "nbconvert_exporter": "python",
   "pygments_lexer": "ipython3",
   "version": "3.10.8"
  }
 },
 "nbformat": 4,
 "nbformat_minor": 5
}
