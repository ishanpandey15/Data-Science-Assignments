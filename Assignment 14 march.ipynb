{
 "cells": [
  {
   "cell_type": "markdown",
   "id": "ca216f1c-eb3d-446d-90b1-a178eb039d96",
   "metadata": {},
   "source": [
    "Q1. Write a Python function that takes in two arrays of data and calculates the F-value for a variance ratio\n",
    "test. The function should return the F-value and the corresponding p-value for the test."
   ]
  },
  {
   "cell_type": "code",
   "execution_count": 3,
   "id": "6c808c0c-1b69-4cd5-bb99-112fdca5a217",
   "metadata": {},
   "outputs": [
    {
     "name": "stdout",
     "output_type": "stream",
     "text": [
      "F-value: 2.2471910112359548\n",
      "p-value: 0.17224091187053675\n"
     ]
    }
   ],
   "source": [
    "import numpy as np\n",
    "import scipy.stats as stats\n",
    "\n",
    "def variance_ratio_test(data1, data2):\n",
    "    \"\"\"\n",
    "    Perform a variance ratio test (F-test) on two arrays of data.\n",
    "\n",
    "    Parameters:\n",
    "        data1 (array-like): The first array of data.\n",
    "        data2 (array-like): The second array of data.\n",
    "\n",
    "    Returns:\n",
    "        f_value (float): The calculated F-value.\n",
    "        p_value (float): The corresponding p-value for the test.\n",
    "    \"\"\"\n",
    "    # Convert data to NumPy arrays if not already\n",
    "    data1 = np.array(data1)\n",
    "    data2 = np.array(data2)\n",
    "\n",
    "    # Perform the variance ratio test (F-test)\n",
    "    f_value, p_value = stats.f_oneway(data1, data2)\n",
    "\n",
    "    return f_value, p_value\n",
    "# Example data arrays\n",
    "data_array1 = [12, 15, 18, 20, 22]\n",
    "data_array2 = [8, 10, 14, 16, 19]\n",
    "\n",
    "# Call the function to perform the variance ratio test\n",
    "f_value, p_value = variance_ratio_test(data_array1, data_array2)\n",
    "\n",
    "# Display the results\n",
    "print(\"F-value:\", f_value)\n",
    "print(\"p-value:\", p_value)\n"
   ]
  },
  {
   "cell_type": "markdown",
   "id": "42cf1312-8d0e-4377-98c8-52c5005016d3",
   "metadata": {},
   "source": [
    "Q2. Given a significance level of 0.05 and the degrees of freedom for the numerator and denominator of an\n",
    "F-distribution, write a Python function that returns the critical F-value for a two-tailed test."
   ]
  },
  {
   "cell_type": "code",
   "execution_count": 4,
   "id": "27f768a1-46c6-46bc-a6fb-4ffc7996334f",
   "metadata": {},
   "outputs": [
    {
     "name": "stdout",
     "output_type": "stream",
     "text": [
      "Critical F-value: 4.825621493405406\n"
     ]
    }
   ],
   "source": [
    "import scipy.stats as stats\n",
    "\n",
    "def critical_f_value(alpha, df_num, df_den):\n",
    "    \"\"\"\n",
    "    Calculate the critical F-value for a two-tailed test.\n",
    "\n",
    "    Parameters:\n",
    "        alpha (float): The significance level (e.g., 0.05).\n",
    "        df_num (int): Degrees of freedom for the numerator.\n",
    "        df_den (int): Degrees of freedom for the denominator.\n",
    "\n",
    "    Returns:\n",
    "        critical_f (float): The critical F-value.\n",
    "    \"\"\"\n",
    "    # Calculate the critical F-value using the percent-point function (inverse of the cumulative distribution function)\n",
    "    critical_f = stats.f.ppf(1 - alpha / 2, df_num, df_den)\n",
    "\n",
    "    return critical_f\n",
    "# Given significance level and degrees of freedom\n",
    "alpha = 0.05\n",
    "df_num = 3\n",
    "df_den = 10\n",
    "\n",
    "# Call the function to calculate the critical F-value\n",
    "critical_f = critical_f_value(alpha, df_num, df_den)\n",
    "\n",
    "# Display the critical F-value\n",
    "print(\"Critical F-value:\", critical_f)\n"
   ]
  },
  {
   "cell_type": "markdown",
   "id": "b1130968-a0cd-46b3-af53-490c1861bee4",
   "metadata": {},
   "source": [
    "Q3. Write a Python program that generates random samples from two normal distributions with known\n",
    "\n",
    "variances and uses an F-test to determine if the variances are equal. The program should output the F-\n",
    "value, degrees of freedom, and p-value for the test."
   ]
  },
  {
   "cell_type": "code",
   "execution_count": 5,
   "id": "bbd94003-5b15-48c2-baf0-e99ad5c4214a",
   "metadata": {},
   "outputs": [
    {
     "name": "stdout",
     "output_type": "stream",
     "text": [
      "F-value: 0.009025766762053371\n",
      "Degrees of Freedom (numerator): 1\n",
      "Degrees of Freedom (denominator): 58\n",
      "p-value: 0.9246390932230749\n"
     ]
    }
   ],
   "source": [
    "import numpy as np\n",
    "import scipy.stats as stats\n",
    "\n",
    "def equal_variances_test(sample1_var, sample2_var, sample_size):\n",
    "    \"\"\"\n",
    "    Generate random samples from two normal distributions with known variances\n",
    "    and perform an F-test to determine if the variances are equal.\n",
    "\n",
    "    Parameters:\n",
    "        sample1_var (float): Variance of the first sample distribution.\n",
    "        sample2_var (float): Variance of the second sample distribution.\n",
    "        sample_size (int): Size of each sample.\n",
    "\n",
    "    Returns:\n",
    "        f_value (float): The calculated F-value.\n",
    "        df_num (int): Degrees of freedom for the numerator.\n",
    "        df_den (int): Degrees of freedom for the denominator.\n",
    "        p_value (float): The corresponding p-value for the test.\n",
    "    \"\"\"\n",
    "    # Generate random samples from two normal distributions\n",
    "    np.random.seed(42)  # For reproducibility\n",
    "    sample1 = np.random.normal(loc=0, scale=np.sqrt(sample1_var), size=sample_size)\n",
    "    sample2 = np.random.normal(loc=0, scale=np.sqrt(sample2_var), size=sample_size)\n",
    "\n",
    "    # Perform the F-test to compare variances\n",
    "    f_value, p_value = stats.f_oneway(sample1, sample2)\n",
    "\n",
    "    # Degrees of freedom for the F-test\n",
    "    df_num = 1\n",
    "    df_den = 2 * (sample_size - 1)\n",
    "\n",
    "    return f_value, df_num, df_den, p_value\n",
    "\n",
    "# Example usage\n",
    "sample1_var = 9.0  # Variance of the first sample distribution\n",
    "sample2_var = 16.0  # Variance of the second sample distribution\n",
    "sample_size = 30  # Size of each sample\n",
    "\n",
    "# Call the function to perform the F-test\n",
    "f_value, df_num, df_den, p_value = equal_variances_test(sample1_var, sample2_var, sample_size)\n",
    "\n",
    "# Display the results\n",
    "print(\"F-value:\", f_value)\n",
    "print(\"Degrees of Freedom (numerator):\", df_num)\n",
    "print(\"Degrees of Freedom (denominator):\", df_den)\n",
    "print(\"p-value:\", p_value)\n"
   ]
  },
  {
   "cell_type": "markdown",
   "id": "03ad4f27-2957-4896-aa4b-beef1c61501d",
   "metadata": {},
   "source": [
    "Q4.The variances of two populations are known to be 10 and 15. A sample of 12 observations is taken from\n",
    "each population. Conduct an F-test at the 5% significance level to determine if the variances are\n",
    "significantly different."
   ]
  },
  {
   "cell_type": "code",
   "execution_count": 6,
   "id": "89afe634-e28d-4564-bb6c-d2e0209c5d97",
   "metadata": {},
   "outputs": [
    {
     "name": "stdout",
     "output_type": "stream",
     "text": [
      "F-value: 0.6666666666666666\n",
      "p-value: 0.5123897987357996\n",
      "Are variances equal? True\n"
     ]
    }
   ],
   "source": [
    "import scipy.stats as stats\n",
    "\n",
    "def f_test_equal_variances(sample_var1, sample_var2, sample_size1, sample_size2, alpha=0.05):\n",
    "    \"\"\"\n",
    "    Perform an F-test to compare the variances of two populations.\n",
    "\n",
    "    Parameters:\n",
    "        sample_var1 (float): Variance of the first sample.\n",
    "        sample_var2 (float): Variance of the second sample.\n",
    "        sample_size1 (int): Size of the first sample.\n",
    "        sample_size2 (int): Size of the second sample.\n",
    "        alpha (float, optional): Significance level. Default is 0.05.\n",
    "\n",
    "    Returns:\n",
    "        f_value (float): The calculated F-value.\n",
    "        p_value (float): The corresponding p-value for the test.\n",
    "        is_equal (bool): True if variances are equal, False otherwise.\n",
    "    \"\"\"\n",
    "    # Calculate the F-value\n",
    "    f_value = sample_var1 / sample_var2\n",
    "\n",
    "    # Degrees of freedom\n",
    "    df1 = sample_size1 - 1\n",
    "    df2 = sample_size2 - 1\n",
    "\n",
    "    # Calculate the p-value for the F-test\n",
    "    p_value = 2 * min(stats.f.cdf(f_value, df1, df2), 1 - stats.f.cdf(f_value, df1, df2))\n",
    "\n",
    "    # Compare p-value with the significance level (alpha)\n",
    "    is_equal = p_value > alpha\n",
    "\n",
    "    return f_value, p_value, is_equal\n",
    "\n",
    "# Given data\n",
    "sample_var1 = 10  # Variance of the first sample\n",
    "sample_var2 = 15  # Variance of the second sample\n",
    "sample_size1 = 12  # Size of the first sample\n",
    "sample_size2 = 12  # Size of the second sample\n",
    "\n",
    "# Significance level\n",
    "alpha = 0.05\n",
    "\n",
    "# Perform the F-test\n",
    "f_value, p_value, is_equal = f_test_equal_variances(sample_var1, sample_var2, sample_size1, sample_size2, alpha)\n",
    "\n",
    "# Display the results\n",
    "print(\"F-value:\", f_value)\n",
    "print(\"p-value:\", p_value)\n",
    "print(\"Are variances equal?\", is_equal)\n"
   ]
  },
  {
   "cell_type": "markdown",
   "id": "8878d6fe-0a33-42e3-a6ce-d260a44c2504",
   "metadata": {},
   "source": [
    "Q5. A manufacturer claims that the variance of the diameter of a certain product is 0.005. A sample of 25\n",
    "products is taken, and the sample variance is found to be 0.006. Conduct an F-test at the 1% significance\n",
    "level to determine if the claim is justified."
   ]
  },
  {
   "cell_type": "code",
   "execution_count": 7,
   "id": "ad9b288b-3150-4414-870c-b33f8627cc31",
   "metadata": {},
   "outputs": [
    {
     "name": "stdout",
     "output_type": "stream",
     "text": [
      "F-value: 1.2\n",
      "p-value: 0.7407800760081285\n",
      "Is the claim justified? True\n"
     ]
    }
   ],
   "source": [
    "import scipy.stats as stats\n",
    "\n",
    "def f_test_variance_claim(sample_variance, sample_size, claimed_variance, alpha=0.01):\n",
    "    \"\"\"\n",
    "    Perform an F-test to compare the sample variance to a claimed population variance.\n",
    "\n",
    "    Parameters:\n",
    "        sample_variance (float): The sample variance.\n",
    "        sample_size (int): Size of the sample.\n",
    "        claimed_variance (float): The claimed population variance.\n",
    "        alpha (float, optional): Significance level. Default is 0.01.\n",
    "\n",
    "    Returns:\n",
    "        f_value (float): The calculated F-value.\n",
    "        p_value (float): The corresponding p-value for the test.\n",
    "        is_claim_justified (bool): True if the claim is justified, False otherwise.\n",
    "    \"\"\"\n",
    "    # Calculate the F-value\n",
    "    f_value = sample_variance / claimed_variance\n",
    "\n",
    "    # Degrees of freedom\n",
    "    df1 = sample_size - 1\n",
    "    df2 = 1\n",
    "\n",
    "    # Calculate the p-value for the F-test\n",
    "    p_value = 2 * min(stats.f.cdf(f_value, df1, df2), 1 - stats.f.cdf(f_value, df1, df2))\n",
    "\n",
    "    # Compare p-value with the significance level (alpha)\n",
    "    is_claim_justified = p_value > alpha\n",
    "\n",
    "    return f_value, p_value, is_claim_justified\n",
    "\n",
    "# Given data\n",
    "sample_variance = 0.006  # Sample variance\n",
    "sample_size = 25  # Size of the sample\n",
    "claimed_variance = 0.005  # Claimed population variance\n",
    "\n",
    "# Significance level\n",
    "alpha = 0.01\n",
    "\n",
    "# Perform the F-test\n",
    "f_value, p_value, is_claim_justified = f_test_variance_claim(sample_variance, sample_size, claimed_variance, alpha)\n",
    "\n",
    "# Display the results\n",
    "print(\"F-value:\", f_value)\n",
    "print(\"p-value:\", p_value)\n",
    "print(\"Is the claim justified?\", is_claim_justified)\n"
   ]
  },
  {
   "cell_type": "markdown",
   "id": "8b459cf5-b75e-4ea3-ad94-ee192e10e7a8",
   "metadata": {},
   "source": [
    "Q6. Write a Python function that takes in the degrees of freedom for the numerator and denominator of an\n",
    "F-distribution and calculates the mean and variance of the distribution. The function should return the\n",
    "mean and variance as a tuple."
   ]
  },
  {
   "cell_type": "code",
   "execution_count": 8,
   "id": "b04a7fb1-86a3-4018-b04a-4c91110908e0",
   "metadata": {},
   "outputs": [
    {
     "name": "stdout",
     "output_type": "stream",
     "text": [
      "Mean of F-distribution: 1.25\n",
      "Variance of F-distribution: 1.9097222222222223\n"
     ]
    }
   ],
   "source": [
    "def f_distribution_mean_variance(df_num, df_den):\n",
    "    \"\"\"\n",
    "    Calculate the mean and variance of an F-distribution.\n",
    "\n",
    "    Parameters:\n",
    "        df_num (int): Degrees of freedom for the numerator.\n",
    "        df_den (int): Degrees of freedom for the denominator.\n",
    "\n",
    "    Returns:\n",
    "        mean (float): Mean of the F-distribution.\n",
    "        variance (float): Variance of the F-distribution.\n",
    "    \"\"\"\n",
    "    # Calculate the mean of the F-distribution\n",
    "    mean = df_den / (df_den - 2)\n",
    "\n",
    "    # Calculate the variance of the F-distribution\n",
    "    variance = (2 * (df_den ** 2) * (df_num + df_den - 2)) / (df_num * (df_den - 2) ** 2 * (df_den - 4))\n",
    "\n",
    "    return mean, variance\n",
    "# Example degrees of freedom\n",
    "df_num = 3\n",
    "df_den = 10\n",
    "\n",
    "# Call the function to calculate the mean and variance of the F-distribution\n",
    "mean, variance = f_distribution_mean_variance(df_num, df_den)\n",
    "\n",
    "# Display the results\n",
    "print(\"Mean of F-distribution:\", mean)\n",
    "print(\"Variance of F-distribution:\", variance)\n"
   ]
  },
  {
   "cell_type": "markdown",
   "id": "4518d020-435c-4483-a809-1e121cf71a1d",
   "metadata": {},
   "source": [
    "Q7. A random sample of 10 measurements is taken from a normal population with unknown variance. The\n",
    "sample variance is found to be 25. Another random sample of 15 measurements is taken from another\n",
    "normal population with unknown variance, and the sample variance is found to be 20. Conduct an F-test\n",
    "at the 10% significance level to determine if the variances are significantly different."
   ]
  },
  {
   "cell_type": "code",
   "execution_count": 9,
   "id": "db505c39-6fc9-4aca-a73f-bd953558af21",
   "metadata": {},
   "outputs": [
    {
     "name": "stdout",
     "output_type": "stream",
     "text": [
      "F-value: 1.25\n",
      "p-value: 0.6832194382585954\n",
      "Are variances significantly different? False\n"
     ]
    }
   ],
   "source": [
    "import scipy.stats as stats\n",
    "\n",
    "def f_test_unequal_variances(sample_var1, sample_size1, sample_var2, sample_size2, alpha=0.10):\n",
    "    \"\"\"\n",
    "    Perform an F-test to compare the sample variances of two populations.\n",
    "\n",
    "    Parameters:\n",
    "        sample_var1 (float): The sample variance of the first population.\n",
    "        sample_size1 (int): Size of the first sample.\n",
    "        sample_var2 (float): The sample variance of the second population.\n",
    "        sample_size2 (int): Size of the second sample.\n",
    "        alpha (float, optional): Significance level. Default is 0.10.\n",
    "\n",
    "    Returns:\n",
    "        f_value (float): The calculated F-value.\n",
    "        p_value (float): The corresponding p-value for the test.\n",
    "        is_different (bool): True if variances are significantly different, False otherwise.\n",
    "    \"\"\"\n",
    "    # Calculate the F-value\n",
    "    f_value = sample_var1 / sample_var2\n",
    "\n",
    "    # Degrees of freedom\n",
    "    df1 = sample_size1 - 1\n",
    "    df2 = sample_size2 - 1\n",
    "\n",
    "    # Calculate the p-value for the F-test\n",
    "    p_value = 2 * min(stats.f.cdf(f_value, df1, df2), 1 - stats.f.cdf(f_value, df1, df2))\n",
    "\n",
    "    # Compare p-value with the significance level (alpha)\n",
    "    is_different = p_value < alpha\n",
    "\n",
    "    return f_value, p_value, is_different\n",
    "\n",
    "# Given data\n",
    "sample_var1 = 25  # Sample variance of the first population\n",
    "sample_size1 = 10  # Size of the first sample\n",
    "sample_var2 = 20  # Sample variance of the second population\n",
    "sample_size2 = 15  # Size of the second sample\n",
    "\n",
    "# Significance level\n",
    "alpha = 0.10\n",
    "\n",
    "# Perform the F-test\n",
    "f_value, p_value, is_different = f_test_unequal_variances(sample_var1, sample_size1, sample_var2, sample_size2, alpha)\n",
    "\n",
    "# Display the results\n",
    "print(\"F-value:\", f_value)\n",
    "print(\"p-value:\", p_value)\n",
    "print(\"Are variances significantly different?\", is_different)\n"
   ]
  },
  {
   "cell_type": "markdown",
   "id": "a99ab3b5-3977-442e-b6e2-8df14288fc4d",
   "metadata": {},
   "source": [
    "Q8. The following data represent the waiting times in minutes at two different restaurants on a Saturday\n",
    "night: Restaurant A: 24, 25, 28, 23, 22, 20, 27; Restaurant B: 31, 33, 35, 30, 32, 36. Conduct an F-test at the 5%\n",
    "significance level to determine if the variances are significantly different."
   ]
  },
  {
   "cell_type": "code",
   "execution_count": 10,
   "id": "001e7a4f-a1eb-4709-aae7-d1d4bbf947f0",
   "metadata": {},
   "outputs": [
    {
     "name": "stdout",
     "output_type": "stream",
     "text": [
      "F-value: 1.4551907719609583\n",
      "p-value: 0.6974815747937484\n",
      "Are variances significantly different? False\n"
     ]
    }
   ],
   "source": [
    "import numpy as np\n",
    "import scipy.stats as stats\n",
    "\n",
    "def f_test_variances(data1, data2, alpha=0.05):\n",
    "    \"\"\"\n",
    "    Perform an F-test to compare the variances of two groups of data.\n",
    "\n",
    "    Parameters:\n",
    "        data1 (array-like): Data from the first group (e.g., waiting times at Restaurant A).\n",
    "        data2 (array-like): Data from the second group (e.g., waiting times at Restaurant B).\n",
    "        alpha (float, optional): Significance level. Default is 0.05.\n",
    "\n",
    "    Returns:\n",
    "        f_value (float): The calculated F-value.\n",
    "        p_value (float): The corresponding p-value for the test.\n",
    "        is_different (bool): True if variances are significantly different, False otherwise.\n",
    "    \"\"\"\n",
    "    # Convert data to NumPy arrays\n",
    "    data1 = np.array(data1)\n",
    "    data2 = np.array(data2)\n",
    "\n",
    "    # Calculate the sample variances\n",
    "    sample_var1 = np.var(data1, ddof=1)\n",
    "    sample_var2 = np.var(data2, ddof=1)\n",
    "\n",
    "    # Calculate the F-value\n",
    "    f_value = sample_var1 / sample_var2\n",
    "\n",
    "    # Degrees of freedom\n",
    "    df1 = len(data1) - 1\n",
    "    df2 = len(data2) - 1\n",
    "\n",
    "    # Calculate the p-value for the F-test\n",
    "    p_value = 2 * min(stats.f.cdf(f_value, df1, df2), 1 - stats.f.cdf(f_value, df1, df2))\n",
    "\n",
    "    # Compare p-value with the significance level (alpha)\n",
    "    is_different = p_value < alpha\n",
    "\n",
    "    return f_value, p_value, is_different\n",
    "\n",
    "# Waiting times at Restaurant A\n",
    "data_restaurant_a = [24, 25, 28, 23, 22, 20, 27]\n",
    "\n",
    "# Waiting times at Restaurant B\n",
    "data_restaurant_b = [31, 33, 35, 30, 32, 36]\n",
    "\n",
    "# Significance level\n",
    "alpha = 0.05\n",
    "\n",
    "# Perform the F-test\n",
    "f_value, p_value, is_different = f_test_variances(data_restaurant_a, data_restaurant_b, alpha)\n",
    "\n",
    "# Display the results\n",
    "print(\"F-value:\", f_value)\n",
    "print(\"p-value:\", p_value)\n",
    "print(\"Are variances significantly different?\", is_different)\n"
   ]
  },
  {
   "cell_type": "markdown",
   "id": "09dffdd3-0ee8-41d7-9499-e5d5a55622b3",
   "metadata": {},
   "source": [
    "Q9. The following data represent the test scores of two groups of students: Group A: 80, 85, 90, 92, 87, 83;\n",
    "Group B: 75, 78, 82, 79, 81, 84. Conduct an F-test at the 1% significance level to determine if the variances\n",
    "are significantly different."
   ]
  },
  {
   "cell_type": "code",
   "execution_count": 11,
   "id": "a6b5a66c-d956-45a4-b6e1-a85c85e08cbf",
   "metadata": {},
   "outputs": [
    {
     "name": "stdout",
     "output_type": "stream",
     "text": [
      "F-value: 1.9442622950819677\n",
      "p-value: 0.4831043549070688\n",
      "Are variances significantly different? False\n"
     ]
    }
   ],
   "source": [
    "import numpy as np\n",
    "import scipy.stats as stats\n",
    "\n",
    "def f_test_variances(data1, data2, alpha=0.01):\n",
    "    \"\"\"\n",
    "    Perform an F-test to compare the variances of two groups of data.\n",
    "\n",
    "    Parameters:\n",
    "        data1 (array-like): Data from the first group (e.g., test scores for Group A).\n",
    "        data2 (array-like): Data from the second group (e.g., test scores for Group B).\n",
    "        alpha (float, optional): Significance level. Default is 0.01.\n",
    "\n",
    "    Returns:\n",
    "        f_value (float): The calculated F-value.\n",
    "        p_value (float): The corresponding p-value for the test.\n",
    "        is_different (bool): True if variances are significantly different, False otherwise.\n",
    "    \"\"\"\n",
    "    # Convert data to NumPy arrays\n",
    "    data1 = np.array(data1)\n",
    "    data2 = np.array(data2)\n",
    "\n",
    "    # Calculate the sample variances\n",
    "    sample_var1 = np.var(data1, ddof=1)\n",
    "    sample_var2 = np.var(data2, ddof=1)\n",
    "\n",
    "    # Calculate the F-value\n",
    "    f_value = sample_var1 / sample_var2\n",
    "\n",
    "    # Degrees of freedom\n",
    "    df1 = len(data1) - 1\n",
    "    df2 = len(data2) - 1\n",
    "\n",
    "    # Calculate the p-value for the F-test\n",
    "    p_value = 2 * min(stats.f.cdf(f_value, df1, df2), 1 - stats.f.cdf(f_value, df1, df2))\n",
    "\n",
    "    # Compare p-value with the significance level (alpha)\n",
    "    is_different = p_value < alpha\n",
    "\n",
    "    return f_value, p_value, is_different\n",
    "\n",
    "# Test scores for Group A\n",
    "data_group_a = [80, 85, 90, 92, 87, 83]\n",
    "\n",
    "# Test scores for Group B\n",
    "data_group_b = [75, 78, 82, 79, 81, 84]\n",
    "\n",
    "# Significance level\n",
    "alpha = 0.01\n",
    "\n",
    "# Perform the F-test\n",
    "f_value, p_value, is_different = f_test_variances(data_group_a, data_group_b, alpha)\n",
    "\n",
    "# Display the results\n",
    "print(\"F-value:\", f_value)\n",
    "print(\"p-value:\", p_value)\n",
    "print(\"Are variances significantly different?\", is_different)\n"
   ]
  },
  {
   "cell_type": "code",
   "execution_count": null,
   "id": "c30fd502-385a-4bea-8c5a-d146473308f0",
   "metadata": {},
   "outputs": [],
   "source": []
  }
 ],
 "metadata": {
  "kernelspec": {
   "display_name": "Python 3 (ipykernel)",
   "language": "python",
   "name": "python3"
  },
  "language_info": {
   "codemirror_mode": {
    "name": "ipython",
    "version": 3
   },
   "file_extension": ".py",
   "mimetype": "text/x-python",
   "name": "python",
   "nbconvert_exporter": "python",
   "pygments_lexer": "ipython3",
   "version": "3.10.8"
  }
 },
 "nbformat": 4,
 "nbformat_minor": 5
}
