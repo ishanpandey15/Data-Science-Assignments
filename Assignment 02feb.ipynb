{
 "cells": [
  {
   "cell_type": "markdown",
   "id": "a6e90bb0-8a60-4286-b442-621ce2124249",
   "metadata": {},
   "source": [
    "Q1. Explain with an example each when to use a for loop and a while loop."
   ]
  },
  {
   "cell_type": "markdown",
   "id": "8a592388-5ce3-4bfb-aa0a-7747f6a5848e",
   "metadata": {},
   "source": [
    "A for loop is typically used when you know the exact number of iterations or the range of values you want to iterate over.\n",
    "\n",
    "\n",
    "     Example: Printing numbers from 1 to 5 using a for loop\n",
    "     for i in range(1, 6):\n",
    "       print(i)\n",
    "\n",
    "    \n",
    "    In this example, we use a for loop to iterate over the range of numbers from 1 to 5. The loop executes\n",
    "    exactly five times,\n",
    "    printing the values 1, 2, 3, 4, and 5.\n",
    "    The for loop is a good choice when you have a specific sequence or range and want to\n",
    "    perform a repetitive task for each item.\n",
    "    \n",
    "    \n",
    "    \n",
    "    \n",
    "    \n",
    "    A while loop is generally used when you want to repeat a block of code until a certain condition is no longer true.\n",
    "    \n",
    "    # Example: Counting down from 10 using a while loop\n",
    "count = 10\n",
    "while count > 0:\n",
    "    print(count)\n",
    "    count -= 1\n",
    "    \n",
    "    \n",
    "    In this example, we use a while loop to repeatedly print the value of the \"count\" variable while it is greater than 0.  The loop decrements the value of \"count\" by 1 with each iteration until it reaches 0. The while loop is useful when you have a condition that determines when to stop executing the loop, and the number of iterations is uncertain or depends on changing conditions.\n",
    "\n",
    "To summarize, use a for loop when you have a known number of iterations or a specific sequence to iterate over, and use a while loop when you want to repeat a block of code until a certain condition is met or no longer true.\n"
   ]
  },
  {
   "cell_type": "markdown",
   "id": "c89b6553-0e34-4a64-af4f-2150ae26c28c",
   "metadata": {},
   "source": [
    "Q2. Write a python program to print the sum and product of the first 10 natural numbers using for\n",
    "and while loop."
   ]
  },
  {
   "cell_type": "code",
   "execution_count": 3,
   "id": "733ba681-dcfa-4580-a62f-31c3e127e226",
   "metadata": {},
   "outputs": [
    {
     "name": "stdout",
     "output_type": "stream",
     "text": [
      "Sum using for loop: 55\n",
      "Product using for loop: 3628800\n"
     ]
    }
   ],
   "source": [
    "# Using a for loop to calculate sum and product\n",
    "numbers = range(1, 11)\n",
    "sum_result = 0\n",
    "product_result = 1\n",
    "\n",
    "for num in numbers:\n",
    "    sum_result += num\n",
    "    product_result *= num\n",
    "\n",
    "print(\"Sum using for loop:\", sum_result)\n",
    "print(\"Product using for loop:\", product_result)\n"
   ]
  },
  {
   "cell_type": "code",
   "execution_count": 4,
   "id": "1214d591-4674-4c3c-88e0-343e6ef8e77f",
   "metadata": {
    "tags": []
   },
   "outputs": [
    {
     "name": "stdout",
     "output_type": "stream",
     "text": [
      "Sum using while loop: 55\n",
      "Product using while loop: 3628800\n"
     ]
    }
   ],
   "source": [
    "# Using a while loop to calculate sum and product\n",
    "count = 1\n",
    "sum_result = 0\n",
    "product_result = 1\n",
    "\n",
    "while count <= 10:\n",
    "    sum_result += count\n",
    "    product_result *= count\n",
    "    count += 1\n",
    "\n",
    "print(\"Sum using while loop:\", sum_result)\n",
    "print(\"Product using while loop:\", product_result)\n"
   ]
  },
  {
   "cell_type": "markdown",
   "id": "d1af18b7-f65d-48d8-9ea0-e207e0d7bb96",
   "metadata": {},
   "source": [
    "Q3. Create a python program to compute the electricity bill of a household\n",
    "\n",
    "The per-unit charges in rupees are as follows: For the first 100 units, the user will be charged Rs. 4.5 per\n",
    "unit, for the next 100 units, the user will be charged Rs. 6 per unit, and for the next 100 units, the user will\n",
    "be charged Rs. 10 per unit, After 300 units and above the user will be charged Rs. 20 per unit.\n",
    "You are required to take the units of electricity consumed in a month from the user as input.\n",
    "Your program must pass this test case: when the unit of electricity consumed by the user in a month is\n",
    "310, the total electricity bill should be 2250."
   ]
  },
  {
   "cell_type": "code",
   "execution_count": 6,
   "id": "c21cbc2c-e6a6-44c7-90c1-54260f4cdd58",
   "metadata": {},
   "outputs": [
    {
     "name": "stdin",
     "output_type": "stream",
     "text": [
      "Enter units you have consumed- 1233\n"
     ]
    },
    {
     "name": "stdout",
     "output_type": "stream",
     "text": [
      "Your electricity per unit charge is 20 Rs\n"
     ]
    }
   ],
   "source": [
    "uc = int(input(\"Enter units you have consumed-\"))   # uc = units consumed\n",
    "if uc<=100:\n",
    "    print(\"your electricity per unit charge is 4.5 Rs\")\n",
    "elif uc> 100 and uc<=200:\n",
    "    print(\"Your electricity per unit charge is 6 Rs \")\n",
    "elif uc>200 and uc<=300:\n",
    "     print(\"Your electricity per unit charge is 10 Rs\")\n",
    "else:\n",
    "     print(\"Your electricity per unit charge is 20 Rs\") "
   ]
  },
  {
   "cell_type": "markdown",
   "id": "ea074ee8-c014-40fc-97ff-b9b2e7c59995",
   "metadata": {},
   "source": [
    "Q4. Create a list of numbers from 1 to 100. Use for loop and while loop to calculate the cube of each\n",
    "number and if the cube of that number is divisible by 4 or 5 then append that number in a list and print\n",
    "that list."
   ]
  },
  {
   "cell_type": "code",
   "execution_count": 7,
   "id": "a4f541fd-59f7-4fb5-b298-4bcd1615e704",
   "metadata": {},
   "outputs": [
    {
     "name": "stdout",
     "output_type": "stream",
     "text": [
      "[2, 4, 5, 6, 8, 10, 12, 14, 15, 16, 18, 20, 22, 24, 25, 26, 28, 30, 32, 34, 35, 36, 38, 40, 42, 44, 45, 46, 48, 50, 52, 54, 55, 56, 58, 60, 62, 64, 65, 66, 68, 70, 72, 74, 75, 76, 78, 80, 82, 84, 85, 86, 88, 90, 92, 94, 95, 96, 98, 100]\n"
     ]
    }
   ],
   "source": [
    "# Using a for loop\n",
    "numbers = list(range(1, 101))  # Create a list of numbers from 1 to 100\n",
    "result_list = []\n",
    "\n",
    "for num in numbers:\n",
    "    cube = num ** 3\n",
    "    if cube % 4 == 0 or cube % 5 == 0:\n",
    "        result_list.append(num)\n",
    "\n",
    "print(result_list)\n"
   ]
  },
  {
   "cell_type": "code",
   "execution_count": 8,
   "id": "3e88f62a-3b21-4022-827e-e49cbc66868c",
   "metadata": {},
   "outputs": [
    {
     "name": "stdout",
     "output_type": "stream",
     "text": [
      "[2, 4, 5, 6, 8, 10, 12, 14, 15, 16, 18, 20, 22, 24, 25, 26, 28, 30, 32, 34, 35, 36, 38, 40, 42, 44, 45, 46, 48, 50, 52, 54, 55, 56, 58, 60, 62, 64, 65, 66, 68, 70, 72, 74, 75, 76, 78, 80, 82, 84, 85, 86, 88, 90, 92, 94, 95, 96, 98, 100]\n"
     ]
    }
   ],
   "source": [
    "# Using a while loop\n",
    "numbers = list(range(1, 101))  # Create a list of numbers from 1 to 100\n",
    "result_list = []\n",
    "\n",
    "i = 0\n",
    "while i < len(numbers):\n",
    "    num = numbers[i]\n",
    "    cube = num ** 3\n",
    "    if cube % 4 == 0 or cube % 5 == 0:\n",
    "        result_list.append(num)\n",
    "    i += 1\n",
    "\n",
    "print(result_list)\n"
   ]
  },
  {
   "cell_type": "markdown",
   "id": "45badbbd-9798-41af-9b14-d8c337f36714",
   "metadata": {},
   "source": [
    "Q5. Write a program to filter count vowels in the below-given string.\n",
    "string = \"I want to become a data scientist\""
   ]
  },
  {
   "cell_type": "code",
   "execution_count": null,
   "id": "104cfc56-bd0f-4914-ae08-bf517a1a6bc2",
   "metadata": {},
   "outputs": [],
   "source": []
  }
 ],
 "metadata": {
  "kernelspec": {
   "display_name": "Python 3 (ipykernel)",
   "language": "python",
   "name": "python3"
  },
  "language_info": {
   "codemirror_mode": {
    "name": "ipython",
    "version": 3
   },
   "file_extension": ".py",
   "mimetype": "text/x-python",
   "name": "python",
   "nbconvert_exporter": "python",
   "pygments_lexer": "ipython3",
   "version": "3.10.8"
  }
 },
 "nbformat": 4,
 "nbformat_minor": 5
} 
last question ka answer maine kra pr show he nhi hora github m why?
